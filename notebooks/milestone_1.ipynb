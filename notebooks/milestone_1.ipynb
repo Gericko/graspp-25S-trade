{
 "cells": [
  {
   "cell_type": "code",
   "id": "initial_id",
   "metadata": {
    "collapsed": true
   },
   "source": [
    "%load_ext autoreload\n",
    "%autoreload 2"
   ],
   "outputs": [],
   "execution_count": null
  },
  {
   "metadata": {},
   "cell_type": "code",
   "source": [
    "import sys\n",
    "from pathlib import Path\n",
    "\n",
    "sys.path.append(str(Path().resolve().parent / \"src\"))"
   ],
   "id": "5f0b4d55aa6a27",
   "outputs": [],
   "execution_count": null
  },
  {
   "metadata": {},
   "cell_type": "code",
   "source": [
    "import pandas as pd\n",
    "from api_wrappers import get_industry_employment_data, oecd_api_wrapper\n",
    "\n",
    "df_ilo = get_industry_employment_data(start_year=2000, end_year=2023, output_filename=\"ilo_data_raw.csv\")\n",
    "df_ilo.head(2)"
   ],
   "id": "ab3aeb345a3ff33d",
   "outputs": [],
   "execution_count": null
  },
  {
   "metadata": {},
   "cell_type": "code",
   "source": "df_ilo.ref_area.unique()",
   "id": "5491aa64dd874dc6",
   "outputs": [],
   "execution_count": null
  },
  {
   "metadata": {},
   "cell_type": "code",
   "source": [
    "df_ilo_extract = df_ilo.loc[df_ilo.ref_area.isin([\"USA\", \"FRA\"]), [\"ref_area\", \"time\", \"obs_value\"]]\n",
    "df_ilo_extract.head(2)"
   ],
   "id": "79aa91f8af0e1b36",
   "outputs": [],
   "execution_count": null
  },
  {
   "metadata": {},
   "cell_type": "code",
   "source": [
    "def_ilo_renamed = df_ilo_extract.rename({\"ref_area\": \"country\", \"time\": \"year\", \"obs_value\": \"ILO\"}, axis=\"columns\")\n",
    "df_ilo_clean = def_ilo_renamed.set_index([\"country\", \"year\"])\n",
    "df_ilo_clean.head(2)"
   ],
   "id": "29618bda6c3541b3",
   "outputs": [],
   "execution_count": null
  },
  {
   "metadata": {},
   "cell_type": "code",
   "source": [
    "# https://data-explorer.oecd.org/vis?fs[0]=T%2Co&pg=0&fc=Topic&bp=true&snb=68&df[ds]=dsDisseminateFinalDMZ&df[id]=DSD_ALFS%2540DF_SUMTAB&df[ag]=OECD.SDD.TPS&df[vs]=1.0&dq=........A&pd=%2C&to[TIME_PERIOD]=false&vw=ov\n",
    "df_oecd = oecd_api_wrapper(\n",
    "    agency_id=\"OECD.SDD.TPS\",\n",
    "    dataflow_id=\"DSD_ALFS%40DF_SUMTAB\",\n",
    "    dataflow_ver=\"1.0\",\n",
    "    dimensions=[\"all\", \"EMP\", \"PS\", \"all\", \"_T\", \"all\", \"all\", \"BTE\", \"A\"],\n",
    "    startPeriod=2000,\n",
    "    endPeriod=2023,\n",
    "    dimensionAtObservation=\"AllDimensions\",\n",
    "    format=\"csv\",\n",
    "    output_filename=\"oecd_data_raw.csv\",\n",
    ")\n",
    "df_oecd.head(2)"
   ],
   "id": "e42032b4e1c238f8",
   "outputs": [],
   "execution_count": null
  },
  {
   "metadata": {},
   "cell_type": "code",
   "source": "df_oecd.REF_AREA.unique()",
   "id": "3372c9eb1ee3a20a",
   "outputs": [],
   "execution_count": null
  },
  {
   "metadata": {},
   "cell_type": "code",
   "source": [
    "df_oecd_extract = df_oecd.loc[df_oecd.REF_AREA.isin([\"USA\", \"FRA\"]), [\"REF_AREA\", \"TIME_PERIOD\", \"OBS_VALUE\"]]\n",
    "df_oecd_extract.head(2)"
   ],
   "id": "cd733cdae8dafa58",
   "outputs": [],
   "execution_count": null
  },
  {
   "metadata": {},
   "cell_type": "code",
   "source": [
    "df_oecd_renamed = df_oecd_extract.rename({\"REF_AREA\": \"country\", \"TIME_PERIOD\": \"year\", \"OBS_VALUE\": \"OECD\"}, axis=\"columns\")\n",
    "df_oecd_clean = df_oecd_renamed.set_index([\"country\", \"year\"])\n",
    "df_oecd_clean.head(2)"
   ],
   "id": "1ce1645e8ecd9062",
   "outputs": [],
   "execution_count": null
  },
  {
   "metadata": {},
   "cell_type": "code",
   "source": [
    "df_merge = pd.merge(\n",
    "    df_ilo_clean,\n",
    "    df_oecd_clean,\n",
    "    right_index = True,\n",
    "    left_index = True,\n",
    "    how = 'inner'\n",
    ")\n",
    "df_merge.head(2)"
   ],
   "id": "25fe5c66102a40c2",
   "outputs": [],
   "execution_count": null
  },
  {
   "metadata": {},
   "cell_type": "code",
   "source": [
    "df_melt = pd.melt(df_merge.reset_index(), id_vars=[\"country\", \"year\"], value_vars=[\"ILO\", \"OECD\"], var_name=\"source\", value_name=\"employment\")\n",
    "df_melt.head(2)"
   ],
   "id": "acb51616eeaba662",
   "outputs": [],
   "execution_count": null
  },
  {
   "metadata": {},
   "cell_type": "code",
   "source": [
    "import matplotlib.pyplot as plt\n",
    "import seaborn as sns\n",
    "\n",
    "sns.relplot(data=df_melt, x=\"year\", y=\"employment\", hue=\"source\", col=\"country\", kind=\"line\", facet_kws={'sharey': False})"
   ],
   "id": "a2f17441b83ec38e",
   "outputs": [],
   "execution_count": null
  },
  {
   "metadata": {},
   "cell_type": "code",
   "source": "",
   "id": "387f112cb8c047",
   "outputs": [],
   "execution_count": null
  }
 ],
 "metadata": {
  "kernelspec": {
   "display_name": "Python 3",
   "language": "python",
   "name": "python3"
  },
  "language_info": {
   "codemirror_mode": {
    "name": "ipython",
    "version": 2
   },
   "file_extension": ".py",
   "mimetype": "text/x-python",
   "name": "python",
   "nbconvert_exporter": "python",
   "pygments_lexer": "ipython2",
   "version": "2.7.6"
  }
 },
 "nbformat": 4,
 "nbformat_minor": 5
}
