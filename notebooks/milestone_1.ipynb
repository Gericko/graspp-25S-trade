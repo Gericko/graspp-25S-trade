{
 "cells": [
  {
   "cell_type": "code",
   "id": "initial_id",
   "metadata": {
    "collapsed": true,
    "ExecuteTime": {
     "end_time": "2025-04-21T09:30:03.495388Z",
     "start_time": "2025-04-21T09:30:03.394405Z"
    }
   },
   "source": [
    "%load_ext autoreload\n",
    "%autoreload 2"
   ],
   "outputs": [],
   "execution_count": 1
  },
  {
   "metadata": {
    "ExecuteTime": {
     "end_time": "2025-04-21T09:33:52.086667Z",
     "start_time": "2025-04-21T09:33:49.261875Z"
    }
   },
   "cell_type": "code",
   "source": [
    "from src.api_wrappers import get_industry_employment_data\n",
    "\n",
    "df_ilo = get_industry_employment_data(start_year=2020, end_year=2024, output_filename=\"ilo_data_raw.csv\")\n",
    "df_ilo.info()"
   ],
   "id": "ab3aeb345a3ff33d",
   "outputs": [
    {
     "name": "stdout",
     "output_type": "stream",
     "text": [
      "Fetching ILO data from: https://rplumber.ilo.org/data/indicator/?id=EMP_TEMP_ECO_OCU_NB_A&timefrom=2020&timeto=2024&classif1=ECO_SECTOR_IND&classif2=OCU_SKILL_TOTAL&format=.csv\n",
      "Saving the dataset to: ilo_data_raw.csv\n",
      "<class 'pandas.core.frame.DataFrame'>\n",
      "RangeIndex: 427 entries, 0 to 426\n",
      "Data columns (total 11 columns):\n",
      " #   Column          Non-Null Count  Dtype  \n",
      "---  ------          --------------  -----  \n",
      " 0   ref_area        427 non-null    object \n",
      " 1   source          427 non-null    object \n",
      " 2   indicator       427 non-null    object \n",
      " 3   classif1        427 non-null    object \n",
      " 4   classif2        427 non-null    object \n",
      " 5   time            427 non-null    int64  \n",
      " 6   obs_value       427 non-null    float64\n",
      " 7   obs_status      33 non-null     object \n",
      " 8   note_classif    0 non-null      float64\n",
      " 9   note_indicator  34 non-null     object \n",
      " 10  note_source     427 non-null    object \n",
      "dtypes: float64(2), int64(1), object(8)\n",
      "memory usage: 36.8+ KB\n"
     ]
    }
   ],
   "execution_count": 3
  },
  {
   "metadata": {},
   "cell_type": "code",
   "outputs": [],
   "execution_count": null,
   "source": "",
   "id": "79aa91f8af0e1b36"
  }
 ],
 "metadata": {
  "kernelspec": {
   "display_name": "Python 3",
   "language": "python",
   "name": "python3"
  },
  "language_info": {
   "codemirror_mode": {
    "name": "ipython",
    "version": 2
   },
   "file_extension": ".py",
   "mimetype": "text/x-python",
   "name": "python",
   "nbconvert_exporter": "python",
   "pygments_lexer": "ipython2",
   "version": "2.7.6"
  }
 },
 "nbformat": 4,
 "nbformat_minor": 5
}
