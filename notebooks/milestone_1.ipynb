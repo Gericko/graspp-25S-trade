{
 "cells": [
  {
   "cell_type": "code",
   "execution_count": 91,
   "id": "initial_id",
   "metadata": {
    "ExecuteTime": {
     "end_time": "2025-04-27T09:33:31.621214Z",
     "start_time": "2025-04-27T09:33:31.606692Z"
    }
   },
   "outputs": [
    {
     "name": "stdout",
     "output_type": "stream",
     "text": [
      "The autoreload extension is already loaded. To reload it, use:\n",
      "  %reload_ext autoreload\n"
     ]
    }
   ],
   "source": [
    "%load_ext autoreload\n",
    "%autoreload 2\n"
   ]
  },
  {
   "cell_type": "markdown",
   "id": "2da13b8d-80e1-4f16-8d5c-bb55a9cb20f1",
   "metadata": {},
   "source": [
    "# A. Set file path to parent directory"
   ]
  },
  {
   "cell_type": "code",
   "execution_count": 92,
   "id": "5f0b4d55aa6a27",
   "metadata": {
    "ExecuteTime": {
     "end_time": "2025-04-27T09:33:31.639292Z",
     "start_time": "2025-04-27T09:33:31.628157Z"
    }
   },
   "outputs": [],
   "source": [
    "import sys\n",
    "from pathlib import Path\n",
    "sys.path.append(str(Path().resolve().parent / \"src\"))\n",
    "import os \n",
    "os.chdir(\"../\")"
   ]
  },
  {
   "cell_type": "code",
   "execution_count": 93,
   "id": "c3fcd132",
   "metadata": {
    "ExecuteTime": {
     "end_time": "2025-04-27T09:33:31.665405Z",
     "start_time": "2025-04-27T09:33:31.654852Z"
    }
   },
   "outputs": [
    {
     "data": {
      "text/plain": [
       "PosixPath('/')"
      ]
     },
     "execution_count": 93,
     "metadata": {},
     "output_type": "execute_result"
    }
   ],
   "source": [
    "Path().resolve()"
   ]
  },
  {
   "cell_type": "markdown",
   "id": "0f8eb824-b51d-4053-b7ed-aeb936e8b64f",
   "metadata": {},
   "source": [
    "# 1. Import data from ILO"
   ]
  },
  {
   "cell_type": "markdown",
   "id": "ca5ba873-c8f8-4d0c-a4c7-b6133cd88aa5",
   "metadata": {},
   "source": [
    "## 1.A Import"
   ]
  },
  {
   "cell_type": "code",
   "execution_count": 94,
   "id": "ab3aeb345a3ff33d",
   "metadata": {
    "ExecuteTime": {
     "end_time": "2025-04-27T09:33:35.153788Z",
     "start_time": "2025-04-27T09:33:31.680498Z"
    }
   },
   "outputs": [
    {
     "name": "stdout",
     "output_type": "stream",
     "text": [
      "Fetching ILO data from: https://rplumber.ilo.org/data/indicator/?id=EMP_TEMP_ECO_OCU_NB_A&timefrom=2000&timeto=2023&classif1=ECO_SECTOR_IND&classif2=OCU_SKILL_TOTAL&format=.csv\n",
      "Saving the dataset to: ilo_data_raw.csv\n"
     ]
    },
    {
     "data": {
      "text/html": [
       "<div>\n",
       "<style scoped>\n",
       "    .dataframe tbody tr th:only-of-type {\n",
       "        vertical-align: middle;\n",
       "    }\n",
       "\n",
       "    .dataframe tbody tr th {\n",
       "        vertical-align: top;\n",
       "    }\n",
       "\n",
       "    .dataframe thead th {\n",
       "        text-align: right;\n",
       "    }\n",
       "</style>\n",
       "<table border=\"1\" class=\"dataframe\">\n",
       "  <thead>\n",
       "    <tr style=\"text-align: right;\">\n",
       "      <th></th>\n",
       "      <th>ref_area</th>\n",
       "      <th>source</th>\n",
       "      <th>indicator</th>\n",
       "      <th>classif1</th>\n",
       "      <th>classif2</th>\n",
       "      <th>time</th>\n",
       "      <th>obs_value</th>\n",
       "      <th>obs_status</th>\n",
       "      <th>note_classif</th>\n",
       "      <th>note_indicator</th>\n",
       "      <th>note_source</th>\n",
       "    </tr>\n",
       "  </thead>\n",
       "  <tbody>\n",
       "    <tr>\n",
       "      <th>0</th>\n",
       "      <td>ABW</td>\n",
       "      <td>AA:22</td>\n",
       "      <td>EMP_TEMP_ECO_OCU_NB</td>\n",
       "      <td>ECO_SECTOR_IND</td>\n",
       "      <td>OCU_SKILL_TOTAL</td>\n",
       "      <td>2010</td>\n",
       "      <td>6.738</td>\n",
       "      <td>NaN</td>\n",
       "      <td>NaN</td>\n",
       "      <td>NaN</td>\n",
       "      <td>S3:20_T2:83</td>\n",
       "    </tr>\n",
       "    <tr>\n",
       "      <th>1</th>\n",
       "      <td>AFG</td>\n",
       "      <td>BA:15715</td>\n",
       "      <td>EMP_TEMP_ECO_OCU_NB</td>\n",
       "      <td>ECO_SECTOR_IND</td>\n",
       "      <td>OCU_SKILL_TOTAL</td>\n",
       "      <td>2021</td>\n",
       "      <td>1463.372</td>\n",
       "      <td>NaN</td>\n",
       "      <td>NaN</td>\n",
       "      <td>NaN</td>\n",
       "      <td>R1:3513_S3:8</td>\n",
       "    </tr>\n",
       "  </tbody>\n",
       "</table>\n",
       "</div>"
      ],
      "text/plain": [
       "  ref_area    source            indicator        classif1         classif2  \\\n",
       "0      ABW     AA:22  EMP_TEMP_ECO_OCU_NB  ECO_SECTOR_IND  OCU_SKILL_TOTAL   \n",
       "1      AFG  BA:15715  EMP_TEMP_ECO_OCU_NB  ECO_SECTOR_IND  OCU_SKILL_TOTAL   \n",
       "\n",
       "   time  obs_value obs_status  note_classif note_indicator   note_source  \n",
       "0  2010      6.738        NaN           NaN            NaN   S3:20_T2:83  \n",
       "1  2021   1463.372        NaN           NaN            NaN  R1:3513_S3:8  "
      ]
     },
     "execution_count": 94,
     "metadata": {},
     "output_type": "execute_result"
    }
   ],
   "source": [
    "import pandas as pd\n",
    "from src.data.download_oecd_ilo import get_industry_employment_data\n",
    "\n",
    "df_ilo = get_industry_employment_data(start_year=2000, end_year=2023, output_filename=\"ilo_data_raw.csv\")\n",
    "df_ilo.head(2)"
   ]
  },
  {
   "cell_type": "markdown",
   "id": "64c24169-3979-433c-a36f-59146c4c7e0e",
   "metadata": {},
   "source": [
    "## 1.1 Inspect data"
   ]
  },
  {
   "cell_type": "code",
   "execution_count": 95,
   "id": "5491aa64dd874dc6",
   "metadata": {
    "ExecuteTime": {
     "end_time": "2025-04-27T09:33:35.202919Z",
     "start_time": "2025-04-27T09:33:35.192530Z"
    }
   },
   "outputs": [
    {
     "data": {
      "text/plain": [
       "array(['ABW', 'AFG', 'AGO', 'ALB', 'ARE', 'ARG', 'ARM', 'AUS', 'AUT',\n",
       "       'BDI', 'BEL', 'BEN', 'BFA', 'BGD', 'BGR', 'BHR', 'BHS', 'BIH',\n",
       "       'BLR', 'BLZ', 'BMU', 'BOL', 'BRA', 'BRB', 'BRN', 'BTN', 'BWA',\n",
       "       'CAN', 'CHE', 'CHL', 'CHN', 'CIV', 'CMR', 'COD', 'COG', 'COK',\n",
       "       'COL', 'COM', 'CPV', 'CRI', 'CUB', 'CYM', 'CYP', 'CZE', 'DEU',\n",
       "       'DJI', 'DNK', 'DOM', 'DZA', 'ECU', 'EGY', 'ESP', 'EST', 'ETH',\n",
       "       'FIN', 'FJI', 'FRA', 'FSM', 'GBR', 'GEO', 'GHA', 'GMB', 'GNB',\n",
       "       'GRC', 'GRD', 'GTM', 'GUY', 'HKG', 'HND', 'HRV', 'HUN', 'IDN',\n",
       "       'IMN', 'IND', 'IRL', 'IRN', 'IRQ', 'ISL', 'ISR', 'ITA', 'JAM',\n",
       "       'JOR', 'JPN', 'KEN', 'KGZ', 'KHM', 'KIR', 'KOR', 'KOS', 'LAO',\n",
       "       'LBN', 'LBR', 'LCA', 'LKA', 'LSO', 'LTU', 'LUX', 'LVA', 'MAC',\n",
       "       'MAR', 'MDA', 'MDG', 'MDV', 'MEX', 'MHL', 'MKD', 'MLI', 'MLT',\n",
       "       'MMR', 'MNE', 'MNG', 'MOZ', 'MSR', 'MUS', 'MWI', 'MYS', 'NAM',\n",
       "       'NER', 'NGA', 'NIC', 'NIU', 'NLD', 'NOR', 'NPL', 'NRU', 'OMN',\n",
       "       'PAK', 'PAN', 'PER', 'PHL', 'PLW', 'PNG', 'POL', 'PRT', 'PRY',\n",
       "       'PSE', 'QAT', 'REU', 'ROU', 'RUS', 'RWA', 'SDN', 'SEN', 'SGP',\n",
       "       'SLB', 'SLE', 'SLV', 'SOM', 'SRB', 'SSD', 'STP', 'SUR', 'SVK',\n",
       "       'SVN', 'SWE', 'SWZ', 'SYC', 'TCD', 'TGO', 'THA', 'TJK', 'TLS',\n",
       "       'TON', 'TTO', 'TUN', 'TUR', 'TUV', 'TZA', 'UGA', 'UKR', 'URY',\n",
       "       'USA', 'UZB', 'VEN', 'VNM', 'VUT', 'WLF', 'WSM', 'YEM', 'ZAF',\n",
       "       'ZMB', 'ZWE'], dtype=object)"
      ]
     },
     "execution_count": 95,
     "metadata": {},
     "output_type": "execute_result"
    }
   ],
   "source": [
    "df_ilo.ref_area.unique()"
   ]
  },
  {
   "cell_type": "markdown",
   "id": "a173114a-60c7-4bd3-be3f-3a127a09ad1a",
   "metadata": {},
   "source": [
    "## 1.2 Truncate data"
   ]
  },
  {
   "cell_type": "code",
   "execution_count": 96,
   "id": "79aa91f8af0e1b36",
   "metadata": {
    "ExecuteTime": {
     "end_time": "2025-04-27T09:33:35.239059Z",
     "start_time": "2025-04-27T09:33:35.228028Z"
    }
   },
   "outputs": [
    {
     "data": {
      "text/html": [
       "<div>\n",
       "<style scoped>\n",
       "    .dataframe tbody tr th:only-of-type {\n",
       "        vertical-align: middle;\n",
       "    }\n",
       "\n",
       "    .dataframe tbody tr th {\n",
       "        vertical-align: top;\n",
       "    }\n",
       "\n",
       "    .dataframe thead th {\n",
       "        text-align: right;\n",
       "    }\n",
       "</style>\n",
       "<table border=\"1\" class=\"dataframe\">\n",
       "  <thead>\n",
       "    <tr style=\"text-align: right;\">\n",
       "      <th></th>\n",
       "      <th>ref_area</th>\n",
       "      <th>time</th>\n",
       "      <th>obs_value</th>\n",
       "    </tr>\n",
       "  </thead>\n",
       "  <tbody>\n",
       "    <tr>\n",
       "      <th>627</th>\n",
       "      <td>FRA</td>\n",
       "      <td>2023</td>\n",
       "      <td>5453.964</td>\n",
       "    </tr>\n",
       "    <tr>\n",
       "      <th>628</th>\n",
       "      <td>FRA</td>\n",
       "      <td>2022</td>\n",
       "      <td>5389.376</td>\n",
       "    </tr>\n",
       "  </tbody>\n",
       "</table>\n",
       "</div>"
      ],
      "text/plain": [
       "    ref_area  time  obs_value\n",
       "627      FRA  2023   5453.964\n",
       "628      FRA  2022   5389.376"
      ]
     },
     "execution_count": 96,
     "metadata": {},
     "output_type": "execute_result"
    }
   ],
   "source": [
    "df_ilo_extract = df_ilo.loc[df_ilo.ref_area.isin([\"USA\", \"FRA\"]), [\"ref_area\", \"time\", \"obs_value\"]]\n",
    "df_ilo_extract.head(2)"
   ]
  },
  {
   "cell_type": "code",
   "execution_count": 97,
   "id": "29618bda6c3541b3",
   "metadata": {
    "ExecuteTime": {
     "end_time": "2025-04-27T09:33:35.286472Z",
     "start_time": "2025-04-27T09:33:35.273356Z"
    }
   },
   "outputs": [
    {
     "data": {
      "text/html": [
       "<div>\n",
       "<style scoped>\n",
       "    .dataframe tbody tr th:only-of-type {\n",
       "        vertical-align: middle;\n",
       "    }\n",
       "\n",
       "    .dataframe tbody tr th {\n",
       "        vertical-align: top;\n",
       "    }\n",
       "\n",
       "    .dataframe thead th {\n",
       "        text-align: right;\n",
       "    }\n",
       "</style>\n",
       "<table border=\"1\" class=\"dataframe\">\n",
       "  <thead>\n",
       "    <tr style=\"text-align: right;\">\n",
       "      <th></th>\n",
       "      <th></th>\n",
       "      <th>ILO</th>\n",
       "    </tr>\n",
       "    <tr>\n",
       "      <th>country</th>\n",
       "      <th>year</th>\n",
       "      <th></th>\n",
       "    </tr>\n",
       "  </thead>\n",
       "  <tbody>\n",
       "    <tr>\n",
       "      <th rowspan=\"2\" valign=\"top\">FRA</th>\n",
       "      <th>2023</th>\n",
       "      <td>5453.964</td>\n",
       "    </tr>\n",
       "    <tr>\n",
       "      <th>2022</th>\n",
       "      <td>5389.376</td>\n",
       "    </tr>\n",
       "  </tbody>\n",
       "</table>\n",
       "</div>"
      ],
      "text/plain": [
       "                   ILO\n",
       "country year          \n",
       "FRA     2023  5453.964\n",
       "        2022  5389.376"
      ]
     },
     "execution_count": 97,
     "metadata": {},
     "output_type": "execute_result"
    }
   ],
   "source": [
    "def_ilo_renamed = df_ilo_extract.rename({\"ref_area\": \"country\", \"time\": \"year\", \"obs_value\": \"ILO\"}, axis=\"columns\")\n",
    "df_ilo_clean = def_ilo_renamed.set_index([\"country\", \"year\"])\n",
    "df_ilo_clean.head(2)"
   ]
  },
  {
   "cell_type": "markdown",
   "id": "67569615-ffde-44eb-a8cc-cf9a09ba5756",
   "metadata": {},
   "source": [
    "# 2. Import data from OECD"
   ]
  },
  {
   "cell_type": "code",
   "execution_count": 98,
   "id": "6766adcd-d2f0-4a22-9542-704fb638dcc5",
   "metadata": {
    "ExecuteTime": {
     "end_time": "2025-04-27T09:33:35.336107Z",
     "start_time": "2025-04-27T09:33:35.326891Z"
    }
   },
   "outputs": [],
   "source": [
    "from src.data.download_oecd_ilo import oecd_api_wrapper"
   ]
  },
  {
   "cell_type": "code",
   "execution_count": 99,
   "id": "e42032b4e1c238f8",
   "metadata": {
    "ExecuteTime": {
     "end_time": "2025-04-27T09:33:35.597472Z",
     "start_time": "2025-04-27T09:33:35.381670Z"
    }
   },
   "outputs": [
    {
     "name": "stdout",
     "output_type": "stream",
     "text": [
      "Fetching OECD data from: https://sdmx.oecd.org/public/rest/data/OECD.SDD.TPS,DSD_ALFS%40DF_SUMTAB,1.0/.EMP.PS.._T...BTE.A?startPeriod=2000&endPeriod=2023&dimensionAtObservation=AllDimensions&format=csv\n",
      "Saving the dataset to: oecd_data_raw.csv\n"
     ]
    },
    {
     "data": {
      "text/html": [
       "<div>\n",
       "<style scoped>\n",
       "    .dataframe tbody tr th:only-of-type {\n",
       "        vertical-align: middle;\n",
       "    }\n",
       "\n",
       "    .dataframe tbody tr th {\n",
       "        vertical-align: top;\n",
       "    }\n",
       "\n",
       "    .dataframe thead th {\n",
       "        text-align: right;\n",
       "    }\n",
       "</style>\n",
       "<table border=\"1\" class=\"dataframe\">\n",
       "  <thead>\n",
       "    <tr style=\"text-align: right;\">\n",
       "      <th></th>\n",
       "      <th>You have exceeded the number of requests for data downloads or very large data ranges permitted in the OECD Data API. Please contact us through the OECD Data Explorer (https://data-explorer.oecd.org) feedback form (indicating your IP address) to request more details or exceptions.</th>\n",
       "    </tr>\n",
       "  </thead>\n",
       "  <tbody>\n",
       "  </tbody>\n",
       "</table>\n",
       "</div>"
      ],
      "text/plain": [
       "Empty DataFrame\n",
       "Columns: [You have exceeded the number of requests for data downloads or very large data ranges permitted in the OECD Data API. Please contact us through the OECD Data Explorer (https://data-explorer.oecd.org) feedback form (indicating your IP address) to request more details or exceptions.]\n",
       "Index: []"
      ]
     },
     "execution_count": 99,
     "metadata": {},
     "output_type": "execute_result"
    }
   ],
   "source": [
    "# https://data-explorer.oecd.org/vis?fs[0]=T%2Co&pg=0&fc=Topic&bp=true&snb=68&df[ds]=dsDisseminateFinalDMZ&df[id]=DSD_ALFS%2540DF_SUMTAB&df[ag]=OECD.SDD.TPS&df[vs]=1.0&dq=........A&pd=%2C&to[TIME_PERIOD]=false&vw=ov\n",
    "df_oecd = oecd_api_wrapper(\n",
    "    agency_id=\"OECD.SDD.TPS\",\n",
    "    dataflow_id=\"DSD_ALFS%40DF_SUMTAB\",\n",
    "    dataflow_ver=\"1.0\",\n",
    "    dimensions=[\"all\", \"EMP\", \"PS\", \"all\", \"_T\", \"all\", \"all\", \"BTE\", \"A\"],\n",
    "    startPeriod=2000,\n",
    "    endPeriod=2023,\n",
    "    dimensionAtObservation=\"AllDimensions\",\n",
    "    format=\"csv\",\n",
    "    output_filename=\"oecd_data_raw.csv\",\n",
    ")\n",
    "df_oecd.head(2)"
   ]
  },
  {
   "cell_type": "markdown",
   "id": "b3112d58-377b-46bf-afd2-8f7693330390",
   "metadata": {},
   "source": [
    "## 2.1 Inspect data"
   ]
  },
  {
   "cell_type": "code",
   "execution_count": 100,
   "id": "3372c9eb1ee3a20a",
   "metadata": {
    "ExecuteTime": {
     "end_time": "2025-04-27T09:33:35.639731Z",
     "start_time": "2025-04-27T09:33:35.628162Z"
    }
   },
   "outputs": [
    {
     "ename": "AttributeError",
     "evalue": "'DataFrame' object has no attribute 'REF_AREA'",
     "output_type": "error",
     "traceback": [
      "\u001b[31m---------------------------------------------------------------------------\u001b[39m",
      "\u001b[31mAttributeError\u001b[39m                            Traceback (most recent call last)",
      "\u001b[32m/tmp/ipykernel_10778/3139999813.py\u001b[39m in \u001b[36m?\u001b[39m\u001b[34m()\u001b[39m\n\u001b[32m----> \u001b[39m\u001b[32m1\u001b[39m df_oecd.REF_AREA.unique()\n",
      "\u001b[32m~/.local/lib/python3.12/site-packages/pandas/core/generic.py\u001b[39m in \u001b[36m?\u001b[39m\u001b[34m(self, name)\u001b[39m\n\u001b[32m   6295\u001b[39m             \u001b[38;5;28;01mand\u001b[39;00m name \u001b[38;5;28;01mnot\u001b[39;00m \u001b[38;5;28;01min\u001b[39;00m self._accessors\n\u001b[32m   6296\u001b[39m             \u001b[38;5;28;01mand\u001b[39;00m self._info_axis._can_hold_identifiers_and_holds_name(name)\n\u001b[32m   6297\u001b[39m         ):\n\u001b[32m   6298\u001b[39m             \u001b[38;5;28;01mreturn\u001b[39;00m self[name]\n\u001b[32m-> \u001b[39m\u001b[32m6299\u001b[39m         \u001b[38;5;28;01mreturn\u001b[39;00m object.__getattribute__(self, name)\n",
      "\u001b[31mAttributeError\u001b[39m: 'DataFrame' object has no attribute 'REF_AREA'"
     ]
    }
   ],
   "source": [
    "df_oecd.REF_AREA.unique()"
   ]
  },
  {
   "cell_type": "markdown",
   "id": "e5c52a40-795a-4cf7-abc5-f4eeee4d7504",
   "metadata": {},
   "source": [
    "## 2.2 Filter data"
   ]
  },
  {
   "cell_type": "code",
   "execution_count": null,
   "id": "cd733cdae8dafa58",
   "metadata": {
    "ExecuteTime": {
     "end_time": "2025-04-27T09:33:35.694235Z",
     "start_time": "2025-04-27T09:33:35.681805Z"
    }
   },
   "outputs": [
    {
     "data": {
      "text/html": [
       "<div>\n",
       "<style scoped>\n",
       "    .dataframe tbody tr th:only-of-type {\n",
       "        vertical-align: middle;\n",
       "    }\n",
       "\n",
       "    .dataframe tbody tr th {\n",
       "        vertical-align: top;\n",
       "    }\n",
       "\n",
       "    .dataframe thead th {\n",
       "        text-align: right;\n",
       "    }\n",
       "</style>\n",
       "<table border=\"1\" class=\"dataframe\">\n",
       "  <thead>\n",
       "    <tr style=\"text-align: right;\">\n",
       "      <th></th>\n",
       "      <th>REF_AREA</th>\n",
       "      <th>TIME_PERIOD</th>\n",
       "      <th>OBS_VALUE</th>\n",
       "    </tr>\n",
       "  </thead>\n",
       "  <tbody>\n",
       "    <tr>\n",
       "      <th>64</th>\n",
       "      <td>FRA</td>\n",
       "      <td>2021</td>\n",
       "      <td>5252.70</td>\n",
       "    </tr>\n",
       "    <tr>\n",
       "      <th>65</th>\n",
       "      <td>FRA</td>\n",
       "      <td>2022</td>\n",
       "      <td>5373.95</td>\n",
       "    </tr>\n",
       "  </tbody>\n",
       "</table>\n",
       "</div>"
      ],
      "text/plain": [
       "   REF_AREA  TIME_PERIOD  OBS_VALUE\n",
       "64      FRA         2021    5252.70\n",
       "65      FRA         2022    5373.95"
      ]
     },
     "execution_count": 49,
     "metadata": {},
     "output_type": "execute_result"
    }
   ],
   "source": [
    "df_oecd_extract = df_oecd.loc[df_oecd.REF_AREA.isin([\"USA\", \"FRA\"]), [\"REF_AREA\", \"TIME_PERIOD\", \"OBS_VALUE\"]]\n",
    "df_oecd_extract.head(2)"
   ]
  },
  {
   "cell_type": "code",
   "execution_count": null,
   "id": "1ce1645e8ecd9062",
   "metadata": {
    "ExecuteTime": {
     "end_time": "2025-04-27T09:33:35.739016Z",
     "start_time": "2025-04-27T09:33:35.726309Z"
    }
   },
   "outputs": [
    {
     "data": {
      "text/html": [
       "<div>\n",
       "<style scoped>\n",
       "    .dataframe tbody tr th:only-of-type {\n",
       "        vertical-align: middle;\n",
       "    }\n",
       "\n",
       "    .dataframe tbody tr th {\n",
       "        vertical-align: top;\n",
       "    }\n",
       "\n",
       "    .dataframe thead th {\n",
       "        text-align: right;\n",
       "    }\n",
       "</style>\n",
       "<table border=\"1\" class=\"dataframe\">\n",
       "  <thead>\n",
       "    <tr style=\"text-align: right;\">\n",
       "      <th></th>\n",
       "      <th></th>\n",
       "      <th>OECD</th>\n",
       "    </tr>\n",
       "    <tr>\n",
       "      <th>country</th>\n",
       "      <th>year</th>\n",
       "      <th></th>\n",
       "    </tr>\n",
       "  </thead>\n",
       "  <tbody>\n",
       "    <tr>\n",
       "      <th rowspan=\"2\" valign=\"top\">FRA</th>\n",
       "      <th>2021</th>\n",
       "      <td>5252.70</td>\n",
       "    </tr>\n",
       "    <tr>\n",
       "      <th>2022</th>\n",
       "      <td>5373.95</td>\n",
       "    </tr>\n",
       "  </tbody>\n",
       "</table>\n",
       "</div>"
      ],
      "text/plain": [
       "                 OECD\n",
       "country year         \n",
       "FRA     2021  5252.70\n",
       "        2022  5373.95"
      ]
     },
     "execution_count": 50,
     "metadata": {},
     "output_type": "execute_result"
    }
   ],
   "source": [
    "df_oecd_renamed = df_oecd_extract.rename({\"REF_AREA\": \"country\", \"TIME_PERIOD\": \"year\", \"OBS_VALUE\": \"OECD\"}, axis=\"columns\")\n",
    "df_oecd_clean = df_oecd_renamed.set_index([\"country\", \"year\"])\n",
    "df_oecd_clean.head(2)"
   ]
  },
  {
   "cell_type": "markdown",
   "id": "02f2be2b-0d45-4662-909d-612eb3053017",
   "metadata": {},
   "source": [
    "# Merge data"
   ]
  },
  {
   "cell_type": "code",
   "execution_count": null,
   "id": "25fe5c66102a40c2",
   "metadata": {
    "ExecuteTime": {
     "end_time": "2025-04-27T09:33:35.816809Z",
     "start_time": "2025-04-27T09:33:35.800845Z"
    }
   },
   "outputs": [
    {
     "data": {
      "text/html": [
       "<div>\n",
       "<style scoped>\n",
       "    .dataframe tbody tr th:only-of-type {\n",
       "        vertical-align: middle;\n",
       "    }\n",
       "\n",
       "    .dataframe tbody tr th {\n",
       "        vertical-align: top;\n",
       "    }\n",
       "\n",
       "    .dataframe thead th {\n",
       "        text-align: right;\n",
       "    }\n",
       "</style>\n",
       "<table border=\"1\" class=\"dataframe\">\n",
       "  <thead>\n",
       "    <tr style=\"text-align: right;\">\n",
       "      <th></th>\n",
       "      <th></th>\n",
       "      <th>ILO</th>\n",
       "      <th>OECD</th>\n",
       "    </tr>\n",
       "    <tr>\n",
       "      <th>country</th>\n",
       "      <th>year</th>\n",
       "      <th></th>\n",
       "      <th></th>\n",
       "    </tr>\n",
       "  </thead>\n",
       "  <tbody>\n",
       "    <tr>\n",
       "      <th rowspan=\"2\" valign=\"top\">FRA</th>\n",
       "      <th>2023</th>\n",
       "      <td>5453.964</td>\n",
       "      <td>5453.95</td>\n",
       "    </tr>\n",
       "    <tr>\n",
       "      <th>2022</th>\n",
       "      <td>5389.376</td>\n",
       "      <td>5373.95</td>\n",
       "    </tr>\n",
       "  </tbody>\n",
       "</table>\n",
       "</div>"
      ],
      "text/plain": [
       "                   ILO     OECD\n",
       "country year                   \n",
       "FRA     2023  5453.964  5453.95\n",
       "        2022  5389.376  5373.95"
      ]
     },
     "execution_count": 51,
     "metadata": {},
     "output_type": "execute_result"
    }
   ],
   "source": [
    "df_merge = pd.merge(\n",
    "    df_ilo_clean,\n",
    "    df_oecd_clean,\n",
    "    right_index = True,\n",
    "    left_index = True,\n",
    "    how = 'inner'\n",
    ")\n",
    "df_merge.head(2)"
   ]
  },
  {
   "cell_type": "code",
   "execution_count": null,
   "id": "acb51616eeaba662",
   "metadata": {
    "ExecuteTime": {
     "end_time": "2025-04-27T09:33:35.978914Z",
     "start_time": "2025-04-27T09:33:35.965327Z"
    }
   },
   "outputs": [
    {
     "data": {
      "text/html": [
       "<div>\n",
       "<style scoped>\n",
       "    .dataframe tbody tr th:only-of-type {\n",
       "        vertical-align: middle;\n",
       "    }\n",
       "\n",
       "    .dataframe tbody tr th {\n",
       "        vertical-align: top;\n",
       "    }\n",
       "\n",
       "    .dataframe thead th {\n",
       "        text-align: right;\n",
       "    }\n",
       "</style>\n",
       "<table border=\"1\" class=\"dataframe\">\n",
       "  <thead>\n",
       "    <tr style=\"text-align: right;\">\n",
       "      <th></th>\n",
       "      <th>country</th>\n",
       "      <th>year</th>\n",
       "      <th>source</th>\n",
       "      <th>employment</th>\n",
       "    </tr>\n",
       "  </thead>\n",
       "  <tbody>\n",
       "    <tr>\n",
       "      <th>0</th>\n",
       "      <td>FRA</td>\n",
       "      <td>2023</td>\n",
       "      <td>ILO</td>\n",
       "      <td>5453.964</td>\n",
       "    </tr>\n",
       "    <tr>\n",
       "      <th>1</th>\n",
       "      <td>FRA</td>\n",
       "      <td>2022</td>\n",
       "      <td>ILO</td>\n",
       "      <td>5389.376</td>\n",
       "    </tr>\n",
       "  </tbody>\n",
       "</table>\n",
       "</div>"
      ],
      "text/plain": [
       "  country  year source  employment\n",
       "0     FRA  2023    ILO    5453.964\n",
       "1     FRA  2022    ILO    5389.376"
      ]
     },
     "execution_count": 52,
     "metadata": {},
     "output_type": "execute_result"
    }
   ],
   "source": [
    "df_melt = pd.melt(df_merge.reset_index(), id_vars=[\"country\", \"year\"], value_vars=[\"ILO\", \"OECD\"], var_name=\"source\", value_name=\"employment\")\n",
    "df_melt.head(2)"
   ]
  },
  {
   "cell_type": "markdown",
   "id": "09426179-c255-4fcc-891f-655129ecc3c2",
   "metadata": {},
   "source": [
    "# Graph data"
   ]
  },
  {
   "cell_type": "code",
   "execution_count": null,
   "id": "a2f17441b83ec38e",
   "metadata": {
    "ExecuteTime": {
     "end_time": "2025-04-27T09:33:36.023Z",
     "start_time": "2025-04-27T09:33:36.013647Z"
    }
   },
   "outputs": [],
   "source": [
    "####\n",
    "# import matplotlib.pyplot as plt\n",
    "# import seaborn as sns\n",
    "\n",
    "# g = FacetGrid(1,2,sharey=False)\n",
    "# g = sns.relplot(data=df_melt, x=\"year\", y=\"employment\", hue=\"source\", col=\"country\", kind=\"line\", facet_kws={'sharey': False})\n",
    "# g.set\n",
    "#####"
   ]
  },
  {
   "cell_type": "markdown",
   "id": "d2622cd8-26fb-4c19-8500-f39cffecf632",
   "metadata": {},
   "source": [
    "# CAN YOU PLEASE DESCRIBE THE COMTRAD DATA \n",
    "\n",
    "- Were you unable to download it from the comtrad API?\n",
    "    - Please"
   ]
  },
  {
   "cell_type": "code",
   "execution_count": null,
   "id": "fcd293f7",
   "metadata": {
    "ExecuteTime": {
     "end_time": "2025-04-27T09:33:36.065664Z",
     "start_time": "2025-04-27T09:33:36.056269Z"
    }
   },
   "outputs": [],
   "source": [
    "from src.data.download_comtrad import get_un_trade_data"
   ]
  },
  {
   "cell_type": "code",
   "execution_count": null,
   "id": "65a48f1ed0ee97b3",
   "metadata": {
    "ExecuteTime": {
     "end_time": "2025-04-27T09:34:02.997580Z",
     "start_time": "2025-04-27T09:34:02.984061Z"
    }
   },
   "outputs": [],
   "source": [
    "UN_API_KEY = \"<YOUR_KEY>\""
   ]
  },
  {
   "cell_type": "code",
   "execution_count": null,
   "id": "531a8cd78a19635c",
   "metadata": {
    "ExecuteTime": {
     "end_time": "2025-04-27T09:34:42.065484Z",
     "start_time": "2025-04-27T09:34:04.346790Z"
    }
   },
   "outputs": [
    {
     "name": "stderr",
     "output_type": "stream",
     "text": [
      "/workspaces/graspp-25S-trade/src/data/download_comtrad.py:24: FutureWarning: The behavior of DataFrame concatenation with empty or all-NA entries is deprecated. In a future version, this will no longer exclude empty or all-NA columns when determining the result dtypes. To retain the old behavior, exclude the relevant entries before the concat operation.\n",
      "  return pd.concat(list_df)\n"
     ]
    },
    {
     "data": {
      "text/html": [
       "<div>\n",
       "<style scoped>\n",
       "    .dataframe tbody tr th:only-of-type {\n",
       "        vertical-align: middle;\n",
       "    }\n",
       "\n",
       "    .dataframe tbody tr th {\n",
       "        vertical-align: top;\n",
       "    }\n",
       "\n",
       "    .dataframe thead th {\n",
       "        text-align: right;\n",
       "    }\n",
       "</style>\n",
       "<table border=\"1\" class=\"dataframe\">\n",
       "  <thead>\n",
       "    <tr style=\"text-align: right;\">\n",
       "      <th></th>\n",
       "      <th>typeCode</th>\n",
       "      <th>freqCode</th>\n",
       "      <th>refPeriodId</th>\n",
       "      <th>refYear</th>\n",
       "      <th>refMonth</th>\n",
       "      <th>period</th>\n",
       "      <th>reporterCode</th>\n",
       "      <th>reporterISO</th>\n",
       "      <th>reporterDesc</th>\n",
       "      <th>flowCode</th>\n",
       "      <th>...</th>\n",
       "      <th>netWgt</th>\n",
       "      <th>isNetWgtEstimated</th>\n",
       "      <th>grossWgt</th>\n",
       "      <th>isGrossWgtEstimated</th>\n",
       "      <th>cifvalue</th>\n",
       "      <th>fobvalue</th>\n",
       "      <th>primaryValue</th>\n",
       "      <th>legacyEstimationFlag</th>\n",
       "      <th>isReported</th>\n",
       "      <th>isAggregate</th>\n",
       "    </tr>\n",
       "  </thead>\n",
       "  <tbody>\n",
       "    <tr>\n",
       "      <th>0</th>\n",
       "      <td>C</td>\n",
       "      <td>A</td>\n",
       "      <td>19880101</td>\n",
       "      <td>1988</td>\n",
       "      <td>52</td>\n",
       "      <td>1988</td>\n",
       "      <td>36</td>\n",
       "      <td>AUS</td>\n",
       "      <td>Australia</td>\n",
       "      <td>M</td>\n",
       "      <td>...</td>\n",
       "      <td>NaN</td>\n",
       "      <td>False</td>\n",
       "      <td>NaN</td>\n",
       "      <td>False</td>\n",
       "      <td>NaN</td>\n",
       "      <td>3.302574e+10</td>\n",
       "      <td>3.302574e+10</td>\n",
       "      <td>0</td>\n",
       "      <td>False</td>\n",
       "      <td>False</td>\n",
       "    </tr>\n",
       "    <tr>\n",
       "      <th>1</th>\n",
       "      <td>C</td>\n",
       "      <td>A</td>\n",
       "      <td>19880101</td>\n",
       "      <td>1988</td>\n",
       "      <td>52</td>\n",
       "      <td>1988</td>\n",
       "      <td>36</td>\n",
       "      <td>AUS</td>\n",
       "      <td>Australia</td>\n",
       "      <td>X</td>\n",
       "      <td>...</td>\n",
       "      <td>NaN</td>\n",
       "      <td>False</td>\n",
       "      <td>NaN</td>\n",
       "      <td>False</td>\n",
       "      <td>NaN</td>\n",
       "      <td>3.220539e+10</td>\n",
       "      <td>3.220539e+10</td>\n",
       "      <td>0</td>\n",
       "      <td>False</td>\n",
       "      <td>False</td>\n",
       "    </tr>\n",
       "  </tbody>\n",
       "</table>\n",
       "<p>2 rows × 47 columns</p>\n",
       "</div>"
      ],
      "text/plain": [
       "  typeCode freqCode  refPeriodId  refYear  refMonth period  reporterCode  \\\n",
       "0        C        A     19880101     1988        52   1988            36   \n",
       "1        C        A     19880101     1988        52   1988            36   \n",
       "\n",
       "  reporterISO reporterDesc flowCode  ... netWgt  isNetWgtEstimated grossWgt  \\\n",
       "0         AUS    Australia        M  ...    NaN              False      NaN   \n",
       "1         AUS    Australia        X  ...    NaN              False      NaN   \n",
       "\n",
       "  isGrossWgtEstimated  cifvalue      fobvalue  primaryValue  \\\n",
       "0               False       NaN  3.302574e+10  3.302574e+10   \n",
       "1               False       NaN  3.220539e+10  3.220539e+10   \n",
       "\n",
       "  legacyEstimationFlag isReported  isAggregate  \n",
       "0                    0      False        False  \n",
       "1                    0      False        False  \n",
       "\n",
       "[2 rows x 47 columns]"
      ]
     },
     "execution_count": 56,
     "metadata": {},
     "output_type": "execute_result"
    }
   ],
   "source": [
    "df_un_trade = get_un_trade_data(\"3562ddaae00c4520afaa81f05bf0d83a\")\n",
    "df_un_trade.head(2)"
   ]
  },
  {
   "cell_type": "code",
   "execution_count": null,
   "id": "b05e0eb1",
   "metadata": {
    "ExecuteTime": {
     "end_time": "2025-04-27T09:34:42.114506Z",
     "start_time": "2025-04-27T09:34:42.094853Z"
    }
   },
   "outputs": [
    {
     "name": "stdout",
     "output_type": "stream",
     "text": [
      "<class 'pandas.core.frame.DataFrame'>\n",
      "MultiIndex: 5198 entries, ('Afghanistan', np.int64(2008)) to ('Zimbabwe', np.int64(2024))\n",
      "Data columns (total 2 columns):\n",
      " #   Column  Non-Null Count  Dtype  \n",
      "---  ------  --------------  -----  \n",
      " 0   Export  5143 non-null   float64\n",
      " 1   Import  5164 non-null   float64\n",
      "dtypes: float64(2)\n",
      "memory usage: 107.6+ KB\n"
     ]
    },
    {
     "data": {
      "text/html": [
       "<div>\n",
       "<style scoped>\n",
       "    .dataframe tbody tr th:only-of-type {\n",
       "        vertical-align: middle;\n",
       "    }\n",
       "\n",
       "    .dataframe tbody tr th {\n",
       "        vertical-align: top;\n",
       "    }\n",
       "\n",
       "    .dataframe thead th {\n",
       "        text-align: right;\n",
       "    }\n",
       "</style>\n",
       "<table border=\"1\" class=\"dataframe\">\n",
       "  <thead>\n",
       "    <tr style=\"text-align: right;\">\n",
       "      <th></th>\n",
       "      <th>import or export</th>\n",
       "      <th>Export</th>\n",
       "      <th>Import</th>\n",
       "    </tr>\n",
       "    <tr>\n",
       "      <th>country</th>\n",
       "      <th>year</th>\n",
       "      <th></th>\n",
       "      <th></th>\n",
       "    </tr>\n",
       "  </thead>\n",
       "  <tbody>\n",
       "    <tr>\n",
       "      <th rowspan=\"2\" valign=\"top\">Afghanistan</th>\n",
       "      <th>2008</th>\n",
       "      <td>540065594.0</td>\n",
       "      <td>3.019860e+09</td>\n",
       "    </tr>\n",
       "    <tr>\n",
       "      <th>2009</th>\n",
       "      <td>403441006.0</td>\n",
       "      <td>3.336435e+09</td>\n",
       "    </tr>\n",
       "  </tbody>\n",
       "</table>\n",
       "</div>"
      ],
      "text/plain": [
       "import or export       Export        Import\n",
       "country     year                           \n",
       "Afghanistan 2008  540065594.0  3.019860e+09\n",
       "            2009  403441006.0  3.336435e+09"
      ]
     },
     "execution_count": 57,
     "metadata": {},
     "output_type": "execute_result"
    }
   ],
   "source": [
    "df_trade_extract = df_un_trade[['reporterDesc', 'refYear', 'primaryValue', 'flowDesc']].dropna()\n",
    "df_trade_rename = df_trade_extract.rename({\"reporterDesc\":'country', \"refYear\":'year', \"primaryValue\":'total trade value',\"flowDesc\":'import or export'}, axis=1)\n",
    "df_trade_clean = df_trade_rename.pivot(index=['country', 'year'], columns=\"import or export\", values=\"total trade value\")\n",
    "\n",
    "df_trade_clean.info()\n",
    "df_trade_clean.head(2)"
   ]
  },
  {
   "cell_type": "code",
   "execution_count": null,
   "id": "14683962",
   "metadata": {
    "ExecuteTime": {
     "end_time": "2025-04-27T09:34:42.176670Z",
     "start_time": "2025-04-27T09:34:42.166562Z"
    }
   },
   "outputs": [],
   "source": [
    "df_melt = df_melt.set_index(['country', 'year'])"
   ]
  },
  {
   "cell_type": "code",
   "execution_count": null,
   "id": "c539d631",
   "metadata": {
    "ExecuteTime": {
     "end_time": "2025-04-27T09:36:16.263039Z",
     "start_time": "2025-04-27T09:36:16.245517Z"
    }
   },
   "outputs": [
    {
     "data": {
      "text/html": [
       "<div>\n",
       "<style scoped>\n",
       "    .dataframe tbody tr th:only-of-type {\n",
       "        vertical-align: middle;\n",
       "    }\n",
       "\n",
       "    .dataframe tbody tr th {\n",
       "        vertical-align: top;\n",
       "    }\n",
       "\n",
       "    .dataframe thead th {\n",
       "        text-align: right;\n",
       "    }\n",
       "</style>\n",
       "<table border=\"1\" class=\"dataframe\">\n",
       "  <thead>\n",
       "    <tr style=\"text-align: right;\">\n",
       "      <th></th>\n",
       "      <th></th>\n",
       "      <th>Export</th>\n",
       "      <th>Import</th>\n",
       "      <th>ILO</th>\n",
       "    </tr>\n",
       "    <tr>\n",
       "      <th>country</th>\n",
       "      <th>year</th>\n",
       "      <th></th>\n",
       "      <th></th>\n",
       "      <th></th>\n",
       "    </tr>\n",
       "  </thead>\n",
       "  <tbody>\n",
       "    <tr>\n",
       "      <th rowspan=\"2\" valign=\"top\">USA</th>\n",
       "      <th>2022</th>\n",
       "      <td>2.062090e+12</td>\n",
       "      <td>3.372902e+12</td>\n",
       "      <td>30513.430</td>\n",
       "    </tr>\n",
       "    <tr>\n",
       "      <th>2023</th>\n",
       "      <td>2.018543e+12</td>\n",
       "      <td>3.168471e+12</td>\n",
       "      <td>31137.472</td>\n",
       "    </tr>\n",
       "  </tbody>\n",
       "</table>\n",
       "</div>"
      ],
      "text/plain": [
       "                    Export        Import        ILO\n",
       "country year                                       \n",
       "USA     2022  2.062090e+12  3.372902e+12  30513.430\n",
       "        2023  2.018543e+12  3.168471e+12  31137.472"
      ]
     },
     "execution_count": 59,
     "metadata": {},
     "output_type": "execute_result"
    }
   ],
   "source": [
    "df_merge = pd.merge(\n",
    "    df_trade_clean,\n",
    "    df_ilo_clean,\n",
    "    right_index = True,\n",
    "    left_index = True,\n",
    "    how = 'inner'\n",
    ")\n",
    "df_merge.tail(2)"
   ]
  },
  {
   "cell_type": "code",
   "execution_count": null,
   "id": "e7a7556f",
   "metadata": {
    "ExecuteTime": {
     "end_time": "2025-04-27T09:36:32.414524Z",
     "start_time": "2025-04-27T09:36:32.086071Z"
    }
   },
   "outputs": [
    {
     "data": {
      "text/plain": [
       "<seaborn.axisgrid.PairGrid at 0x777ea61b4260>"
      ]
     },
     "execution_count": 60,
     "metadata": {},
     "output_type": "execute_result"
    },
    {
     "data": {
      "image/png": "[encoded data removed]",
      "text/plain": [
       "<Figure size 750x750 with 12 Axes>"
      ]
     },
     "metadata": {},
     "output_type": "display_data"
    }
   ],
   "source": [
    "import seaborn as sns\n",
    "\n",
    "g = sns.PairGrid(df_merge)\n",
    "g.map_diag(sns.histplot)\n",
    "g.map_offdiag(sns.scatterplot)"
   ]
  },
  {
   "cell_type": "markdown",
   "id": "104e4546",
   "metadata": {},
   "source": [
    "#Conducting Regression Analysis - Wanonno Iqtyider"
   ]
  },
  {
   "cell_type": "code",
   "execution_count": null,
   "id": "fb9ff8c3",
   "metadata": {
    "ExecuteTime": {
     "end_time": "2025-04-27T09:50:50.118465Z",
     "start_time": "2025-04-27T09:50:49.952216Z"
    }
   },
   "outputs": [
    {
     "name": "stdout",
     "output_type": "stream",
     "text": [
      "                            OLS Regression Results                            \n",
      "==============================================================================\n",
      "Dep. Variable:            Q(\"Export\")   R-squared:                       0.022\n",
      "Model:                            OLS   Adj. R-squared:                 -0.029\n",
      "Method:                 Least Squares   F-statistic:                    0.4273\n",
      "Date:                Mon, 28 Apr 2025   Prob (F-statistic):              0.521\n",
      "Time:                        02:25:07   Log-Likelihood:                -587.86\n",
      "No. Observations:                  21   AIC:                             1180.\n",
      "Df Residuals:                      19   BIC:                             1182.\n",
      "Df Model:                           1                                         \n",
      "Covariance Type:            nonrobust                                         \n",
      "==============================================================================\n",
      "                 coef    std err          t      P>|t|      [0.025      0.975]\n",
      "------------------------------------------------------------------------------\n",
      "Intercept   2.447e+12   1.59e+12      1.538      0.141   -8.83e+11    5.78e+12\n",
      "ILO        -3.499e+07   5.35e+07     -0.654      0.521   -1.47e+08     7.7e+07\n",
      "==============================================================================\n",
      "Omnibus:                        0.013   Durbin-Watson:                   0.263\n",
      "Prob(Omnibus):                  0.994   Jarque-Bera (JB):                0.152\n",
      "Skew:                           0.047   Prob(JB):                        0.927\n",
      "Kurtosis:                       2.594   Cond. No.                     5.93e+05\n",
      "==============================================================================\n",
      "\n",
      "Notes:\n",
      "[1] Standard Errors assume that the covariance matrix of the errors is correctly specified.\n",
      "[2] The condition number is large, 5.93e+05. This might indicate that there are\n",
      "strong multicollinearity or other numerical problems.\n"
     ]
    },
    {
     "data": {
      "image/png": "[encoded data removed]",
      "text/plain": [
       "<Figure size 1000x600 with 1 Axes>"
      ]
     },
     "metadata": {},
     "output_type": "display_data"
    }
   ],
   "source": [
    "# 1. Import formula API\n",
    "import statsmodels.formula.api as smf\n",
    "\n",
    "# 2. Prepare the data\n",
    "# Make sure 'employment' and 'total trade value' exist without NaNs\n",
    "df_regression = df_merge.dropna(subset=[\"Export\", \"ILO\"]).reset_index()\n",
    "\n",
    "# 3. Run the regression using formula\n",
    "# Note: you need to handle spaces in column names by using `Q(\"column name\")` inside the formula\n",
    "model = smf.ols(formula='Q(\"Export\") ~ ILO', data=df_regression).fit()\n",
    "\n",
    "# 4. Print regression summary\n",
    "print(model.summary())\n",
    "\n",
    "# 5. Visualize with regression line\n",
    "import matplotlib.pyplot as plt\n",
    "import seaborn as sns\n",
    "\n",
    "plt.figure(figsize=(10,6))\n",
    "sns.regplot(\n",
    "    data=df_regression,\n",
    "    x=\"ILO\",\n",
    "    y=\"Export\",\n",
    "    scatter_kws={\"s\":50, \"alpha\":0.7},\n",
    "    line_kws={\"linewidth\":2}\n",
    ")\n",
    "plt.title('Regression of Export on Employment')\n",
    "plt.xlabel('Employment')\n",
    "plt.ylabel('Export (USD)')\n",
    "plt.grid(True)\n",
    "plt.show()\n"
   ]
  },
  {
   "cell_type": "markdown",
   "id": "87f2e564",
   "metadata": {},
   "source": [
    "Employment Data Comparison by Natsuki Konishi"
   ]
  },
  {
   "cell_type": "code",
   "execution_count": 102,
   "id": "4a0dfe7a",
   "metadata": {},
   "outputs": [
    {
     "name": "stdout",
     "output_type": "stream",
     "text": [
      "=== カラム一覧 ===\n",
      "- ref_area\n",
      "- source\n",
      "- indicator\n",
      "- classif1\n",
      "- classif2\n",
      "- time\n",
      "- obs_value\n",
      "- obs_status\n",
      "- note_classif\n",
      "- note_indicator\n",
      "- note_source\n",
      "\n",
      "=== データの概要 ===\n",
      "行数: 2009\n",
      "列数: 11\n",
      "\n",
      "=== テーマ ===\n",
      "このデータセットのテーマ: 各国・各年における産業別労働力統計\n",
      "主要指標: EMP_TEMP_ECO_OCU_NB\n",
      "\n",
      "=== データサンプル ===\n",
      "  ref_area    source            indicator        classif1         classif2  \\\n",
      "0      ABW     AA:22  EMP_TEMP_ECO_OCU_NB  ECO_SECTOR_IND  OCU_SKILL_TOTAL   \n",
      "1      AFG  BA:15715  EMP_TEMP_ECO_OCU_NB  ECO_SECTOR_IND  OCU_SKILL_TOTAL   \n",
      "2      AFG  BA:15715  EMP_TEMP_ECO_OCU_NB  ECO_SECTOR_IND  OCU_SKILL_TOTAL   \n",
      "\n",
      "   time  obs_value obs_status  note_classif note_indicator   note_source  \n",
      "0  2010      6.738        NaN           NaN            NaN   S3:20_T2:83  \n",
      "1  2021   1463.372        NaN           NaN            NaN  R1:3513_S3:8  \n",
      "2  2020   1090.912          B           NaN        I11:264       R1:3513  \n"
     ]
    }
   ],
   "source": [
    "import pandas as pd\n",
    "\n",
    "# CSVファイルのパス\n",
    "file_path = '/workspaces/graspp-25S-trade/data/external/ilo_data_raw.csv'\n",
    "\n",
    "# CSVファイルを読み込む\n",
    "df = pd.read_csv(file_path)\n",
    "\n",
    "# カラム一覧を出力\n",
    "print(\"=== カラム一覧 ===\")\n",
    "for column in df.columns:\n",
    "    print(f\"- {column}\")\n",
    "\n",
    "# データの簡単な概要\n",
    "print(\"\\n=== データの概要 ===\")\n",
    "print(f\"行数: {df.shape[0]}\")\n",
    "print(f\"列数: {df.shape[1]}\")\n",
    "\n",
    "# テーマを特定（ここではindicatorカラムの値から推測）\n",
    "print(\"\\n=== テーマ ===\")\n",
    "indicator_values = df['indicator'].unique()\n",
    "print(f\"このデータセットのテーマ: 各国・各年における産業別労働力統計\")\n",
    "print(f\"主要指標: {', '.join(indicator_values)}\")\n",
    "\n",
    "# データの例を表示\n",
    "print(\"\\n=== データサンプル ===\")\n",
    "print(df.head(3))"
   ]
  },
  {
   "cell_type": "code",
   "execution_count": 104,
   "id": "03b79880",
   "metadata": {},
   "outputs": [
    {
     "data": {
      "image/png": "[encoded data removed]",
      "text/plain": [
       "<Figure size 1000x600 with 1 Axes>"
      ]
     },
     "metadata": {},
     "output_type": "display_data"
    }
   ],
   "source": [
    "# Simple visualization code\n",
    "import pandas as pd\n",
    "import matplotlib.pyplot as plt\n",
    "import seaborn as sns\n",
    "import numpy as np\n",
    "\n",
    "# Load the CSV file\n",
    "file_path = '/workspaces/graspp-25S-trade/data/external/ilo_data_raw.csv'\n",
    "df = pd.read_csv(file_path)\n",
    "\n",
    "# Extract data for specific major countries\n",
    "major_countries = [\"USA\", \"JPN\", \"DEU\", \"GBR\", \"FRA\"]\n",
    "df_major = df[df['ref_area'].isin(major_countries)]\n",
    "\n",
    "# Get data for the most recent years\n",
    "recent_years = df_major['time'].unique()\n",
    "recent_years = np.sort(recent_years)[-5:]  # Latest 5 years\n",
    "df_recent = df_major[df_major['time'].isin(recent_years)]\n",
    "\n",
    "# Calculate average employment values by country and year\n",
    "df_agg = df_recent.groupby(['ref_area', 'time'])['obs_value'].mean().reset_index()\n",
    "\n",
    "# Create the plot\n",
    "plt.figure(figsize=(10, 6))\n",
    "sns.barplot(data=df_agg, x='ref_area', y='obs_value', hue='time', palette='viridis')\n",
    "\n",
    "# Format the plot\n",
    "plt.title('Employment Data Comparison Among Major Countries (Last 5 Years)', fontsize=14)\n",
    "plt.xlabel('Country Code', fontsize=12)\n",
    "plt.ylabel('Average Employment Value', fontsize=12)\n",
    "plt.legend(title='Year', title_fontsize=10)\n",
    "plt.grid(axis='y', linestyle='--', alpha=0.7)\n",
    "plt.tight_layout()\n",
    "\n",
    "# Display the plot\n",
    "plt.show()"
   ]
  }
 ],
 "metadata": {
  "kernelspec": {
   "display_name": "Python 3",
   "language": "python",
   "name": "python3"
  },
  "language_info": {
   "codemirror_mode": {
    "name": "ipython",
    "version": 3
   },
   "file_extension": ".py",
   "mimetype": "text/x-python",
   "name": "python",
   "nbconvert_exporter": "python",
   "pygments_lexer": "ipython3",
   "version": "3.12.1"
  }
 },
 "nbformat": 4,
 "nbformat_minor": 5
}
