{
 "cells": [
  {
   "cell_type": "code",
   "execution_count": 9,
   "id": "initial_id",
   "metadata": {},
   "outputs": [],
   "source": [
    "%load_ext autoreload\n",
    "%autoreload 2\n"
   ]
  },
  {
   "cell_type": "markdown",
   "id": "2da13b8d-80e1-4f16-8d5c-bb55a9cb20f1",
   "metadata": {},
   "source": [
    "# A. Set file path to parent directory"
   ]
  },
  {
   "cell_type": "code",
   "execution_count": 10,
   "id": "5f0b4d55aa6a27",
   "metadata": {},
   "outputs": [],
   "source": [
    "import sys\n",
    "from pathlib import Path\n",
    "sys.path.append(str(Path().resolve().parent / \"src\"))\n",
    "import os \n",
    "os.chdir(\"../\")"
   ]
  },
  {
   "cell_type": "markdown",
   "id": "0f8eb824-b51d-4053-b7ed-aeb936e8b64f",
   "metadata": {},
   "source": [
    "# 1. Import data from ILO"
   ]
  },
  {
   "cell_type": "markdown",
   "id": "ca5ba873-c8f8-4d0c-a4c7-b6133cd88aa5",
   "metadata": {},
   "source": [
    "## 1.A Import"
   ]
  },
  {
   "cell_type": "code",
   "execution_count": 11,
   "id": "ab3aeb345a3ff33d",
   "metadata": {},
   "outputs": [
    {
     "name": "stderr",
     "output_type": "stream",
     "text": [
      "/Users/angiehenon/Documents/GitHub/graspp-25S-trade/.venv/lib/python3.9/site-packages/urllib3/__init__.py:35: NotOpenSSLWarning: urllib3 v2 only supports OpenSSL 1.1.1+, currently the 'ssl' module is compiled with 'LibreSSL 2.8.3'. See: https://github.com/urllib3/urllib3/issues/3020\n",
      "  warnings.warn(\n"
     ]
    },
    {
     "name": "stdout",
     "output_type": "stream",
     "text": [
      "Fetching ILO data from: https://rplumber.ilo.org/data/indicator/?id=EMP_TEMP_ECO_OCU_NB_A&timefrom=2000&timeto=2023&classif1=ECO_SECTOR_IND&classif2=OCU_SKILL_TOTAL&format=.csv\n",
      "Saving the dataset to: ilo_data_raw.csv\n"
     ]
    },
    {
     "data": {
      "text/html": [
       "<div>\n",
       "<style scoped>\n",
       "    .dataframe tbody tr th:only-of-type {\n",
       "        vertical-align: middle;\n",
       "    }\n",
       "\n",
       "    .dataframe tbody tr th {\n",
       "        vertical-align: top;\n",
       "    }\n",
       "\n",
       "    .dataframe thead th {\n",
       "        text-align: right;\n",
       "    }\n",
       "</style>\n",
       "<table border=\"1\" class=\"dataframe\">\n",
       "  <thead>\n",
       "    <tr style=\"text-align: right;\">\n",
       "      <th></th>\n",
       "      <th>ref_area</th>\n",
       "      <th>source</th>\n",
       "      <th>indicator</th>\n",
       "      <th>classif1</th>\n",
       "      <th>classif2</th>\n",
       "      <th>time</th>\n",
       "      <th>obs_value</th>\n",
       "      <th>obs_status</th>\n",
       "      <th>note_classif</th>\n",
       "      <th>note_indicator</th>\n",
       "      <th>note_source</th>\n",
       "    </tr>\n",
       "  </thead>\n",
       "  <tbody>\n",
       "    <tr>\n",
       "      <th>0</th>\n",
       "      <td>ABW</td>\n",
       "      <td>AA:22</td>\n",
       "      <td>EMP_TEMP_ECO_OCU_NB</td>\n",
       "      <td>ECO_SECTOR_IND</td>\n",
       "      <td>OCU_SKILL_TOTAL</td>\n",
       "      <td>2010</td>\n",
       "      <td>6.738</td>\n",
       "      <td>NaN</td>\n",
       "      <td>NaN</td>\n",
       "      <td>NaN</td>\n",
       "      <td>S3:20_T2:83</td>\n",
       "    </tr>\n",
       "    <tr>\n",
       "      <th>1</th>\n",
       "      <td>AFG</td>\n",
       "      <td>BA:15715</td>\n",
       "      <td>EMP_TEMP_ECO_OCU_NB</td>\n",
       "      <td>ECO_SECTOR_IND</td>\n",
       "      <td>OCU_SKILL_TOTAL</td>\n",
       "      <td>2021</td>\n",
       "      <td>1463.372</td>\n",
       "      <td>NaN</td>\n",
       "      <td>NaN</td>\n",
       "      <td>NaN</td>\n",
       "      <td>R1:3513_S3:8</td>\n",
       "    </tr>\n",
       "  </tbody>\n",
       "</table>\n",
       "</div>"
      ],
      "text/plain": [
       "  ref_area    source            indicator        classif1         classif2  \\\n",
       "0      ABW     AA:22  EMP_TEMP_ECO_OCU_NB  ECO_SECTOR_IND  OCU_SKILL_TOTAL   \n",
       "1      AFG  BA:15715  EMP_TEMP_ECO_OCU_NB  ECO_SECTOR_IND  OCU_SKILL_TOTAL   \n",
       "\n",
       "   time  obs_value obs_status  note_classif note_indicator   note_source  \n",
       "0  2010      6.738        NaN           NaN            NaN   S3:20_T2:83  \n",
       "1  2021   1463.372        NaN           NaN            NaN  R1:3513_S3:8  "
      ]
     },
     "execution_count": 11,
     "metadata": {},
     "output_type": "execute_result"
    }
   ],
   "source": [
    "import pandas as pd\n",
    "from src.data.download_oecd_ilo import get_industry_employment_data\n",
    "\n",
    "df_ilo = get_industry_employment_data(start_year=2000, end_year=2023, output_filename=\"ilo_data_raw.csv\")\n",
    "df_ilo.head(2)"
   ]
  },
  {
   "cell_type": "markdown",
   "id": "64c24169-3979-433c-a36f-59146c4c7e0e",
   "metadata": {},
   "source": [
    "## 1.1 Inspect data"
   ]
  },
  {
   "cell_type": "code",
   "execution_count": 12,
   "id": "5491aa64dd874dc6",
   "metadata": {},
   "outputs": [
    {
     "data": {
      "text/plain": [
       "array(['ABW', 'AFG', 'AGO', 'ALB', 'ARE', 'ARG', 'ARM', 'AUS', 'AUT',\n",
       "       'BDI', 'BEL', 'BEN', 'BFA', 'BGD', 'BGR', 'BHR', 'BHS', 'BIH',\n",
       "       'BLR', 'BLZ', 'BMU', 'BOL', 'BRA', 'BRB', 'BRN', 'BTN', 'BWA',\n",
       "       'CAN', 'CHE', 'CHL', 'CHN', 'CIV', 'CMR', 'COD', 'COG', 'COK',\n",
       "       'COL', 'COM', 'CPV', 'CRI', 'CUB', 'CYM', 'CYP', 'CZE', 'DEU',\n",
       "       'DJI', 'DNK', 'DOM', 'DZA', 'ECU', 'EGY', 'ESP', 'EST', 'ETH',\n",
       "       'FIN', 'FJI', 'FRA', 'FSM', 'GBR', 'GEO', 'GHA', 'GMB', 'GNB',\n",
       "       'GRC', 'GRD', 'GTM', 'GUY', 'HKG', 'HND', 'HRV', 'HUN', 'IDN',\n",
       "       'IMN', 'IND', 'IRL', 'IRN', 'IRQ', 'ISL', 'ISR', 'ITA', 'JAM',\n",
       "       'JOR', 'JPN', 'KEN', 'KGZ', 'KHM', 'KIR', 'KOR', 'KOS', 'LAO',\n",
       "       'LBN', 'LBR', 'LCA', 'LKA', 'LSO', 'LTU', 'LUX', 'LVA', 'MAC',\n",
       "       'MAR', 'MDA', 'MDG', 'MDV', 'MEX', 'MHL', 'MKD', 'MLI', 'MLT',\n",
       "       'MMR', 'MNE', 'MNG', 'MOZ', 'MSR', 'MUS', 'MWI', 'MYS', 'NAM',\n",
       "       'NER', 'NGA', 'NIC', 'NIU', 'NLD', 'NOR', 'NPL', 'NRU', 'OMN',\n",
       "       'PAK', 'PAN', 'PER', 'PHL', 'PLW', 'PNG', 'POL', 'PRT', 'PRY',\n",
       "       'PSE', 'QAT', 'REU', 'ROU', 'RUS', 'RWA', 'SDN', 'SEN', 'SGP',\n",
       "       'SLB', 'SLE', 'SLV', 'SOM', 'SRB', 'SSD', 'STP', 'SUR', 'SVK',\n",
       "       'SVN', 'SWE', 'SWZ', 'SYC', 'TCD', 'TGO', 'THA', 'TJK', 'TLS',\n",
       "       'TON', 'TTO', 'TUN', 'TUR', 'TUV', 'TZA', 'UGA', 'UKR', 'URY',\n",
       "       'USA', 'UZB', 'VEN', 'VNM', 'VUT', 'WLF', 'WSM', 'YEM', 'ZAF',\n",
       "       'ZMB', 'ZWE'], dtype=object)"
      ]
     },
     "execution_count": 12,
     "metadata": {},
     "output_type": "execute_result"
    }
   ],
   "source": [
    "df_ilo.ref_area.unique()"
   ]
  },
  {
   "cell_type": "markdown",
   "id": "a173114a-60c7-4bd3-be3f-3a127a09ad1a",
   "metadata": {},
   "source": [
    "## 1.2 Truncate data"
   ]
  },
  {
   "cell_type": "code",
   "execution_count": 13,
   "id": "79aa91f8af0e1b36",
   "metadata": {},
   "outputs": [
    {
     "data": {
      "text/html": [
       "<div>\n",
       "<style scoped>\n",
       "    .dataframe tbody tr th:only-of-type {\n",
       "        vertical-align: middle;\n",
       "    }\n",
       "\n",
       "    .dataframe tbody tr th {\n",
       "        vertical-align: top;\n",
       "    }\n",
       "\n",
       "    .dataframe thead th {\n",
       "        text-align: right;\n",
       "    }\n",
       "</style>\n",
       "<table border=\"1\" class=\"dataframe\">\n",
       "  <thead>\n",
       "    <tr style=\"text-align: right;\">\n",
       "      <th></th>\n",
       "      <th>ref_area</th>\n",
       "      <th>time</th>\n",
       "      <th>obs_value</th>\n",
       "    </tr>\n",
       "  </thead>\n",
       "  <tbody>\n",
       "    <tr>\n",
       "      <th>627</th>\n",
       "      <td>FRA</td>\n",
       "      <td>2023</td>\n",
       "      <td>5453.964</td>\n",
       "    </tr>\n",
       "    <tr>\n",
       "      <th>628</th>\n",
       "      <td>FRA</td>\n",
       "      <td>2022</td>\n",
       "      <td>5389.376</td>\n",
       "    </tr>\n",
       "  </tbody>\n",
       "</table>\n",
       "</div>"
      ],
      "text/plain": [
       "    ref_area  time  obs_value\n",
       "627      FRA  2023   5453.964\n",
       "628      FRA  2022   5389.376"
      ]
     },
     "execution_count": 13,
     "metadata": {},
     "output_type": "execute_result"
    }
   ],
   "source": [
    "df_ilo_extract = df_ilo.loc[df_ilo.ref_area.isin([\"USA\", \"FRA\"]), [\"ref_area\", \"time\", \"obs_value\"]]\n",
    "df_ilo_extract.head(2)"
   ]
  },
  {
   "cell_type": "code",
   "execution_count": 14,
   "id": "29618bda6c3541b3",
   "metadata": {},
   "outputs": [
    {
     "data": {
      "text/html": [
       "<div>\n",
       "<style scoped>\n",
       "    .dataframe tbody tr th:only-of-type {\n",
       "        vertical-align: middle;\n",
       "    }\n",
       "\n",
       "    .dataframe tbody tr th {\n",
       "        vertical-align: top;\n",
       "    }\n",
       "\n",
       "    .dataframe thead th {\n",
       "        text-align: right;\n",
       "    }\n",
       "</style>\n",
       "<table border=\"1\" class=\"dataframe\">\n",
       "  <thead>\n",
       "    <tr style=\"text-align: right;\">\n",
       "      <th></th>\n",
       "      <th></th>\n",
       "      <th>ILO</th>\n",
       "    </tr>\n",
       "    <tr>\n",
       "      <th>country</th>\n",
       "      <th>year</th>\n",
       "      <th></th>\n",
       "    </tr>\n",
       "  </thead>\n",
       "  <tbody>\n",
       "    <tr>\n",
       "      <th rowspan=\"2\" valign=\"top\">FRA</th>\n",
       "      <th>2023</th>\n",
       "      <td>5453.964</td>\n",
       "    </tr>\n",
       "    <tr>\n",
       "      <th>2022</th>\n",
       "      <td>5389.376</td>\n",
       "    </tr>\n",
       "  </tbody>\n",
       "</table>\n",
       "</div>"
      ],
      "text/plain": [
       "                   ILO\n",
       "country year          \n",
       "FRA     2023  5453.964\n",
       "        2022  5389.376"
      ]
     },
     "execution_count": 14,
     "metadata": {},
     "output_type": "execute_result"
    }
   ],
   "source": [
    "def_ilo_renamed = df_ilo_extract.rename({\"ref_area\": \"country\", \"time\": \"year\", \"obs_value\": \"ILO\"}, axis=\"columns\")\n",
    "df_ilo_clean = def_ilo_renamed.set_index([\"country\", \"year\"])\n",
    "df_ilo_clean.head(2)"
   ]
  },
  {
   "cell_type": "markdown",
   "id": "67569615-ffde-44eb-a8cc-cf9a09ba5756",
   "metadata": {},
   "source": [
    "# 2. Import data from OECD"
   ]
  },
  {
   "cell_type": "code",
   "execution_count": 15,
   "id": "6766adcd-d2f0-4a22-9542-704fb638dcc5",
   "metadata": {},
   "outputs": [],
   "source": [
    "from src.data.download_oecd_ilo import oecd_api_wrapper"
   ]
  },
  {
   "cell_type": "code",
   "execution_count": 16,
   "id": "e42032b4e1c238f8",
   "metadata": {},
   "outputs": [
    {
     "name": "stdout",
     "output_type": "stream",
     "text": [
      "Fetching OECD data from: https://sdmx.oecd.org/public/rest/data/OECD.SDD.TPS,DSD_ALFS%40DF_SUMTAB,1.0/.EMP.PS.._T...BTE.A?startPeriod=2000&endPeriod=2023&dimensionAtObservation=AllDimensions&format=csv\n",
      "Saving the dataset to: oecd_data_raw.csv\n"
     ]
    },
    {
     "data": {
      "text/html": [
       "<div>\n",
       "<style scoped>\n",
       "    .dataframe tbody tr th:only-of-type {\n",
       "        vertical-align: middle;\n",
       "    }\n",
       "\n",
       "    .dataframe tbody tr th {\n",
       "        vertical-align: top;\n",
       "    }\n",
       "\n",
       "    .dataframe thead th {\n",
       "        text-align: right;\n",
       "    }\n",
       "</style>\n",
       "<table border=\"1\" class=\"dataframe\">\n",
       "  <thead>\n",
       "    <tr style=\"text-align: right;\">\n",
       "      <th></th>\n",
       "      <th>DATAFLOW</th>\n",
       "      <th>REF_AREA</th>\n",
       "      <th>MEASURE</th>\n",
       "      <th>UNIT_MEASURE</th>\n",
       "      <th>TRANSFORMATION</th>\n",
       "      <th>SEX</th>\n",
       "      <th>AGE</th>\n",
       "      <th>WORKER_STATUS</th>\n",
       "      <th>ACTIVITY</th>\n",
       "      <th>FREQ</th>\n",
       "      <th>TIME_PERIOD</th>\n",
       "      <th>OBS_VALUE</th>\n",
       "      <th>BASE_PER</th>\n",
       "      <th>OBS_STATUS</th>\n",
       "      <th>UNIT_MULT</th>\n",
       "      <th>DECIMALS</th>\n",
       "    </tr>\n",
       "  </thead>\n",
       "  <tbody>\n",
       "    <tr>\n",
       "      <th>0</th>\n",
       "      <td>OECD.SDD.TPS:DSD_ALFS@DF_SUMTAB(1.0)</td>\n",
       "      <td>JPN</td>\n",
       "      <td>EMP</td>\n",
       "      <td>PS</td>\n",
       "      <td>_Z</td>\n",
       "      <td>_T</td>\n",
       "      <td>Y_GE15</td>\n",
       "      <td>_Z</td>\n",
       "      <td>BTE</td>\n",
       "      <td>A</td>\n",
       "      <td>2012</td>\n",
       "      <td>15695.00</td>\n",
       "      <td>NaN</td>\n",
       "      <td>A</td>\n",
       "      <td>3</td>\n",
       "      <td>0</td>\n",
       "    </tr>\n",
       "    <tr>\n",
       "      <th>1</th>\n",
       "      <td>OECD.SDD.TPS:DSD_ALFS@DF_SUMTAB(1.0)</td>\n",
       "      <td>JPN</td>\n",
       "      <td>EMP</td>\n",
       "      <td>PS</td>\n",
       "      <td>_Z</td>\n",
       "      <td>_T</td>\n",
       "      <td>Y_GE15</td>\n",
       "      <td>_Z</td>\n",
       "      <td>BTE</td>\n",
       "      <td>A</td>\n",
       "      <td>2011</td>\n",
       "      <td>15389.17</td>\n",
       "      <td>NaN</td>\n",
       "      <td>B</td>\n",
       "      <td>3</td>\n",
       "      <td>0</td>\n",
       "    </tr>\n",
       "  </tbody>\n",
       "</table>\n",
       "</div>"
      ],
      "text/plain": [
       "                               DATAFLOW REF_AREA MEASURE UNIT_MEASURE  \\\n",
       "0  OECD.SDD.TPS:DSD_ALFS@DF_SUMTAB(1.0)      JPN     EMP           PS   \n",
       "1  OECD.SDD.TPS:DSD_ALFS@DF_SUMTAB(1.0)      JPN     EMP           PS   \n",
       "\n",
       "  TRANSFORMATION SEX     AGE WORKER_STATUS ACTIVITY FREQ  TIME_PERIOD  \\\n",
       "0             _Z  _T  Y_GE15            _Z      BTE    A         2012   \n",
       "1             _Z  _T  Y_GE15            _Z      BTE    A         2011   \n",
       "\n",
       "   OBS_VALUE  BASE_PER OBS_STATUS  UNIT_MULT  DECIMALS  \n",
       "0   15695.00       NaN          A          3         0  \n",
       "1   15389.17       NaN          B          3         0  "
      ]
     },
     "execution_count": 16,
     "metadata": {},
     "output_type": "execute_result"
    }
   ],
   "source": [
    "# https://data-explorer.oecd.org/vis?fs[0]=T%2Co&pg=0&fc=Topic&bp=true&snb=68&df[ds]=dsDisseminateFinalDMZ&df[id]=DSD_ALFS%2540DF_SUMTAB&df[ag]=OECD.SDD.TPS&df[vs]=1.0&dq=........A&pd=%2C&to[TIME_PERIOD]=false&vw=ov\n",
    "df_oecd = oecd_api_wrapper(\n",
    "    agency_id=\"OECD.SDD.TPS\",\n",
    "    dataflow_id=\"DSD_ALFS%40DF_SUMTAB\",\n",
    "    dataflow_ver=\"1.0\",\n",
    "    dimensions=[\"all\", \"EMP\", \"PS\", \"all\", \"_T\", \"all\", \"all\", \"BTE\", \"A\"],\n",
    "    startPeriod=2000,\n",
    "    endPeriod=2023,\n",
    "    dimensionAtObservation=\"AllDimensions\",\n",
    "    format=\"csv\",\n",
    "    output_filename=\"oecd_data_raw.csv\",\n",
    ")\n",
    "df_oecd.head(2)"
   ]
  },
  {
   "cell_type": "markdown",
   "id": "b3112d58-377b-46bf-afd2-8f7693330390",
   "metadata": {},
   "source": [
    "## 2.1 Inspect data"
   ]
  },
  {
   "cell_type": "code",
   "execution_count": 17,
   "id": "3372c9eb1ee3a20a",
   "metadata": {},
   "outputs": [
    {
     "data": {
      "text/plain": [
       "array(['JPN', 'EST', 'LVA', 'G7', 'ITA', 'SWE', 'FRA', 'DNK', 'LTU',\n",
       "       'AUS', 'USA', 'SVK', 'ISL', 'COL', 'CHE', 'NOR', 'SVN', 'FIN',\n",
       "       'GRC', 'EA19', 'LUX', 'CAN', 'IRL', 'CZE', 'DEU', 'RUS', 'MEX',\n",
       "       'EU27_2020', 'BEL', 'HUN', 'AUT', 'ISR', 'NZL', 'TUR', 'GBR',\n",
       "       'KOR', 'BRA', 'OECD', 'NLD', 'CRI', 'CHL', 'PRT', 'POL', 'ESP'],\n",
       "      dtype=object)"
      ]
     },
     "execution_count": 17,
     "metadata": {},
     "output_type": "execute_result"
    }
   ],
   "source": [
    "df_oecd.REF_AREA.unique()"
   ]
  },
  {
   "cell_type": "markdown",
   "id": "e5c52a40-795a-4cf7-abc5-f4eeee4d7504",
   "metadata": {},
   "source": [
    "## 2.2 Filter data"
   ]
  },
  {
   "cell_type": "code",
   "execution_count": 18,
   "id": "cd733cdae8dafa58",
   "metadata": {},
   "outputs": [
    {
     "data": {
      "text/html": [
       "<div>\n",
       "<style scoped>\n",
       "    .dataframe tbody tr th:only-of-type {\n",
       "        vertical-align: middle;\n",
       "    }\n",
       "\n",
       "    .dataframe tbody tr th {\n",
       "        vertical-align: top;\n",
       "    }\n",
       "\n",
       "    .dataframe thead th {\n",
       "        text-align: right;\n",
       "    }\n",
       "</style>\n",
       "<table border=\"1\" class=\"dataframe\">\n",
       "  <thead>\n",
       "    <tr style=\"text-align: right;\">\n",
       "      <th></th>\n",
       "      <th>REF_AREA</th>\n",
       "      <th>TIME_PERIOD</th>\n",
       "      <th>OBS_VALUE</th>\n",
       "    </tr>\n",
       "  </thead>\n",
       "  <tbody>\n",
       "    <tr>\n",
       "      <th>64</th>\n",
       "      <td>FRA</td>\n",
       "      <td>2021</td>\n",
       "      <td>5252.70</td>\n",
       "    </tr>\n",
       "    <tr>\n",
       "      <th>65</th>\n",
       "      <td>FRA</td>\n",
       "      <td>2022</td>\n",
       "      <td>5373.95</td>\n",
       "    </tr>\n",
       "  </tbody>\n",
       "</table>\n",
       "</div>"
      ],
      "text/plain": [
       "   REF_AREA  TIME_PERIOD  OBS_VALUE\n",
       "64      FRA         2021    5252.70\n",
       "65      FRA         2022    5373.95"
      ]
     },
     "execution_count": 18,
     "metadata": {},
     "output_type": "execute_result"
    }
   ],
   "source": [
    "df_oecd_extract = df_oecd.loc[df_oecd.REF_AREA.isin([\"USA\", \"FRA\"]), [\"REF_AREA\", \"TIME_PERIOD\", \"OBS_VALUE\"]]\n",
    "df_oecd_extract.head(2)"
   ]
  },
  {
   "cell_type": "code",
   "execution_count": 19,
   "id": "1ce1645e8ecd9062",
   "metadata": {},
   "outputs": [
    {
     "data": {
      "text/html": [
       "<div>\n",
       "<style scoped>\n",
       "    .dataframe tbody tr th:only-of-type {\n",
       "        vertical-align: middle;\n",
       "    }\n",
       "\n",
       "    .dataframe tbody tr th {\n",
       "        vertical-align: top;\n",
       "    }\n",
       "\n",
       "    .dataframe thead th {\n",
       "        text-align: right;\n",
       "    }\n",
       "</style>\n",
       "<table border=\"1\" class=\"dataframe\">\n",
       "  <thead>\n",
       "    <tr style=\"text-align: right;\">\n",
       "      <th></th>\n",
       "      <th></th>\n",
       "      <th>OECD</th>\n",
       "    </tr>\n",
       "    <tr>\n",
       "      <th>country</th>\n",
       "      <th>year</th>\n",
       "      <th></th>\n",
       "    </tr>\n",
       "  </thead>\n",
       "  <tbody>\n",
       "    <tr>\n",
       "      <th rowspan=\"2\" valign=\"top\">FRA</th>\n",
       "      <th>2021</th>\n",
       "      <td>5252.70</td>\n",
       "    </tr>\n",
       "    <tr>\n",
       "      <th>2022</th>\n",
       "      <td>5373.95</td>\n",
       "    </tr>\n",
       "  </tbody>\n",
       "</table>\n",
       "</div>"
      ],
      "text/plain": [
       "                 OECD\n",
       "country year         \n",
       "FRA     2021  5252.70\n",
       "        2022  5373.95"
      ]
     },
     "execution_count": 19,
     "metadata": {},
     "output_type": "execute_result"
    }
   ],
   "source": [
    "df_oecd_renamed = df_oecd_extract.rename({\"REF_AREA\": \"country\", \"TIME_PERIOD\": \"year\", \"OBS_VALUE\": \"OECD\"}, axis=\"columns\")\n",
    "df_oecd_clean = df_oecd_renamed.set_index([\"country\", \"year\"])\n",
    "df_oecd_clean.head(2)"
   ]
  },
  {
   "cell_type": "markdown",
   "id": "02f2be2b-0d45-4662-909d-612eb3053017",
   "metadata": {},
   "source": [
    "# Merge data"
   ]
  },
  {
   "cell_type": "code",
   "execution_count": 20,
   "id": "25fe5c66102a40c2",
   "metadata": {},
   "outputs": [
    {
     "data": {
      "text/html": [
       "<div>\n",
       "<style scoped>\n",
       "    .dataframe tbody tr th:only-of-type {\n",
       "        vertical-align: middle;\n",
       "    }\n",
       "\n",
       "    .dataframe tbody tr th {\n",
       "        vertical-align: top;\n",
       "    }\n",
       "\n",
       "    .dataframe thead th {\n",
       "        text-align: right;\n",
       "    }\n",
       "</style>\n",
       "<table border=\"1\" class=\"dataframe\">\n",
       "  <thead>\n",
       "    <tr style=\"text-align: right;\">\n",
       "      <th></th>\n",
       "      <th></th>\n",
       "      <th>ILO</th>\n",
       "      <th>OECD</th>\n",
       "    </tr>\n",
       "    <tr>\n",
       "      <th>country</th>\n",
       "      <th>year</th>\n",
       "      <th></th>\n",
       "      <th></th>\n",
       "    </tr>\n",
       "  </thead>\n",
       "  <tbody>\n",
       "    <tr>\n",
       "      <th rowspan=\"2\" valign=\"top\">FRA</th>\n",
       "      <th>2023</th>\n",
       "      <td>5453.964</td>\n",
       "      <td>5453.95</td>\n",
       "    </tr>\n",
       "    <tr>\n",
       "      <th>2022</th>\n",
       "      <td>5389.376</td>\n",
       "      <td>5373.95</td>\n",
       "    </tr>\n",
       "  </tbody>\n",
       "</table>\n",
       "</div>"
      ],
      "text/plain": [
       "                   ILO     OECD\n",
       "country year                   \n",
       "FRA     2023  5453.964  5453.95\n",
       "        2022  5389.376  5373.95"
      ]
     },
     "execution_count": 20,
     "metadata": {},
     "output_type": "execute_result"
    }
   ],
   "source": [
    "df_merge = pd.merge(\n",
    "    df_ilo_clean,\n",
    "    df_oecd_clean,\n",
    "    right_index = True,\n",
    "    left_index = True,\n",
    "    how = 'inner'\n",
    ")\n",
    "df_merge.head(2)"
   ]
  },
  {
   "cell_type": "code",
   "execution_count": 21,
   "id": "acb51616eeaba662",
   "metadata": {},
   "outputs": [
    {
     "data": {
      "text/html": [
       "<div>\n",
       "<style scoped>\n",
       "    .dataframe tbody tr th:only-of-type {\n",
       "        vertical-align: middle;\n",
       "    }\n",
       "\n",
       "    .dataframe tbody tr th {\n",
       "        vertical-align: top;\n",
       "    }\n",
       "\n",
       "    .dataframe thead th {\n",
       "        text-align: right;\n",
       "    }\n",
       "</style>\n",
       "<table border=\"1\" class=\"dataframe\">\n",
       "  <thead>\n",
       "    <tr style=\"text-align: right;\">\n",
       "      <th></th>\n",
       "      <th>country</th>\n",
       "      <th>year</th>\n",
       "      <th>source</th>\n",
       "      <th>employment</th>\n",
       "    </tr>\n",
       "  </thead>\n",
       "  <tbody>\n",
       "    <tr>\n",
       "      <th>0</th>\n",
       "      <td>FRA</td>\n",
       "      <td>2023</td>\n",
       "      <td>ILO</td>\n",
       "      <td>5453.964</td>\n",
       "    </tr>\n",
       "    <tr>\n",
       "      <th>1</th>\n",
       "      <td>FRA</td>\n",
       "      <td>2022</td>\n",
       "      <td>ILO</td>\n",
       "      <td>5389.376</td>\n",
       "    </tr>\n",
       "  </tbody>\n",
       "</table>\n",
       "</div>"
      ],
      "text/plain": [
       "  country  year source  employment\n",
       "0     FRA  2023    ILO    5453.964\n",
       "1     FRA  2022    ILO    5389.376"
      ]
     },
     "execution_count": 21,
     "metadata": {},
     "output_type": "execute_result"
    }
   ],
   "source": [
    "df_melt = pd.melt(df_merge.reset_index(), id_vars=[\"country\", \"year\"], value_vars=[\"ILO\", \"OECD\"], var_name=\"source\", value_name=\"employment\")\n",
    "df_melt.head(2)"
   ]
  },
  {
   "cell_type": "markdown",
   "id": "09426179-c255-4fcc-891f-655129ecc3c2",
   "metadata": {},
   "source": [
    "# Graph data"
   ]
  },
  {
   "cell_type": "code",
   "execution_count": null,
   "id": "a2f17441b83ec38e",
   "metadata": {},
   "outputs": [
    {
     "ename": "NameError",
     "evalue": "name 'FacetGrid' is not defined",
     "output_type": "error",
     "traceback": [
      "\u001b[0;31m---------------------------------------------------------------------------\u001b[0m",
      "\u001b[0;31mNameError\u001b[0m                                 Traceback (most recent call last)",
      "Cell \u001b[0;32mIn[22], line 4\u001b[0m\n\u001b[1;32m      1\u001b[0m \u001b[38;5;28;01mimport\u001b[39;00m\u001b[38;5;250m \u001b[39m\u001b[38;5;21;01mmatplotlib\u001b[39;00m\u001b[38;5;21;01m.\u001b[39;00m\u001b[38;5;21;01mpyplot\u001b[39;00m\u001b[38;5;250m \u001b[39m\u001b[38;5;28;01mas\u001b[39;00m\u001b[38;5;250m \u001b[39m\u001b[38;5;21;01mplt\u001b[39;00m\n\u001b[1;32m      2\u001b[0m \u001b[38;5;28;01mimport\u001b[39;00m\u001b[38;5;250m \u001b[39m\u001b[38;5;21;01mseaborn\u001b[39;00m\u001b[38;5;250m \u001b[39m\u001b[38;5;28;01mas\u001b[39;00m\u001b[38;5;250m \u001b[39m\u001b[38;5;21;01msns\u001b[39;00m\n\u001b[0;32m----> 4\u001b[0m g \u001b[38;5;241m=\u001b[39m \u001b[43mFacetGrid\u001b[49m(\u001b[38;5;241m1\u001b[39m,\u001b[38;5;241m2\u001b[39m,sharey\u001b[38;5;241m=\u001b[39m\u001b[38;5;28;01mFalse\u001b[39;00m)\n\u001b[1;32m      5\u001b[0m g \u001b[38;5;241m=\u001b[39m sns\u001b[38;5;241m.\u001b[39mrelplot(data\u001b[38;5;241m=\u001b[39mdf_melt, x\u001b[38;5;241m=\u001b[39m\u001b[38;5;124m\"\u001b[39m\u001b[38;5;124myear\u001b[39m\u001b[38;5;124m\"\u001b[39m, y\u001b[38;5;241m=\u001b[39m\u001b[38;5;124m\"\u001b[39m\u001b[38;5;124memployment\u001b[39m\u001b[38;5;124m\"\u001b[39m, hue\u001b[38;5;241m=\u001b[39m\u001b[38;5;124m\"\u001b[39m\u001b[38;5;124msource\u001b[39m\u001b[38;5;124m\"\u001b[39m, col\u001b[38;5;241m=\u001b[39m\u001b[38;5;124m\"\u001b[39m\u001b[38;5;124mcountry\u001b[39m\u001b[38;5;124m\"\u001b[39m, kind\u001b[38;5;241m=\u001b[39m\u001b[38;5;124m\"\u001b[39m\u001b[38;5;124mline\u001b[39m\u001b[38;5;124m\"\u001b[39m, facet_kws\u001b[38;5;241m=\u001b[39m{\u001b[38;5;124m'\u001b[39m\u001b[38;5;124msharey\u001b[39m\u001b[38;5;124m'\u001b[39m: \u001b[38;5;28;01mFalse\u001b[39;00m})\n\u001b[1;32m      6\u001b[0m g\u001b[38;5;241m.\u001b[39mset\n",
      "\u001b[0;31mNameError\u001b[0m: name 'FacetGrid' is not defined"
     ]
    }
   ],
   "source": [
    "import matplotlib.pyplot as plt\n",
    "import seaborn as sns\n",
    "\n",
    "g = FacetGrid(1,2,sharey=False)\n",
    "g = sns.relplot(data=df_melt, x=\"year\", y=\"employment\", hue=\"source\", col=\"country\", kind=\"line\", facet_kws={'sharey': False})\n",
    "g.set\n"
   ]
  },
  {
   "cell_type": "markdown",
   "id": "d2622cd8-26fb-4c19-8500-f39cffecf632",
   "metadata": {},
   "source": [
    "# CAN YOU PLEASE DESCRIBE THE COMTRAD DATA \n",
    "\n",
    "- Were you unable to download it from the comtrad API?\n",
    "    - Please"
   ]
  },
  {
   "cell_type": "code",
   "execution_count": 27,
   "id": "fcd293f7",
   "metadata": {},
   "outputs": [
    {
     "data": {
      "text/html": [
       "<div>\n",
       "<style scoped>\n",
       "    .dataframe tbody tr th:only-of-type {\n",
       "        vertical-align: middle;\n",
       "    }\n",
       "\n",
       "    .dataframe tbody tr th {\n",
       "        vertical-align: top;\n",
       "    }\n",
       "\n",
       "    .dataframe thead th {\n",
       "        text-align: right;\n",
       "    }\n",
       "</style>\n",
       "<table border=\"1\" class=\"dataframe\">\n",
       "  <thead>\n",
       "    <tr style=\"text-align: right;\">\n",
       "      <th></th>\n",
       "      <th>typeCode</th>\n",
       "      <th>freqCode</th>\n",
       "      <th>refPeriodId</th>\n",
       "      <th>refYear</th>\n",
       "      <th>refMonth</th>\n",
       "      <th>period</th>\n",
       "      <th>reporterCode</th>\n",
       "      <th>reporterISO</th>\n",
       "      <th>reporterDesc</th>\n",
       "      <th>flowCode</th>\n",
       "      <th>...</th>\n",
       "      <th>netWgt</th>\n",
       "      <th>isNetWgtEstimated</th>\n",
       "      <th>grossWgt</th>\n",
       "      <th>isGrossWgtEstimated</th>\n",
       "      <th>cifvalue</th>\n",
       "      <th>fobvalue</th>\n",
       "      <th>primaryValue</th>\n",
       "      <th>legacyEstimationFlag</th>\n",
       "      <th>isReported</th>\n",
       "      <th>isAggregate</th>\n",
       "    </tr>\n",
       "  </thead>\n",
       "  <tbody>\n",
       "    <tr>\n",
       "      <th>0</th>\n",
       "      <td>C</td>\n",
       "      <td>A</td>\n",
       "      <td>20010101</td>\n",
       "      <td>2001</td>\n",
       "      <td>52</td>\n",
       "      <td>2001</td>\n",
       "      <td>8</td>\n",
       "      <td>ALB</td>\n",
       "      <td>Albania</td>\n",
       "      <td>M</td>\n",
       "      <td>...</td>\n",
       "      <td>NaN</td>\n",
       "      <td>False</td>\n",
       "      <td>NaN</td>\n",
       "      <td>False</td>\n",
       "      <td>1.330631e+09</td>\n",
       "      <td>NaN</td>\n",
       "      <td>1.330631e+09</td>\n",
       "      <td>0</td>\n",
       "      <td>False</td>\n",
       "      <td>False</td>\n",
       "    </tr>\n",
       "    <tr>\n",
       "      <th>1</th>\n",
       "      <td>C</td>\n",
       "      <td>A</td>\n",
       "      <td>20010101</td>\n",
       "      <td>2001</td>\n",
       "      <td>52</td>\n",
       "      <td>2001</td>\n",
       "      <td>8</td>\n",
       "      <td>ALB</td>\n",
       "      <td>Albania</td>\n",
       "      <td>X</td>\n",
       "      <td>...</td>\n",
       "      <td>NaN</td>\n",
       "      <td>False</td>\n",
       "      <td>NaN</td>\n",
       "      <td>False</td>\n",
       "      <td>NaN</td>\n",
       "      <td>304930699.0</td>\n",
       "      <td>3.049307e+08</td>\n",
       "      <td>0</td>\n",
       "      <td>False</td>\n",
       "      <td>False</td>\n",
       "    </tr>\n",
       "  </tbody>\n",
       "</table>\n",
       "<p>2 rows × 47 columns</p>\n",
       "</div>"
      ],
      "text/plain": [
       "  typeCode freqCode  refPeriodId  refYear  refMonth  period  reporterCode  \\\n",
       "0        C        A     20010101     2001        52    2001             8   \n",
       "1        C        A     20010101     2001        52    2001             8   \n",
       "\n",
       "  reporterISO reporterDesc flowCode  ... netWgt  isNetWgtEstimated grossWgt  \\\n",
       "0         ALB      Albania        M  ...    NaN              False      NaN   \n",
       "1         ALB      Albania        X  ...    NaN              False      NaN   \n",
       "\n",
       "  isGrossWgtEstimated      cifvalue     fobvalue  primaryValue  \\\n",
       "0               False  1.330631e+09          NaN  1.330631e+09   \n",
       "1               False           NaN  304930699.0  3.049307e+08   \n",
       "\n",
       "  legacyEstimationFlag isReported  isAggregate  \n",
       "0                    0      False        False  \n",
       "1                    0      False        False  \n",
       "\n",
       "[2 rows x 47 columns]"
      ]
     },
     "execution_count": 27,
     "metadata": {},
     "output_type": "execute_result"
    }
   ],
   "source": [
    "import pandas as pd\n",
    "\n",
    "df_2001_raw = pd.read_csv(\"data/Comtrade 2001_2012.csv\", encoding=\"latin1\", index_col=False)\n",
    "\n",
    "df_2001_raw.head(2)\n"
   ]
  },
  {
   "cell_type": "code",
   "execution_count": 42,
   "id": "b05e0eb1",
   "metadata": {},
   "outputs": [
    {
     "name": "stdout",
     "output_type": "stream",
     "text": [
      "              total trade value import or export\n",
      "country year                                    \n",
      "Albania 2001       1.330631e+09           Import\n",
      "        2001       3.049307e+08           Export\n"
     ]
    }
   ],
   "source": [
    "\n",
    "\n",
    "df_2001 = df_2001_raw[['reporterDesc', 'refYear', 'primaryValue', 'flowDesc']].dropna()\n",
    "\n",
    "df_2001 = df_2001.rename({\"reporterDesc\":'country', \"refYear\":'date', \"primaryValue\":'total trade value', \"flowDesc\":'import or export'}, axis=1)\n",
    "\n",
    "df_2001 = df_2001.rename({\"date\":'year'}, axis=1)\n",
    "df_2001 = df_2001.set_index(['country', 'year'])\n",
    "\n",
    "\n",
    "print (df_2001.head(2))\n"
   ]
  },
  {
   "cell_type": "code",
   "execution_count": 43,
   "id": "14683962",
   "metadata": {},
   "outputs": [],
   "source": [
    "df_melt = df_melt.set_index(['country', 'year'])"
   ]
  },
  {
   "cell_type": "code",
   "execution_count": 44,
   "id": "c539d631",
   "metadata": {},
   "outputs": [
    {
     "data": {
      "text/html": [
       "<div>\n",
       "<style scoped>\n",
       "    .dataframe tbody tr th:only-of-type {\n",
       "        vertical-align: middle;\n",
       "    }\n",
       "\n",
       "    .dataframe tbody tr th {\n",
       "        vertical-align: top;\n",
       "    }\n",
       "\n",
       "    .dataframe thead th {\n",
       "        text-align: right;\n",
       "    }\n",
       "</style>\n",
       "<table border=\"1\" class=\"dataframe\">\n",
       "  <thead>\n",
       "    <tr style=\"text-align: right;\">\n",
       "      <th></th>\n",
       "      <th></th>\n",
       "      <th>total trade value</th>\n",
       "      <th>import or export</th>\n",
       "      <th>source</th>\n",
       "      <th>employment</th>\n",
       "    </tr>\n",
       "    <tr>\n",
       "      <th>country</th>\n",
       "      <th>year</th>\n",
       "      <th></th>\n",
       "      <th></th>\n",
       "      <th></th>\n",
       "      <th></th>\n",
       "    </tr>\n",
       "  </thead>\n",
       "  <tbody>\n",
       "    <tr>\n",
       "      <th rowspan=\"2\" valign=\"top\">USA</th>\n",
       "      <th>2012</th>\n",
       "      <td>1.544932e+12</td>\n",
       "      <td>Export</td>\n",
       "      <td>ILO</td>\n",
       "      <td>27733.192</td>\n",
       "    </tr>\n",
       "    <tr>\n",
       "      <th>2012</th>\n",
       "      <td>1.544932e+12</td>\n",
       "      <td>Export</td>\n",
       "      <td>OECD</td>\n",
       "      <td>24607.670</td>\n",
       "    </tr>\n",
       "  </tbody>\n",
       "</table>\n",
       "</div>"
      ],
      "text/plain": [
       "              total trade value import or export source  employment\n",
       "country year                                                       \n",
       "USA     2012       1.544932e+12           Export    ILO   27733.192\n",
       "        2012       1.544932e+12           Export   OECD   24607.670"
      ]
     },
     "execution_count": 44,
     "metadata": {},
     "output_type": "execute_result"
    }
   ],
   "source": [
    "df_merge = pd.merge(\n",
    "    df_2001,\n",
    "    df_melt,\n",
    "    right_index = True,\n",
    "    left_index = True,\n",
    "    how = 'inner'\n",
    "    \n",
    ")\n",
    "df_merge.tail(2)"
   ]
  },
  {
   "cell_type": "code",
   "execution_count": 45,
   "id": "e7a7556f",
   "metadata": {},
   "outputs": [
    {
     "data": {
      "text/plain": [
       "<seaborn.axisgrid.PairGrid at 0x1305b1b20>"
      ]
     },
     "execution_count": 45,
     "metadata": {},
     "output_type": "execute_result"
    },
    {
     "data": {
      "image/png": "[encoded data removed]",
      "text/plain": [
       "<Figure size 500x500 with 6 Axes>"
      ]
     },
     "metadata": {},
     "output_type": "display_data"
    }
   ],
   "source": [
    "import seaborn as sns\n",
    "\n",
    "g = sns.PairGrid(df_merge)\n",
    "g.map_diag(sns.histplot)\n",
    "g.map_offdiag(sns.scatterplot)"
   ]
  },
  {
   "cell_type": "markdown",
   "id": "e5da0426",
   "metadata": {},
   "source": []
  },
  {
   "cell_type": "code",
   "execution_count": null,
   "id": "fb9ff8c3",
   "metadata": {},
   "outputs": [],
   "source": []
  }
 ],
 "metadata": {
  "kernelspec": {
   "display_name": ".venv",
   "language": "python",
   "name": "python3"
  },
  "language_info": {
   "codemirror_mode": {
    "name": "ipython",
    "version": 3
   },
   "file_extension": ".py",
   "mimetype": "text/x-python",
   "name": "python",
   "nbconvert_exporter": "python",
   "pygments_lexer": "ipython3",
   "version": "3.9.6"
  }
 },
 "nbformat": 4,
 "nbformat_minor": 5
}
