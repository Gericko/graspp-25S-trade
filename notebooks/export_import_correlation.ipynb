{
 "cells": [
  {
   "cell_type": "markdown",
   "id": "f6b63bca742e94e0",
   "metadata": {},
   "source": [
    "### Activate the auto-reload"
   ]
  },
  {
   "cell_type": "code",
   "execution_count": 27,
   "id": "8f2dfe0be6af72ea",
   "metadata": {
    "ExecuteTime": {
     "end_time": "2025-05-23T04:48:31.505800Z",
     "start_time": "2025-05-23T04:48:31.489947Z"
    }
   },
   "outputs": [
    {
     "name": "stdout",
     "output_type": "stream",
     "text": [
      "The autoreload extension is already loaded. To reload it, use:\n",
      "  %reload_ext autoreload\n"
     ]
    }
   ],
   "source": [
    "%load_ext autoreload\n",
    "%autoreload 2"
   ]
  },
  {
   "cell_type": "markdown",
   "id": "1d53f2b5db97b321",
   "metadata": {},
   "source": [
    "### Import the libraries"
   ]
  },
  {
   "cell_type": "code",
   "execution_count": 28,
   "id": "ded9be258fdd363b",
   "metadata": {
    "ExecuteTime": {
     "end_time": "2025-05-23T04:48:31.543664Z",
     "start_time": "2025-05-23T04:48:31.529571Z"
    }
   },
   "outputs": [],
   "source": [
    "import sys\n",
    "from pathlib import Path\n",
    "import os\n",
    "import pandas as pd\n",
    "import matplotlib.pyplot as plt\n",
    "import seaborn as sns\n",
    "import statsmodels.formula.api as smf\n",
    "from sklearn.preprocessing import StandardScaler\n",
    "from sklearn.cluster import KMeans\n",
    "from sklearn.linear_model import LinearRegression\n",
    "from sklearn.metrics import silhouette_score\n",
    "import plotly.graph_objects as go\n",
    "import plotly.express as px"
   ]
  },
  {
   "cell_type": "markdown",
   "id": "4d6074338a5164f7",
   "metadata": {},
   "source": [
    "### Set file path to parent directory"
   ]
  },
  {
   "cell_type": "code",
   "execution_count": 29,
   "id": "ee3d1eb36d203511",
   "metadata": {
    "ExecuteTime": {
     "end_time": "2025-05-23T04:48:31.575638Z",
     "start_time": "2025-05-23T04:48:31.562521Z"
    }
   },
   "outputs": [],
   "source": [
    "sys.path.append(str(Path().resolve().parent / \"src\"))\n",
    "os.chdir(\"../\")"
   ]
  },
  {
   "cell_type": "markdown",
   "id": "fdbb791f5ac5d22b",
   "metadata": {},
   "source": [
    "### Import the homemade functions"
   ]
  },
  {
   "cell_type": "code",
   "execution_count": 30,
   "id": "df63304ebbf97125",
   "metadata": {
    "ExecuteTime": {
     "end_time": "2025-05-23T04:48:31.605682Z",
     "start_time": "2025-05-23T04:48:31.593526Z"
    }
   },
   "outputs": [],
   "source": [
    "from src.data.data_import import DataImporter\n",
    "from src.features.generate_features import GenerateFeatures"
   ]
  },
  {
   "cell_type": "markdown",
   "id": "515f8af61d5789c4",
   "metadata": {},
   "source": [
    "### Get the API keys to access UN data\n",
    "\n",
    "How-to available at this address: [https://uncomtrade.org/docs/api-subscription-keys/](https://uncomtrade.org/docs/api-subscription-keys/)"
   ]
  },
  {
   "cell_type": "code",
   "execution_count": 31,
   "id": "5824063c1c0a15a1",
   "metadata": {
    "ExecuteTime": {
     "end_time": "2025-05-23T04:48:31.638091Z",
     "start_time": "2025-05-23T04:48:31.623363Z"
    }
   },
   "outputs": [],
   "source": [
    "UN_API_KEY = \"<YOUR_API_KEY>\""
   ]
  },
  {
   "cell_type": "markdown",
   "id": "e0c53ab73ddb8cc1",
   "metadata": {},
   "source": [
    "# 1. Import the data"
   ]
  },
  {
   "cell_type": "code",
   "execution_count": 32,
   "id": "672a126116b6b0e2",
   "metadata": {
    "ExecuteTime": {
     "end_time": "2025-05-23T04:48:31.675480Z",
     "start_time": "2025-05-23T04:48:31.658565Z"
    }
   },
   "outputs": [
    {
     "name": "stdout",
     "output_type": "stream",
     "text": [
      "Reading merged data from: /Users/lianyijing/Library/Mobile Documents/com~apple~CloudDocs/東大/2025 S/Data Science for Public Policy/graspp-25S-trade/data/interim/merge.csv\n"
     ]
    },
    {
     "data": {
      "text/html": [
       "<div>\n",
       "<style scoped>\n",
       "    .dataframe tbody tr th:only-of-type {\n",
       "        vertical-align: middle;\n",
       "    }\n",
       "\n",
       "    .dataframe tbody tr th {\n",
       "        vertical-align: top;\n",
       "    }\n",
       "\n",
       "    .dataframe thead th {\n",
       "        text-align: right;\n",
       "    }\n",
       "</style>\n",
       "<table border=\"1\" class=\"dataframe\">\n",
       "  <thead>\n",
       "    <tr style=\"text-align: right;\">\n",
       "      <th></th>\n",
       "      <th></th>\n",
       "      <th>Export</th>\n",
       "      <th>Import</th>\n",
       "      <th>ILO</th>\n",
       "    </tr>\n",
       "    <tr>\n",
       "      <th>country</th>\n",
       "      <th>year</th>\n",
       "      <th></th>\n",
       "      <th></th>\n",
       "      <th></th>\n",
       "    </tr>\n",
       "  </thead>\n",
       "  <tbody>\n",
       "    <tr>\n",
       "      <th>ABW</th>\n",
       "      <th>2010</th>\n",
       "      <td>124523218.0</td>\n",
       "      <td>1.071034e+09</td>\n",
       "      <td>6.738</td>\n",
       "    </tr>\n",
       "    <tr>\n",
       "      <th>AFG</th>\n",
       "      <th>2014</th>\n",
       "      <td>570534007.0</td>\n",
       "      <td>7.697178e+09</td>\n",
       "      <td>1389.950</td>\n",
       "    </tr>\n",
       "  </tbody>\n",
       "</table>\n",
       "</div>"
      ],
      "text/plain": [
       "                   Export        Import       ILO\n",
       "country year                                     \n",
       "ABW     2010  124523218.0  1.071034e+09     6.738\n",
       "AFG     2014  570534007.0  7.697178e+09  1389.950"
      ]
     },
     "execution_count": 32,
     "metadata": {},
     "output_type": "execute_result"
    }
   ],
   "source": [
    "importer = DataImporter(api_key=UN_API_KEY)\n",
    "df = importer.get_merged_data()\n",
    "df.head(2)"
   ]
  },
  {
   "cell_type": "markdown",
   "id": "85b1876ab7a3aa6f",
   "metadata": {},
   "source": [
    "# 2. Generate the features"
   ]
  },
  {
   "cell_type": "code",
   "execution_count": 33,
   "id": "218ad37940ee3cf",
   "metadata": {
    "ExecuteTime": {
     "end_time": "2025-05-23T04:48:33.306308Z",
     "start_time": "2025-05-23T04:48:33.219119Z"
    }
   },
   "outputs": [
    {
     "name": "stderr",
     "output_type": "stream",
     "text": [
      "/Users/lianyijing/Library/Mobile Documents/com~apple~CloudDocs/東大/2025 S/Data Science for Public Policy/graspp-25S-trade/src/features/generate_features.py:73: FutureWarning:\n",
      "\n",
      "The default fill_method='ffill' in DataFrameGroupBy.pct_change is deprecated and will be removed in a future version. Either fill in any non-leading NA values prior to calling pct_change or specify 'fill_method=None' to not fill NA values.\n",
      "\n"
     ]
    },
    {
     "data": {
      "text/html": [
       "<div>\n",
       "<style scoped>\n",
       "    .dataframe tbody tr th:only-of-type {\n",
       "        vertical-align: middle;\n",
       "    }\n",
       "\n",
       "    .dataframe tbody tr th {\n",
       "        vertical-align: top;\n",
       "    }\n",
       "\n",
       "    .dataframe thead th {\n",
       "        text-align: right;\n",
       "    }\n",
       "</style>\n",
       "<table border=\"1\" class=\"dataframe\">\n",
       "  <thead>\n",
       "    <tr style=\"text-align: right;\">\n",
       "      <th></th>\n",
       "      <th></th>\n",
       "      <th>Export</th>\n",
       "      <th>Import</th>\n",
       "      <th>ILO</th>\n",
       "      <th>Export_chpct1Y</th>\n",
       "      <th>Import_chpct1Y</th>\n",
       "      <th>ILO_chpct1Y</th>\n",
       "    </tr>\n",
       "    <tr>\n",
       "      <th>country</th>\n",
       "      <th>year</th>\n",
       "      <th></th>\n",
       "      <th></th>\n",
       "      <th></th>\n",
       "      <th></th>\n",
       "      <th></th>\n",
       "      <th></th>\n",
       "    </tr>\n",
       "  </thead>\n",
       "  <tbody>\n",
       "    <tr>\n",
       "      <th rowspan=\"2\" valign=\"top\">AGO</th>\n",
       "      <th>2009</th>\n",
       "      <td>4.063941e+10</td>\n",
       "      <td>2.391885e+10</td>\n",
       "      <td>432.430</td>\n",
       "      <td>2.066275</td>\n",
       "      <td>3.715792</td>\n",
       "      <td>0.063328</td>\n",
       "    </tr>\n",
       "    <tr>\n",
       "      <th>2011</th>\n",
       "      <td>6.642739e+10</td>\n",
       "      <td>2.079100e+10</td>\n",
       "      <td>540.716</td>\n",
       "      <td>0.634556</td>\n",
       "      <td>-0.130770</td>\n",
       "      <td>0.250413</td>\n",
       "    </tr>\n",
       "  </tbody>\n",
       "</table>\n",
       "</div>"
      ],
      "text/plain": [
       "                    Export        Import      ILO  Export_chpct1Y  \\\n",
       "country year                                                        \n",
       "AGO     2009  4.063941e+10  2.391885e+10  432.430        2.066275   \n",
       "        2011  6.642739e+10  2.079100e+10  540.716        0.634556   \n",
       "\n",
       "              Import_chpct1Y  ILO_chpct1Y  \n",
       "country year                               \n",
       "AGO     2009        3.715792     0.063328  \n",
       "        2011       -0.130770     0.250413  "
      ]
     },
     "execution_count": 33,
     "metadata": {},
     "output_type": "execute_result"
    }
   ],
   "source": [
    "features_generator = GenerateFeatures(features=\"changepct\", time_period=\"Y\")\n",
    "df_features = features_generator.transform(df)\n",
    "df_drop = df_features.dropna()\n",
    "df_Filter = df_drop.groupby('country').filter(lambda x: len(x) >= 5)\n",
    "df_Filter.head(2)"
   ]
  },
  {
   "cell_type": "code",
   "execution_count": 34,
   "id": "573c6a11",
   "metadata": {},
   "outputs": [
    {
     "data": {
      "text/html": [
       "<div>\n",
       "<style scoped>\n",
       "    .dataframe tbody tr th:only-of-type {\n",
       "        vertical-align: middle;\n",
       "    }\n",
       "\n",
       "    .dataframe tbody tr th {\n",
       "        vertical-align: top;\n",
       "    }\n",
       "\n",
       "    .dataframe thead th {\n",
       "        text-align: right;\n",
       "    }\n",
       "</style>\n",
       "<table border=\"1\" class=\"dataframe\">\n",
       "  <thead>\n",
       "    <tr style=\"text-align: right;\">\n",
       "      <th></th>\n",
       "      <th>country</th>\n",
       "      <th>year</th>\n",
       "      <th>Export</th>\n",
       "      <th>Import</th>\n",
       "      <th>ILO</th>\n",
       "      <th>Export_chpct1Y</th>\n",
       "      <th>Import_chpct1Y</th>\n",
       "      <th>ILO_chpct1Y</th>\n",
       "    </tr>\n",
       "  </thead>\n",
       "  <tbody>\n",
       "    <tr>\n",
       "      <th>0</th>\n",
       "      <td>AGO</td>\n",
       "      <td>2009</td>\n",
       "      <td>4.063941e+10</td>\n",
       "      <td>2.391885e+10</td>\n",
       "      <td>432.430</td>\n",
       "      <td>2.066275</td>\n",
       "      <td>3.715792</td>\n",
       "      <td>0.063328</td>\n",
       "    </tr>\n",
       "    <tr>\n",
       "      <th>1</th>\n",
       "      <td>AGO</td>\n",
       "      <td>2011</td>\n",
       "      <td>6.642739e+10</td>\n",
       "      <td>2.079100e+10</td>\n",
       "      <td>540.716</td>\n",
       "      <td>0.634556</td>\n",
       "      <td>-0.130770</td>\n",
       "      <td>0.250413</td>\n",
       "    </tr>\n",
       "  </tbody>\n",
       "</table>\n",
       "</div>"
      ],
      "text/plain": [
       "  country  year        Export        Import      ILO  Export_chpct1Y  \\\n",
       "0     AGO  2009  4.063941e+10  2.391885e+10  432.430        2.066275   \n",
       "1     AGO  2011  6.642739e+10  2.079100e+10  540.716        0.634556   \n",
       "\n",
       "   Import_chpct1Y  ILO_chpct1Y  \n",
       "0        3.715792     0.063328  \n",
       "1       -0.130770     0.250413  "
      ]
     },
     "execution_count": 34,
     "metadata": {},
     "output_type": "execute_result"
    }
   ],
   "source": [
    "df_filter = df_Filter.reset_index()\n",
    "df_filter.head(2)"
   ]
  },
  {
   "cell_type": "markdown",
   "id": "0b5b7088",
   "metadata": {},
   "source": [
    "# 3. Descriptive statistics"
   ]
  },
  {
   "cell_type": "code",
   "execution_count": 35,
   "id": "b1d8ecf2",
   "metadata": {},
   "outputs": [
    {
     "data": {
      "text/plain": [
       "<seaborn.axisgrid.PairGrid at 0x28af78260>"
      ]
     },
     "execution_count": 35,
     "metadata": {},
     "output_type": "execute_result"
    },
    {
     "data": {
      "image/png": "[encoded data removed]",
      "text/plain": [
       "<Figure size 750x750 with 12 Axes>"
      ]
     },
     "metadata": {},
     "output_type": "display_data"
    }
   ],
   "source": [
    "g = sns.PairGrid(df_filter.loc[:, [\"ILO_chpct1Y\", \"Import_chpct1Y\", \"Export_chpct1Y\"]])\n",
    "g.map_diag(sns.histplot)\n",
    "g.map_offdiag(sns.scatterplot)"
   ]
  },
  {
   "cell_type": "markdown",
   "id": "e558e263",
   "metadata": {},
   "source": [
    "# 4. Cloud of Countries"
   ]
  },
  {
   "cell_type": "code",
   "execution_count": 36,
   "id": "3a5a04b6",
   "metadata": {},
   "outputs": [
    {
     "name": "stdout",
     "output_type": "stream",
     "text": [
      "  country                                        trend\n",
      "0     AGO    [-0.1685722765061743, 0.1496685842191645]\n",
      "1     ALB    [0.1900519612037662, -0.2804923947433011]\n",
      "2     ARE    [-2.3981020286968042, 3.4157996641049593]\n",
      "3     ARG   [0.03950654903623499, 0.07474641699902464]\n",
      "4     AUS  [0.09079259703754507, 0.012224001710847523]\n"
     ]
    }
   ],
   "source": [
    "# I ran regression on the import and export trade volume to get the trends of countries on export and import. \n",
    "# Then plot the points with coefficients of export (y-axis) and import (x-axis) to see the correlations.\n",
    "# We can conduct case studies on the outlier countries\n",
    "\n",
    "# Define a function to calculate the trend for each country\n",
    "def calculate_trend(df, country):\n",
    "    # Filter the data for the specified country\n",
    "    country_df = df[df['country'] == country]\n",
    "    \n",
    "    # Sort the data by year\n",
    "    country_df = country_df.sort_values('year')\n",
    "    \n",
    "    # Create a linear regression model\n",
    "    model = LinearRegression()\n",
    "    \n",
    "    # Fit the model to the data\n",
    "    model.fit(country_df[['Import_chpct1Y','Export_chpct1Y']], country_df['ILO_chpct1Y'])\n",
    "    \n",
    "    # Get the coefficient of the linear regression model\n",
    "    trend = model.coef_\n",
    "    \n",
    "    return trend\n",
    "\n",
    "# Calculate the trends for each country\n",
    "trends = {}\n",
    "for country in df_filter['country'].unique():\n",
    "    trend = calculate_trend(df_filter, country)\n",
    "    trends[country] = trend\n",
    "\n",
    "# Create a DataFrame with the trends\n",
    "trends_df = pd.DataFrame(list(trends.items()), columns=['country', 'trend'])\n",
    "\n",
    "# Print the first few rows of the trends DataFrame\n",
    "print(trends_df.head())"
   ]
  },
  {
   "cell_type": "code",
   "execution_count": 37,
   "id": "d96f09be",
   "metadata": {},
   "outputs": [
    {
     "name": "stdout",
     "output_type": "stream",
     "text": [
      "  country  Import_Coefficient  Export_Coefficient\n",
      "0     AGO           -0.168572            0.149669\n",
      "1     ALB            0.190052           -0.280492\n",
      "2     ARE           -2.398102            3.415800\n",
      "3     ARG            0.039507            0.074746\n",
      "4     AUS            0.090793            0.012224\n"
     ]
    }
   ],
   "source": [
    "# Create a DataFrame with the trends\n",
    "trends_df = pd.DataFrame(list(trends.items()), columns=['country', 'trend'])\n",
    "\n",
    "# Separate the coefficients into two columns\n",
    "trends_df[['Import_Coefficient', 'Export_Coefficient']] = trends_df['trend'].apply(pd.Series)\n",
    "\n",
    "# Drop the original 'trend' column\n",
    "trends_df = trends_df.drop('trend', axis=1)\n",
    "\n",
    "# Print the first few rows of the trends DataFrame\n",
    "print(trends_df.head())"
   ]
  },
  {
   "cell_type": "code",
   "execution_count": 38,
   "id": "5188f232",
   "metadata": {},
   "outputs": [
    {
     "data": {
      "application/vnd.plotly.v1+json": {
       "config": {
        "plotlyServerURL": "https://plot.ly"
       },
       "data": [
        {
         "hovertemplate": "<b>%{hovertext}</b><br><br>Import_Coefficient=%{x}<br>Export_Coefficient=%{y}<extra></extra>",
         "hovertext": [
          "AGO",
          "ALB",
          "ARE",
          "ARG",
          "AUS",
          "AUT",
          "BEL",
          "BGR",
          "BIH",
          "BLR",
          "BLZ",
          "BOL",
          "BRA",
          "BRN",
          "BWA",
          "CAN",
          "CHE",
          "CHL",
          "COL",
          "CRI",
          "CYP",
          "CZE",
          "DEU",
          "DNK",
          "DOM",
          "ECU",
          "EGY",
          "ESP",
          "EST",
          "FIN",
          "FRA",
          "GBR",
          "GEO",
          "GHA",
          "GRC",
          "GTM",
          "HKG",
          "HND",
          "HRV",
          "HUN",
          "IDN",
          "IND",
          "IRL",
          "IRN",
          "ISL",
          "ISR",
          "ITA",
          "JAM",
          "JOR",
          "JPN",
          "KGZ",
          "KHM",
          "KOR",
          "LKA",
          "LTU",
          "LUX",
          "LVA",
          "MDA",
          "MEX",
          "MKD",
          "MLT",
          "MNE",
          "MNG",
          "MUS",
          "MYS",
          "NAM",
          "NLD",
          "NOR",
          "PAK",
          "PAN",
          "PER",
          "PHL",
          "POL",
          "PRT",
          "PRY",
          "PSE",
          "ROU",
          "RUS",
          "RWA",
          "SGP",
          "SLV",
          "SRB",
          "SVK",
          "SVN",
          "SWE",
          "SYC",
          "THA",
          "TTO",
          "TUR",
          "TZA",
          "UGA",
          "UKR",
          "URY",
          "USA",
          "VEN",
          "VNM",
          "ZAF",
          "ZMB",
          "ZWE"
         ],
         "legendgroup": "",
         "marker": {
          "color": "#636efa",
          "symbol": "circle"
         },
         "mode": "markers",
         "name": "",
         "orientation": "v",
         "showlegend": false,
         "type": "scatter",
         "x": {
          "bdata": "1ppNv8aTxb9LlvRmn1PIP8/KzR1QLwPAREkt0DM6pD/5wv4CLz63PwZbNZd0ntc/cHshhpGusD+1F+2lw4ngP6iDccSmocM/7moJ5m7TiD8PLJCXUlXDv3MuJfSkC6S/iEUQSACPwz/jc7V+2pPlP5bJ5C/Ahdg/eh3LfpoS0j9euG7Tk5bJP75kb6Yqw9A/GbR5PIiNwT8mWhnQbpypP4S29w97odA/B9kAakSfYD8rbBArn5Sgv1bbBKkJbdY/FG4j9pPbwj828Z6UsyrhP0RDXpgtu4I/rZG/qWCC6z+ibB2z3RvRP2aQoIX3TNG/z5jaV4qbeD8V6NVe7rHTv7r1uLJogMQ/EJq4Bejv4b8kgFI9yxjiP/797DItodu/s/JhW7qQ2z9IgZgvE0O1v7QJUOHUI8s/NV/OQr5P0D88i5n/Mr60P0phAkFHRuI/evcq2wI92z9P204ZfS7xv1CZNVuvRKo/lRSxJsHpy78ewdpNNaasP3eYwAT3ZMK/ZVGXgeyEqz8mQhJXQHGhPwsaHp3WGoQ/2ole0IN/gD/5z01GdymgPwV3Ru5nB+4/b7QGlhJa3T9T3NeZjSnjv2jKdfrqGOQ/s33resvSpD8APCpoFwXiP4m8sBP/2ru/llnNvKnBv7+QIMi34ezOPyI/yBtD/dA/t8FDGzGLvj+TIMFdTrCkv+D2EHO9nc6/7Fsfaaqk4T+/I/h8ts2zP7JVZwwqFqs/5wDK+dq81L992wkstEysP2rdAXbvJNw/rY2P+KQK/78ubPCEa9XSP594mN0J0LY/BsYFS9Txtj9pb9NAsTbGPwZSPM4tf52/NLpFx8Y+0j9hIHz9CZTgv5uHWAfGesa/UpQObljh0j9F0JINEPv8v+0TupZrQeG/4Dkf9XtHwb/d7lrbH4LhP74nr7Npf9m/4iSTyD63xj+uTAm5eaP0Pwevmb93g9O/r5g90lYtz7+Ega8R0YbDP3K9GU8YKMk/iDWm8P9qsT8hNMcBD/nBPxppEvM2M7y/85n7ek740T/4fI9mZJjRP4Tm/SG2B7g/",
          "dtype": "f8"
         },
         "xaxis": "x",
         "y": {
          "bdata": "GN86FVcowz+0v4xflvPRvxAmOMaOUwtAcQWByJQisz+bPpi85QiJP4DOFJQ6KtS/1cECew5ph79QQNrIVVzgv+440Hxys9K/VFcCVA6Vo79jZ1bGyG3MvyFQDfxrvr8/Jum5Cm04ub/yhuLjrEjZv6ICc1pyL8i/KG5MrH460L+DLEwrqpXRv71YscyXR7G/mZhdwCBoZj99jcB4OUCrP8Cpj2jIiMa/qYw4iR2Uwz8ReOBG+gihP8ZgPjCyv8m/jc6F81wanr/iu0bT4Rbcv6IAhJJ/ULK/bjnMGgeg7b9fxX6n43W0v72CtxN2Xt0/B+CqtArDpz/JbwYct5HLP6nFOdNXk3c/gH4BPxlM0j+C44vlY8PgvxalYbs9yNM/Ro0kzCoD2r+wb6PwKqi+v8qncH0aw62/X0vuIz8pzr/fwQ6peA6ovz0vilJs7OG/bkQv+XJCpj/JBtCw3DDIP3VfHbaos7c/tUQD3iwm1z+fQTYc0XmHv5GaWndcidQ/Xe845/nvvz8VESZugz2Fvymj6zRFar4/CCc3uXwyvr/NePwmDgCDP94nccYYcQzA8CI4UtzJ2L9MEwO3gMHnP6CcKB6vbOC/6XtynFfsuz8biADkMw3gv2S/UvKGXsQ/WTw6SNp2vD9m3H0ImKLGP7s9DR4QVaa/xfdLomF9p7+SIFmd2kTaP0aMyTX5M9C/FR3uv0Oz4r+Pn4D8WlB7vzkWkHt5WZS/7v59x9s8xT+LhIjKTELHP0QIhJM/Oci/ZgO6mofs/D8UBSLJSy/Tv8dhuxYJrbM/snB1VDrnzL8fhR2X2UjBvygoAX1qI6g/kskPUiGeyj83UGkYDRftP0zUwH3DTdI/8N9eN8PQyL9vTlmbcEDuPwRZV4gMEOQ/rq1RfEspyT/cz7GDFSHFvxZyarT7s+U/Vvx7mFTLeT8uAeyd2vDYP8RvoThu1es/hcHn5nVO0b9AWS4xvtGpP1V4Gjk+MJe/606STRSfuj9cKcGB6Pawv39mgqdg8Gi/tNdFwx3RzL9tlj/b74GQvypOVDD+deM/",
          "dtype": "f8"
         },
         "yaxis": "y"
        }
       ],
       "layout": {
        "legend": {
         "tracegroupgap": 0
        },
        "margin": {
         "t": 60
        },
        "template": {
         "data": {
          "bar": [
           {
            "error_x": {
             "color": "#2a3f5f"
            },
            "error_y": {
             "color": "#2a3f5f"
            },
            "marker": {
             "line": {
              "color": "#E5ECF6",
              "width": 0.5
             },
             "pattern": {
              "fillmode": "overlay",
              "size": 10,
              "solidity": 0.2
             }
            },
            "type": "bar"
           }
          ],
          "barpolar": [
           {
            "marker": {
             "line": {
              "color": "#E5ECF6",
              "width": 0.5
             },
             "pattern": {
              "fillmode": "overlay",
              "size": 10,
              "solidity": 0.2
             }
            },
            "type": "barpolar"
           }
          ],
          "carpet": [
           {
            "aaxis": {
             "endlinecolor": "#2a3f5f",
             "gridcolor": "white",
             "linecolor": "white",
             "minorgridcolor": "white",
             "startlinecolor": "#2a3f5f"
            },
            "baxis": {
             "endlinecolor": "#2a3f5f",
             "gridcolor": "white",
             "linecolor": "white",
             "minorgridcolor": "white",
             "startlinecolor": "#2a3f5f"
            },
            "type": "carpet"
           }
          ],
          "choropleth": [
           {
            "colorbar": {
             "outlinewidth": 0,
             "ticks": ""
            },
            "type": "choropleth"
           }
          ],
          "contour": [
           {
            "colorbar": {
             "outlinewidth": 0,
             "ticks": ""
            },
            "colorscale": [
             [
              0,
              "#0d0887"
             ],
             [
              0.1111111111111111,
              "#46039f"
             ],
             [
              0.2222222222222222,
              "#7201a8"
             ],
             [
              0.3333333333333333,
              "#9c179e"
             ],
             [
              0.4444444444444444,
              "#bd3786"
             ],
             [
              0.5555555555555556,
              "#d8576b"
             ],
             [
              0.6666666666666666,
              "#ed7953"
             ],
             [
              0.7777777777777778,
              "#fb9f3a"
             ],
             [
              0.8888888888888888,
              "#fdca26"
             ],
             [
              1,
              "#f0f921"
             ]
            ],
            "type": "contour"
           }
          ],
          "contourcarpet": [
           {
            "colorbar": {
             "outlinewidth": 0,
             "ticks": ""
            },
            "type": "contourcarpet"
           }
          ],
          "heatmap": [
           {
            "colorbar": {
             "outlinewidth": 0,
             "ticks": ""
            },
            "colorscale": [
             [
              0,
              "#0d0887"
             ],
             [
              0.1111111111111111,
              "#46039f"
             ],
             [
              0.2222222222222222,
              "#7201a8"
             ],
             [
              0.3333333333333333,
              "#9c179e"
             ],
             [
              0.4444444444444444,
              "#bd3786"
             ],
             [
              0.5555555555555556,
              "#d8576b"
             ],
             [
              0.6666666666666666,
              "#ed7953"
             ],
             [
              0.7777777777777778,
              "#fb9f3a"
             ],
             [
              0.8888888888888888,
              "#fdca26"
             ],
             [
              1,
              "#f0f921"
             ]
            ],
            "type": "heatmap"
           }
          ],
          "histogram": [
           {
            "marker": {
             "pattern": {
              "fillmode": "overlay",
              "size": 10,
              "solidity": 0.2
             }
            },
            "type": "histogram"
           }
          ],
          "histogram2d": [
           {
            "colorbar": {
             "outlinewidth": 0,
             "ticks": ""
            },
            "colorscale": [
             [
              0,
              "#0d0887"
             ],
             [
              0.1111111111111111,
              "#46039f"
             ],
             [
              0.2222222222222222,
              "#7201a8"
             ],
             [
              0.3333333333333333,
              "#9c179e"
             ],
             [
              0.4444444444444444,
              "#bd3786"
             ],
             [
              0.5555555555555556,
              "#d8576b"
             ],
             [
              0.6666666666666666,
              "#ed7953"
             ],
             [
              0.7777777777777778,
              "#fb9f3a"
             ],
             [
              0.8888888888888888,
              "#fdca26"
             ],
             [
              1,
              "#f0f921"
             ]
            ],
            "type": "histogram2d"
           }
          ],
          "histogram2dcontour": [
           {
            "colorbar": {
             "outlinewidth": 0,
             "ticks": ""
            },
            "colorscale": [
             [
              0,
              "#0d0887"
             ],
             [
              0.1111111111111111,
              "#46039f"
             ],
             [
              0.2222222222222222,
              "#7201a8"
             ],
             [
              0.3333333333333333,
              "#9c179e"
             ],
             [
              0.4444444444444444,
              "#bd3786"
             ],
             [
              0.5555555555555556,
              "#d8576b"
             ],
             [
              0.6666666666666666,
              "#ed7953"
             ],
             [
              0.7777777777777778,
              "#fb9f3a"
             ],
             [
              0.8888888888888888,
              "#fdca26"
             ],
             [
              1,
              "#f0f921"
             ]
            ],
            "type": "histogram2dcontour"
           }
          ],
          "mesh3d": [
           {
            "colorbar": {
             "outlinewidth": 0,
             "ticks": ""
            },
            "type": "mesh3d"
           }
          ],
          "parcoords": [
           {
            "line": {
             "colorbar": {
              "outlinewidth": 0,
              "ticks": ""
             }
            },
            "type": "parcoords"
           }
          ],
          "pie": [
           {
            "automargin": true,
            "type": "pie"
           }
          ],
          "scatter": [
           {
            "fillpattern": {
             "fillmode": "overlay",
             "size": 10,
             "solidity": 0.2
            },
            "type": "scatter"
           }
          ],
          "scatter3d": [
           {
            "line": {
             "colorbar": {
              "outlinewidth": 0,
              "ticks": ""
             }
            },
            "marker": {
             "colorbar": {
              "outlinewidth": 0,
              "ticks": ""
             }
            },
            "type": "scatter3d"
           }
          ],
          "scattercarpet": [
           {
            "marker": {
             "colorbar": {
              "outlinewidth": 0,
              "ticks": ""
             }
            },
            "type": "scattercarpet"
           }
          ],
          "scattergeo": [
           {
            "marker": {
             "colorbar": {
              "outlinewidth": 0,
              "ticks": ""
             }
            },
            "type": "scattergeo"
           }
          ],
          "scattergl": [
           {
            "marker": {
             "colorbar": {
              "outlinewidth": 0,
              "ticks": ""
             }
            },
            "type": "scattergl"
           }
          ],
          "scattermap": [
           {
            "marker": {
             "colorbar": {
              "outlinewidth": 0,
              "ticks": ""
             }
            },
            "type": "scattermap"
           }
          ],
          "scattermapbox": [
           {
            "marker": {
             "colorbar": {
              "outlinewidth": 0,
              "ticks": ""
             }
            },
            "type": "scattermapbox"
           }
          ],
          "scatterpolar": [
           {
            "marker": {
             "colorbar": {
              "outlinewidth": 0,
              "ticks": ""
             }
            },
            "type": "scatterpolar"
           }
          ],
          "scatterpolargl": [
           {
            "marker": {
             "colorbar": {
              "outlinewidth": 0,
              "ticks": ""
             }
            },
            "type": "scatterpolargl"
           }
          ],
          "scatterternary": [
           {
            "marker": {
             "colorbar": {
              "outlinewidth": 0,
              "ticks": ""
             }
            },
            "type": "scatterternary"
           }
          ],
          "surface": [
           {
            "colorbar": {
             "outlinewidth": 0,
             "ticks": ""
            },
            "colorscale": [
             [
              0,
              "#0d0887"
             ],
             [
              0.1111111111111111,
              "#46039f"
             ],
             [
              0.2222222222222222,
              "#7201a8"
             ],
             [
              0.3333333333333333,
              "#9c179e"
             ],
             [
              0.4444444444444444,
              "#bd3786"
             ],
             [
              0.5555555555555556,
              "#d8576b"
             ],
             [
              0.6666666666666666,
              "#ed7953"
             ],
             [
              0.7777777777777778,
              "#fb9f3a"
             ],
             [
              0.8888888888888888,
              "#fdca26"
             ],
             [
              1,
              "#f0f921"
             ]
            ],
            "type": "surface"
           }
          ],
          "table": [
           {
            "cells": {
             "fill": {
              "color": "#EBF0F8"
             },
             "line": {
              "color": "white"
             }
            },
            "header": {
             "fill": {
              "color": "#C8D4E3"
             },
             "line": {
              "color": "white"
             }
            },
            "type": "table"
           }
          ]
         },
         "layout": {
          "annotationdefaults": {
           "arrowcolor": "#2a3f5f",
           "arrowhead": 0,
           "arrowwidth": 1
          },
          "autotypenumbers": "strict",
          "coloraxis": {
           "colorbar": {
            "outlinewidth": 0,
            "ticks": ""
           }
          },
          "colorscale": {
           "diverging": [
            [
             0,
             "#8e0152"
            ],
            [
             0.1,
             "#c51b7d"
            ],
            [
             0.2,
             "#de77ae"
            ],
            [
             0.3,
             "#f1b6da"
            ],
            [
             0.4,
             "#fde0ef"
            ],
            [
             0.5,
             "#f7f7f7"
            ],
            [
             0.6,
             "#e6f5d0"
            ],
            [
             0.7,
             "#b8e186"
            ],
            [
             0.8,
             "#7fbc41"
            ],
            [
             0.9,
             "#4d9221"
            ],
            [
             1,
             "#276419"
            ]
           ],
           "sequential": [
            [
             0,
             "#0d0887"
            ],
            [
             0.1111111111111111,
             "#46039f"
            ],
            [
             0.2222222222222222,
             "#7201a8"
            ],
            [
             0.3333333333333333,
             "#9c179e"
            ],
            [
             0.4444444444444444,
             "#bd3786"
            ],
            [
             0.5555555555555556,
             "#d8576b"
            ],
            [
             0.6666666666666666,
             "#ed7953"
            ],
            [
             0.7777777777777778,
             "#fb9f3a"
            ],
            [
             0.8888888888888888,
             "#fdca26"
            ],
            [
             1,
             "#f0f921"
            ]
           ],
           "sequentialminus": [
            [
             0,
             "#0d0887"
            ],
            [
             0.1111111111111111,
             "#46039f"
            ],
            [
             0.2222222222222222,
             "#7201a8"
            ],
            [
             0.3333333333333333,
             "#9c179e"
            ],
            [
             0.4444444444444444,
             "#bd3786"
            ],
            [
             0.5555555555555556,
             "#d8576b"
            ],
            [
             0.6666666666666666,
             "#ed7953"
            ],
            [
             0.7777777777777778,
             "#fb9f3a"
            ],
            [
             0.8888888888888888,
             "#fdca26"
            ],
            [
             1,
             "#f0f921"
            ]
           ]
          },
          "colorway": [
           "#636efa",
           "#EF553B",
           "#00cc96",
           "#ab63fa",
           "#FFA15A",
           "#19d3f3",
           "#FF6692",
           "#B6E880",
           "#FF97FF",
           "#FECB52"
          ],
          "font": {
           "color": "#2a3f5f"
          },
          "geo": {
           "bgcolor": "white",
           "lakecolor": "white",
           "landcolor": "#E5ECF6",
           "showlakes": true,
           "showland": true,
           "subunitcolor": "white"
          },
          "hoverlabel": {
           "align": "left"
          },
          "hovermode": "closest",
          "mapbox": {
           "style": "light"
          },
          "paper_bgcolor": "white",
          "plot_bgcolor": "#E5ECF6",
          "polar": {
           "angularaxis": {
            "gridcolor": "white",
            "linecolor": "white",
            "ticks": ""
           },
           "bgcolor": "#E5ECF6",
           "radialaxis": {
            "gridcolor": "white",
            "linecolor": "white",
            "ticks": ""
           }
          },
          "scene": {
           "xaxis": {
            "backgroundcolor": "#E5ECF6",
            "gridcolor": "white",
            "gridwidth": 2,
            "linecolor": "white",
            "showbackground": true,
            "ticks": "",
            "zerolinecolor": "white"
           },
           "yaxis": {
            "backgroundcolor": "#E5ECF6",
            "gridcolor": "white",
            "gridwidth": 2,
            "linecolor": "white",
            "showbackground": true,
            "ticks": "",
            "zerolinecolor": "white"
           },
           "zaxis": {
            "backgroundcolor": "#E5ECF6",
            "gridcolor": "white",
            "gridwidth": 2,
            "linecolor": "white",
            "showbackground": true,
            "ticks": "",
            "zerolinecolor": "white"
           }
          },
          "shapedefaults": {
           "line": {
            "color": "#2a3f5f"
           }
          },
          "ternary": {
           "aaxis": {
            "gridcolor": "white",
            "linecolor": "white",
            "ticks": ""
           },
           "baxis": {
            "gridcolor": "white",
            "linecolor": "white",
            "ticks": ""
           },
           "bgcolor": "#E5ECF6",
           "caxis": {
            "gridcolor": "white",
            "linecolor": "white",
            "ticks": ""
           }
          },
          "title": {
           "x": 0.05
          },
          "xaxis": {
           "automargin": true,
           "gridcolor": "white",
           "linecolor": "white",
           "ticks": "",
           "title": {
            "standoff": 15
           },
           "zerolinecolor": "white",
           "zerolinewidth": 2
          },
          "yaxis": {
           "automargin": true,
           "gridcolor": "white",
           "linecolor": "white",
           "ticks": "",
           "title": {
            "standoff": 15
           },
           "zerolinecolor": "white",
           "zerolinewidth": 2
          }
         }
        },
        "title": {
         "text": "Cloud of Points"
        },
        "xaxis": {
         "anchor": "y",
         "domain": [
          0,
          1
         ],
         "title": {
          "text": "Import Coefficient"
         }
        },
        "yaxis": {
         "anchor": "x",
         "domain": [
          0,
          1
         ],
         "title": {
          "text": "Export Coefficient"
         }
        }
       }
      }
     },
     "metadata": {},
     "output_type": "display_data"
    }
   ],
   "source": [
    "# Plot the DataFrame as a cloud of points\n",
    "fig = px.scatter(trends_df, x='Import_Coefficient', y='Export_Coefficient', hover_name='country',\n",
    "                 hover_data=['Import_Coefficient', 'Export_Coefficient'])\n",
    "\n",
    "# Update the layout\n",
    "fig.update_layout(\n",
    "    title='Cloud of Points',\n",
    "    xaxis_title='Import Coefficient',\n",
    "    yaxis_title='Export Coefficient',\n",
    ")\n",
    "\n",
    "# Show the plot\n",
    "fig.show()"
   ]
  },
  {
   "cell_type": "code",
   "execution_count": 39,
   "id": "a35318d5",
   "metadata": {},
   "outputs": [],
   "source": [
    "# The result shows a negative correlation between export and import regression coefficients\n",
    "# where countries with increasing import trends tend to have decreasing export trends, and vice versa"
   ]
  },
  {
   "cell_type": "code",
   "execution_count": 40,
   "id": "90f09022",
   "metadata": {},
   "outputs": [
    {
     "data": {
      "application/vnd.plotly.v1+json": {
       "config": {
        "plotlyServerURL": "https://plot.ly"
       },
       "data": [
        {
         "autocolorscale": false,
         "colorbar": {
          "title": {
           "text": "Import Coefficient"
          }
         },
         "colorscale": [
          [
           0,
           "rgb(255,245,240)"
          ],
          [
           0.125,
           "rgb(254,224,210)"
          ],
          [
           0.25,
           "rgb(252,187,161)"
          ],
          [
           0.375,
           "rgb(252,146,114)"
          ],
          [
           0.5,
           "rgb(251,106,74)"
          ],
          [
           0.625,
           "rgb(239,59,44)"
          ],
          [
           0.75,
           "rgb(203,24,29)"
          ],
          [
           0.875,
           "rgb(165,15,21)"
          ],
          [
           1,
           "rgb(103,0,13)"
          ]
         ],
         "locations": [
          "AGO",
          "ALB",
          "ARE",
          "ARG",
          "AUS",
          "AUT",
          "BEL",
          "BGR",
          "BIH",
          "BLR",
          "BLZ",
          "BOL",
          "BRA",
          "BRN",
          "BWA",
          "CAN",
          "CHE",
          "CHL",
          "COL",
          "CRI",
          "CYP",
          "CZE",
          "DEU",
          "DNK",
          "DOM",
          "ECU",
          "EGY",
          "ESP",
          "EST",
          "FIN",
          "FRA",
          "GBR",
          "GEO",
          "GHA",
          "GRC",
          "GTM",
          "HKG",
          "HND",
          "HRV",
          "HUN",
          "IDN",
          "IND",
          "IRL",
          "IRN",
          "ISL",
          "ISR",
          "ITA",
          "JAM",
          "JOR",
          "JPN",
          "KGZ",
          "KHM",
          "KOR",
          "LKA",
          "LTU",
          "LUX",
          "LVA",
          "MDA",
          "MEX",
          "MKD",
          "MLT",
          "MNE",
          "MNG",
          "MUS",
          "MYS",
          "NAM",
          "NLD",
          "NOR",
          "PAK",
          "PAN",
          "PER",
          "PHL",
          "POL",
          "PRT",
          "PRY",
          "PSE",
          "ROU",
          "RUS",
          "RWA",
          "SGP",
          "SLV",
          "SRB",
          "SVK",
          "SVN",
          "SWE",
          "SYC",
          "THA",
          "TTO",
          "TUR",
          "TZA",
          "UGA",
          "UKR",
          "URY",
          "USA",
          "VEN",
          "VNM",
          "ZAF",
          "ZMB",
          "ZWE"
         ],
         "marker": {
          "line": {
           "color": "darkgray",
           "width": 0.5
          }
         },
         "reversescale": false,
         "text": [
          "AGO",
          "ALB",
          "ARE",
          "ARG",
          "AUS",
          "AUT",
          "BEL",
          "BGR",
          "BIH",
          "BLR",
          "BLZ",
          "BOL",
          "BRA",
          "BRN",
          "BWA",
          "CAN",
          "CHE",
          "CHL",
          "COL",
          "CRI",
          "CYP",
          "CZE",
          "DEU",
          "DNK",
          "DOM",
          "ECU",
          "EGY",
          "ESP",
          "EST",
          "FIN",
          "FRA",
          "GBR",
          "GEO",
          "GHA",
          "GRC",
          "GTM",
          "HKG",
          "HND",
          "HRV",
          "HUN",
          "IDN",
          "IND",
          "IRL",
          "IRN",
          "ISL",
          "ISR",
          "ITA",
          "JAM",
          "JOR",
          "JPN",
          "KGZ",
          "KHM",
          "KOR",
          "LKA",
          "LTU",
          "LUX",
          "LVA",
          "MDA",
          "MEX",
          "MKD",
          "MLT",
          "MNE",
          "MNG",
          "MUS",
          "MYS",
          "NAM",
          "NLD",
          "NOR",
          "PAK",
          "PAN",
          "PER",
          "PHL",
          "POL",
          "PRT",
          "PRY",
          "PSE",
          "ROU",
          "RUS",
          "RWA",
          "SGP",
          "SLV",
          "SRB",
          "SVK",
          "SVN",
          "SWE",
          "SYC",
          "THA",
          "TTO",
          "TUR",
          "TZA",
          "UGA",
          "UKR",
          "URY",
          "USA",
          "VEN",
          "VNM",
          "ZAF",
          "ZMB",
          "ZWE"
         ],
         "type": "choropleth",
         "z": {
          "bdata": "1ppNv8aTxb9LlvRmn1PIP8/KzR1QLwPAREkt0DM6pD/5wv4CLz63PwZbNZd0ntc/cHshhpGusD+1F+2lw4ngP6iDccSmocM/7moJ5m7TiD8PLJCXUlXDv3MuJfSkC6S/iEUQSACPwz/jc7V+2pPlP5bJ5C/Ahdg/eh3LfpoS0j9euG7Tk5bJP75kb6Yqw9A/GbR5PIiNwT8mWhnQbpypP4S29w97odA/B9kAakSfYD8rbBArn5Sgv1bbBKkJbdY/FG4j9pPbwj828Z6UsyrhP0RDXpgtu4I/rZG/qWCC6z+ibB2z3RvRP2aQoIX3TNG/z5jaV4qbeD8V6NVe7rHTv7r1uLJogMQ/EJq4Bejv4b8kgFI9yxjiP/797DItodu/s/JhW7qQ2z9IgZgvE0O1v7QJUOHUI8s/NV/OQr5P0D88i5n/Mr60P0phAkFHRuI/evcq2wI92z9P204ZfS7xv1CZNVuvRKo/lRSxJsHpy78ewdpNNaasP3eYwAT3ZMK/ZVGXgeyEqz8mQhJXQHGhPwsaHp3WGoQ/2ole0IN/gD/5z01GdymgPwV3Ru5nB+4/b7QGlhJa3T9T3NeZjSnjv2jKdfrqGOQ/s33resvSpD8APCpoFwXiP4m8sBP/2ru/llnNvKnBv7+QIMi34ezOPyI/yBtD/dA/t8FDGzGLvj+TIMFdTrCkv+D2EHO9nc6/7Fsfaaqk4T+/I/h8ts2zP7JVZwwqFqs/5wDK+dq81L992wkstEysP2rdAXbvJNw/rY2P+KQK/78ubPCEa9XSP594mN0J0LY/BsYFS9Txtj9pb9NAsTbGPwZSPM4tf52/NLpFx8Y+0j9hIHz9CZTgv5uHWAfGesa/UpQObljh0j9F0JINEPv8v+0TupZrQeG/4Dkf9XtHwb/d7lrbH4LhP74nr7Npf9m/4iSTyD63xj+uTAm5eaP0Pwevmb93g9O/r5g90lYtz7+Ega8R0YbDP3K9GU8YKMk/iDWm8P9qsT8hNMcBD/nBPxppEvM2M7y/85n7ek740T/4fI9mZJjRP4Tm/SG2B7g/",
          "dtype": "f8"
         }
        }
       ],
       "layout": {
        "geo": {
         "projection": {
          "type": "equirectangular"
         },
         "showcoastlines": false,
         "showframe": false
        },
        "template": {
         "data": {
          "bar": [
           {
            "error_x": {
             "color": "#2a3f5f"
            },
            "error_y": {
             "color": "#2a3f5f"
            },
            "marker": {
             "line": {
              "color": "#E5ECF6",
              "width": 0.5
             },
             "pattern": {
              "fillmode": "overlay",
              "size": 10,
              "solidity": 0.2
             }
            },
            "type": "bar"
           }
          ],
          "barpolar": [
           {
            "marker": {
             "line": {
              "color": "#E5ECF6",
              "width": 0.5
             },
             "pattern": {
              "fillmode": "overlay",
              "size": 10,
              "solidity": 0.2
             }
            },
            "type": "barpolar"
           }
          ],
          "carpet": [
           {
            "aaxis": {
             "endlinecolor": "#2a3f5f",
             "gridcolor": "white",
             "linecolor": "white",
             "minorgridcolor": "white",
             "startlinecolor": "#2a3f5f"
            },
            "baxis": {
             "endlinecolor": "#2a3f5f",
             "gridcolor": "white",
             "linecolor": "white",
             "minorgridcolor": "white",
             "startlinecolor": "#2a3f5f"
            },
            "type": "carpet"
           }
          ],
          "choropleth": [
           {
            "colorbar": {
             "outlinewidth": 0,
             "ticks": ""
            },
            "type": "choropleth"
           }
          ],
          "contour": [
           {
            "colorbar": {
             "outlinewidth": 0,
             "ticks": ""
            },
            "colorscale": [
             [
              0,
              "#0d0887"
             ],
             [
              0.1111111111111111,
              "#46039f"
             ],
             [
              0.2222222222222222,
              "#7201a8"
             ],
             [
              0.3333333333333333,
              "#9c179e"
             ],
             [
              0.4444444444444444,
              "#bd3786"
             ],
             [
              0.5555555555555556,
              "#d8576b"
             ],
             [
              0.6666666666666666,
              "#ed7953"
             ],
             [
              0.7777777777777778,
              "#fb9f3a"
             ],
             [
              0.8888888888888888,
              "#fdca26"
             ],
             [
              1,
              "#f0f921"
             ]
            ],
            "type": "contour"
           }
          ],
          "contourcarpet": [
           {
            "colorbar": {
             "outlinewidth": 0,
             "ticks": ""
            },
            "type": "contourcarpet"
           }
          ],
          "heatmap": [
           {
            "colorbar": {
             "outlinewidth": 0,
             "ticks": ""
            },
            "colorscale": [
             [
              0,
              "#0d0887"
             ],
             [
              0.1111111111111111,
              "#46039f"
             ],
             [
              0.2222222222222222,
              "#7201a8"
             ],
             [
              0.3333333333333333,
              "#9c179e"
             ],
             [
              0.4444444444444444,
              "#bd3786"
             ],
             [
              0.5555555555555556,
              "#d8576b"
             ],
             [
              0.6666666666666666,
              "#ed7953"
             ],
             [
              0.7777777777777778,
              "#fb9f3a"
             ],
             [
              0.8888888888888888,
              "#fdca26"
             ],
             [
              1,
              "#f0f921"
             ]
            ],
            "type": "heatmap"
           }
          ],
          "histogram": [
           {
            "marker": {
             "pattern": {
              "fillmode": "overlay",
              "size": 10,
              "solidity": 0.2
             }
            },
            "type": "histogram"
           }
          ],
          "histogram2d": [
           {
            "colorbar": {
             "outlinewidth": 0,
             "ticks": ""
            },
            "colorscale": [
             [
              0,
              "#0d0887"
             ],
             [
              0.1111111111111111,
              "#46039f"
             ],
             [
              0.2222222222222222,
              "#7201a8"
             ],
             [
              0.3333333333333333,
              "#9c179e"
             ],
             [
              0.4444444444444444,
              "#bd3786"
             ],
             [
              0.5555555555555556,
              "#d8576b"
             ],
             [
              0.6666666666666666,
              "#ed7953"
             ],
             [
              0.7777777777777778,
              "#fb9f3a"
             ],
             [
              0.8888888888888888,
              "#fdca26"
             ],
             [
              1,
              "#f0f921"
             ]
            ],
            "type": "histogram2d"
           }
          ],
          "histogram2dcontour": [
           {
            "colorbar": {
             "outlinewidth": 0,
             "ticks": ""
            },
            "colorscale": [
             [
              0,
              "#0d0887"
             ],
             [
              0.1111111111111111,
              "#46039f"
             ],
             [
              0.2222222222222222,
              "#7201a8"
             ],
             [
              0.3333333333333333,
              "#9c179e"
             ],
             [
              0.4444444444444444,
              "#bd3786"
             ],
             [
              0.5555555555555556,
              "#d8576b"
             ],
             [
              0.6666666666666666,
              "#ed7953"
             ],
             [
              0.7777777777777778,
              "#fb9f3a"
             ],
             [
              0.8888888888888888,
              "#fdca26"
             ],
             [
              1,
              "#f0f921"
             ]
            ],
            "type": "histogram2dcontour"
           }
          ],
          "mesh3d": [
           {
            "colorbar": {
             "outlinewidth": 0,
             "ticks": ""
            },
            "type": "mesh3d"
           }
          ],
          "parcoords": [
           {
            "line": {
             "colorbar": {
              "outlinewidth": 0,
              "ticks": ""
             }
            },
            "type": "parcoords"
           }
          ],
          "pie": [
           {
            "automargin": true,
            "type": "pie"
           }
          ],
          "scatter": [
           {
            "fillpattern": {
             "fillmode": "overlay",
             "size": 10,
             "solidity": 0.2
            },
            "type": "scatter"
           }
          ],
          "scatter3d": [
           {
            "line": {
             "colorbar": {
              "outlinewidth": 0,
              "ticks": ""
             }
            },
            "marker": {
             "colorbar": {
              "outlinewidth": 0,
              "ticks": ""
             }
            },
            "type": "scatter3d"
           }
          ],
          "scattercarpet": [
           {
            "marker": {
             "colorbar": {
              "outlinewidth": 0,
              "ticks": ""
             }
            },
            "type": "scattercarpet"
           }
          ],
          "scattergeo": [
           {
            "marker": {
             "colorbar": {
              "outlinewidth": 0,
              "ticks": ""
             }
            },
            "type": "scattergeo"
           }
          ],
          "scattergl": [
           {
            "marker": {
             "colorbar": {
              "outlinewidth": 0,
              "ticks": ""
             }
            },
            "type": "scattergl"
           }
          ],
          "scattermap": [
           {
            "marker": {
             "colorbar": {
              "outlinewidth": 0,
              "ticks": ""
             }
            },
            "type": "scattermap"
           }
          ],
          "scattermapbox": [
           {
            "marker": {
             "colorbar": {
              "outlinewidth": 0,
              "ticks": ""
             }
            },
            "type": "scattermapbox"
           }
          ],
          "scatterpolar": [
           {
            "marker": {
             "colorbar": {
              "outlinewidth": 0,
              "ticks": ""
             }
            },
            "type": "scatterpolar"
           }
          ],
          "scatterpolargl": [
           {
            "marker": {
             "colorbar": {
              "outlinewidth": 0,
              "ticks": ""
             }
            },
            "type": "scatterpolargl"
           }
          ],
          "scatterternary": [
           {
            "marker": {
             "colorbar": {
              "outlinewidth": 0,
              "ticks": ""
             }
            },
            "type": "scatterternary"
           }
          ],
          "surface": [
           {
            "colorbar": {
             "outlinewidth": 0,
             "ticks": ""
            },
            "colorscale": [
             [
              0,
              "#0d0887"
             ],
             [
              0.1111111111111111,
              "#46039f"
             ],
             [
              0.2222222222222222,
              "#7201a8"
             ],
             [
              0.3333333333333333,
              "#9c179e"
             ],
             [
              0.4444444444444444,
              "#bd3786"
             ],
             [
              0.5555555555555556,
              "#d8576b"
             ],
             [
              0.6666666666666666,
              "#ed7953"
             ],
             [
              0.7777777777777778,
              "#fb9f3a"
             ],
             [
              0.8888888888888888,
              "#fdca26"
             ],
             [
              1,
              "#f0f921"
             ]
            ],
            "type": "surface"
           }
          ],
          "table": [
           {
            "cells": {
             "fill": {
              "color": "#EBF0F8"
             },
             "line": {
              "color": "white"
             }
            },
            "header": {
             "fill": {
              "color": "#C8D4E3"
             },
             "line": {
              "color": "white"
             }
            },
            "type": "table"
           }
          ]
         },
         "layout": {
          "annotationdefaults": {
           "arrowcolor": "#2a3f5f",
           "arrowhead": 0,
           "arrowwidth": 1
          },
          "autotypenumbers": "strict",
          "coloraxis": {
           "colorbar": {
            "outlinewidth": 0,
            "ticks": ""
           }
          },
          "colorscale": {
           "diverging": [
            [
             0,
             "#8e0152"
            ],
            [
             0.1,
             "#c51b7d"
            ],
            [
             0.2,
             "#de77ae"
            ],
            [
             0.3,
             "#f1b6da"
            ],
            [
             0.4,
             "#fde0ef"
            ],
            [
             0.5,
             "#f7f7f7"
            ],
            [
             0.6,
             "#e6f5d0"
            ],
            [
             0.7,
             "#b8e186"
            ],
            [
             0.8,
             "#7fbc41"
            ],
            [
             0.9,
             "#4d9221"
            ],
            [
             1,
             "#276419"
            ]
           ],
           "sequential": [
            [
             0,
             "#0d0887"
            ],
            [
             0.1111111111111111,
             "#46039f"
            ],
            [
             0.2222222222222222,
             "#7201a8"
            ],
            [
             0.3333333333333333,
             "#9c179e"
            ],
            [
             0.4444444444444444,
             "#bd3786"
            ],
            [
             0.5555555555555556,
             "#d8576b"
            ],
            [
             0.6666666666666666,
             "#ed7953"
            ],
            [
             0.7777777777777778,
             "#fb9f3a"
            ],
            [
             0.8888888888888888,
             "#fdca26"
            ],
            [
             1,
             "#f0f921"
            ]
           ],
           "sequentialminus": [
            [
             0,
             "#0d0887"
            ],
            [
             0.1111111111111111,
             "#46039f"
            ],
            [
             0.2222222222222222,
             "#7201a8"
            ],
            [
             0.3333333333333333,
             "#9c179e"
            ],
            [
             0.4444444444444444,
             "#bd3786"
            ],
            [
             0.5555555555555556,
             "#d8576b"
            ],
            [
             0.6666666666666666,
             "#ed7953"
            ],
            [
             0.7777777777777778,
             "#fb9f3a"
            ],
            [
             0.8888888888888888,
             "#fdca26"
            ],
            [
             1,
             "#f0f921"
            ]
           ]
          },
          "colorway": [
           "#636efa",
           "#EF553B",
           "#00cc96",
           "#ab63fa",
           "#FFA15A",
           "#19d3f3",
           "#FF6692",
           "#B6E880",
           "#FF97FF",
           "#FECB52"
          ],
          "font": {
           "color": "#2a3f5f"
          },
          "geo": {
           "bgcolor": "white",
           "lakecolor": "white",
           "landcolor": "#E5ECF6",
           "showlakes": true,
           "showland": true,
           "subunitcolor": "white"
          },
          "hoverlabel": {
           "align": "left"
          },
          "hovermode": "closest",
          "mapbox": {
           "style": "light"
          },
          "paper_bgcolor": "white",
          "plot_bgcolor": "#E5ECF6",
          "polar": {
           "angularaxis": {
            "gridcolor": "white",
            "linecolor": "white",
            "ticks": ""
           },
           "bgcolor": "#E5ECF6",
           "radialaxis": {
            "gridcolor": "white",
            "linecolor": "white",
            "ticks": ""
           }
          },
          "scene": {
           "xaxis": {
            "backgroundcolor": "#E5ECF6",
            "gridcolor": "white",
            "gridwidth": 2,
            "linecolor": "white",
            "showbackground": true,
            "ticks": "",
            "zerolinecolor": "white"
           },
           "yaxis": {
            "backgroundcolor": "#E5ECF6",
            "gridcolor": "white",
            "gridwidth": 2,
            "linecolor": "white",
            "showbackground": true,
            "ticks": "",
            "zerolinecolor": "white"
           },
           "zaxis": {
            "backgroundcolor": "#E5ECF6",
            "gridcolor": "white",
            "gridwidth": 2,
            "linecolor": "white",
            "showbackground": true,
            "ticks": "",
            "zerolinecolor": "white"
           }
          },
          "shapedefaults": {
           "line": {
            "color": "#2a3f5f"
           }
          },
          "ternary": {
           "aaxis": {
            "gridcolor": "white",
            "linecolor": "white",
            "ticks": ""
           },
           "baxis": {
            "gridcolor": "white",
            "linecolor": "white",
            "ticks": ""
           },
           "bgcolor": "#E5ECF6",
           "caxis": {
            "gridcolor": "white",
            "linecolor": "white",
            "ticks": ""
           }
          },
          "title": {
           "x": 0.05
          },
          "xaxis": {
           "automargin": true,
           "gridcolor": "white",
           "linecolor": "white",
           "ticks": "",
           "title": {
            "standoff": 15
           },
           "zerolinecolor": "white",
           "zerolinewidth": 2
          },
          "yaxis": {
           "automargin": true,
           "gridcolor": "white",
           "linecolor": "white",
           "ticks": "",
           "title": {
            "standoff": 15
           },
           "zerolinecolor": "white",
           "zerolinewidth": 2
          }
         }
        },
        "title": {
         "text": "Import Coefficients by Country"
        }
       }
      }
     },
     "metadata": {},
     "output_type": "display_data"
    },
    {
     "data": {
      "application/vnd.plotly.v1+json": {
       "config": {
        "plotlyServerURL": "https://plot.ly"
       },
       "data": [
        {
         "autocolorscale": false,
         "colorbar": {
          "title": {
           "text": "Export Coefficient"
          }
         },
         "colorscale": [
          [
           0,
           "rgb(247,251,255)"
          ],
          [
           0.125,
           "rgb(222,235,247)"
          ],
          [
           0.25,
           "rgb(198,219,239)"
          ],
          [
           0.375,
           "rgb(158,202,225)"
          ],
          [
           0.5,
           "rgb(107,174,214)"
          ],
          [
           0.625,
           "rgb(66,146,198)"
          ],
          [
           0.75,
           "rgb(33,113,181)"
          ],
          [
           0.875,
           "rgb(8,81,156)"
          ],
          [
           1,
           "rgb(8,48,107)"
          ]
         ],
         "locations": [
          "AGO",
          "ALB",
          "ARE",
          "ARG",
          "AUS",
          "AUT",
          "BEL",
          "BGR",
          "BIH",
          "BLR",
          "BLZ",
          "BOL",
          "BRA",
          "BRN",
          "BWA",
          "CAN",
          "CHE",
          "CHL",
          "COL",
          "CRI",
          "CYP",
          "CZE",
          "DEU",
          "DNK",
          "DOM",
          "ECU",
          "EGY",
          "ESP",
          "EST",
          "FIN",
          "FRA",
          "GBR",
          "GEO",
          "GHA",
          "GRC",
          "GTM",
          "HKG",
          "HND",
          "HRV",
          "HUN",
          "IDN",
          "IND",
          "IRL",
          "IRN",
          "ISL",
          "ISR",
          "ITA",
          "JAM",
          "JOR",
          "JPN",
          "KGZ",
          "KHM",
          "KOR",
          "LKA",
          "LTU",
          "LUX",
          "LVA",
          "MDA",
          "MEX",
          "MKD",
          "MLT",
          "MNE",
          "MNG",
          "MUS",
          "MYS",
          "NAM",
          "NLD",
          "NOR",
          "PAK",
          "PAN",
          "PER",
          "PHL",
          "POL",
          "PRT",
          "PRY",
          "PSE",
          "ROU",
          "RUS",
          "RWA",
          "SGP",
          "SLV",
          "SRB",
          "SVK",
          "SVN",
          "SWE",
          "SYC",
          "THA",
          "TTO",
          "TUR",
          "TZA",
          "UGA",
          "UKR",
          "URY",
          "USA",
          "VEN",
          "VNM",
          "ZAF",
          "ZMB",
          "ZWE"
         ],
         "marker": {
          "line": {
           "color": "darkgray",
           "width": 0.5
          }
         },
         "reversescale": false,
         "text": [
          "AGO",
          "ALB",
          "ARE",
          "ARG",
          "AUS",
          "AUT",
          "BEL",
          "BGR",
          "BIH",
          "BLR",
          "BLZ",
          "BOL",
          "BRA",
          "BRN",
          "BWA",
          "CAN",
          "CHE",
          "CHL",
          "COL",
          "CRI",
          "CYP",
          "CZE",
          "DEU",
          "DNK",
          "DOM",
          "ECU",
          "EGY",
          "ESP",
          "EST",
          "FIN",
          "FRA",
          "GBR",
          "GEO",
          "GHA",
          "GRC",
          "GTM",
          "HKG",
          "HND",
          "HRV",
          "HUN",
          "IDN",
          "IND",
          "IRL",
          "IRN",
          "ISL",
          "ISR",
          "ITA",
          "JAM",
          "JOR",
          "JPN",
          "KGZ",
          "KHM",
          "KOR",
          "LKA",
          "LTU",
          "LUX",
          "LVA",
          "MDA",
          "MEX",
          "MKD",
          "MLT",
          "MNE",
          "MNG",
          "MUS",
          "MYS",
          "NAM",
          "NLD",
          "NOR",
          "PAK",
          "PAN",
          "PER",
          "PHL",
          "POL",
          "PRT",
          "PRY",
          "PSE",
          "ROU",
          "RUS",
          "RWA",
          "SGP",
          "SLV",
          "SRB",
          "SVK",
          "SVN",
          "SWE",
          "SYC",
          "THA",
          "TTO",
          "TUR",
          "TZA",
          "UGA",
          "UKR",
          "URY",
          "USA",
          "VEN",
          "VNM",
          "ZAF",
          "ZMB",
          "ZWE"
         ],
         "type": "choropleth",
         "z": {
          "bdata": "GN86FVcowz+0v4xflvPRvxAmOMaOUwtAcQWByJQisz+bPpi85QiJP4DOFJQ6KtS/1cECew5ph79QQNrIVVzgv+440Hxys9K/VFcCVA6Vo79jZ1bGyG3MvyFQDfxrvr8/Jum5Cm04ub/yhuLjrEjZv6ICc1pyL8i/KG5MrH460L+DLEwrqpXRv71YscyXR7G/mZhdwCBoZj99jcB4OUCrP8Cpj2jIiMa/qYw4iR2Uwz8ReOBG+gihP8ZgPjCyv8m/jc6F81wanr/iu0bT4Rbcv6IAhJJ/ULK/bjnMGgeg7b9fxX6n43W0v72CtxN2Xt0/B+CqtArDpz/JbwYct5HLP6nFOdNXk3c/gH4BPxlM0j+C44vlY8PgvxalYbs9yNM/Ro0kzCoD2r+wb6PwKqi+v8qncH0aw62/X0vuIz8pzr/fwQ6peA6ovz0vilJs7OG/bkQv+XJCpj/JBtCw3DDIP3VfHbaos7c/tUQD3iwm1z+fQTYc0XmHv5GaWndcidQ/Xe845/nvvz8VESZugz2Fvymj6zRFar4/CCc3uXwyvr/NePwmDgCDP94nccYYcQzA8CI4UtzJ2L9MEwO3gMHnP6CcKB6vbOC/6XtynFfsuz8biADkMw3gv2S/UvKGXsQ/WTw6SNp2vD9m3H0ImKLGP7s9DR4QVaa/xfdLomF9p7+SIFmd2kTaP0aMyTX5M9C/FR3uv0Oz4r+Pn4D8WlB7vzkWkHt5WZS/7v59x9s8xT+LhIjKTELHP0QIhJM/Oci/ZgO6mofs/D8UBSLJSy/Tv8dhuxYJrbM/snB1VDrnzL8fhR2X2UjBvygoAX1qI6g/kskPUiGeyj83UGkYDRftP0zUwH3DTdI/8N9eN8PQyL9vTlmbcEDuPwRZV4gMEOQ/rq1RfEspyT/cz7GDFSHFvxZyarT7s+U/Vvx7mFTLeT8uAeyd2vDYP8RvoThu1es/hcHn5nVO0b9AWS4xvtGpP1V4Gjk+MJe/606STRSfuj9cKcGB6Pawv39mgqdg8Gi/tNdFwx3RzL9tlj/b74GQvypOVDD+deM/",
          "dtype": "f8"
         }
        }
       ],
       "layout": {
        "geo": {
         "projection": {
          "type": "equirectangular"
         },
         "showcoastlines": false,
         "showframe": false
        },
        "template": {
         "data": {
          "bar": [
           {
            "error_x": {
             "color": "#2a3f5f"
            },
            "error_y": {
             "color": "#2a3f5f"
            },
            "marker": {
             "line": {
              "color": "#E5ECF6",
              "width": 0.5
             },
             "pattern": {
              "fillmode": "overlay",
              "size": 10,
              "solidity": 0.2
             }
            },
            "type": "bar"
           }
          ],
          "barpolar": [
           {
            "marker": {
             "line": {
              "color": "#E5ECF6",
              "width": 0.5
             },
             "pattern": {
              "fillmode": "overlay",
              "size": 10,
              "solidity": 0.2
             }
            },
            "type": "barpolar"
           }
          ],
          "carpet": [
           {
            "aaxis": {
             "endlinecolor": "#2a3f5f",
             "gridcolor": "white",
             "linecolor": "white",
             "minorgridcolor": "white",
             "startlinecolor": "#2a3f5f"
            },
            "baxis": {
             "endlinecolor": "#2a3f5f",
             "gridcolor": "white",
             "linecolor": "white",
             "minorgridcolor": "white",
             "startlinecolor": "#2a3f5f"
            },
            "type": "carpet"
           }
          ],
          "choropleth": [
           {
            "colorbar": {
             "outlinewidth": 0,
             "ticks": ""
            },
            "type": "choropleth"
           }
          ],
          "contour": [
           {
            "colorbar": {
             "outlinewidth": 0,
             "ticks": ""
            },
            "colorscale": [
             [
              0,
              "#0d0887"
             ],
             [
              0.1111111111111111,
              "#46039f"
             ],
             [
              0.2222222222222222,
              "#7201a8"
             ],
             [
              0.3333333333333333,
              "#9c179e"
             ],
             [
              0.4444444444444444,
              "#bd3786"
             ],
             [
              0.5555555555555556,
              "#d8576b"
             ],
             [
              0.6666666666666666,
              "#ed7953"
             ],
             [
              0.7777777777777778,
              "#fb9f3a"
             ],
             [
              0.8888888888888888,
              "#fdca26"
             ],
             [
              1,
              "#f0f921"
             ]
            ],
            "type": "contour"
           }
          ],
          "contourcarpet": [
           {
            "colorbar": {
             "outlinewidth": 0,
             "ticks": ""
            },
            "type": "contourcarpet"
           }
          ],
          "heatmap": [
           {
            "colorbar": {
             "outlinewidth": 0,
             "ticks": ""
            },
            "colorscale": [
             [
              0,
              "#0d0887"
             ],
             [
              0.1111111111111111,
              "#46039f"
             ],
             [
              0.2222222222222222,
              "#7201a8"
             ],
             [
              0.3333333333333333,
              "#9c179e"
             ],
             [
              0.4444444444444444,
              "#bd3786"
             ],
             [
              0.5555555555555556,
              "#d8576b"
             ],
             [
              0.6666666666666666,
              "#ed7953"
             ],
             [
              0.7777777777777778,
              "#fb9f3a"
             ],
             [
              0.8888888888888888,
              "#fdca26"
             ],
             [
              1,
              "#f0f921"
             ]
            ],
            "type": "heatmap"
           }
          ],
          "histogram": [
           {
            "marker": {
             "pattern": {
              "fillmode": "overlay",
              "size": 10,
              "solidity": 0.2
             }
            },
            "type": "histogram"
           }
          ],
          "histogram2d": [
           {
            "colorbar": {
             "outlinewidth": 0,
             "ticks": ""
            },
            "colorscale": [
             [
              0,
              "#0d0887"
             ],
             [
              0.1111111111111111,
              "#46039f"
             ],
             [
              0.2222222222222222,
              "#7201a8"
             ],
             [
              0.3333333333333333,
              "#9c179e"
             ],
             [
              0.4444444444444444,
              "#bd3786"
             ],
             [
              0.5555555555555556,
              "#d8576b"
             ],
             [
              0.6666666666666666,
              "#ed7953"
             ],
             [
              0.7777777777777778,
              "#fb9f3a"
             ],
             [
              0.8888888888888888,
              "#fdca26"
             ],
             [
              1,
              "#f0f921"
             ]
            ],
            "type": "histogram2d"
           }
          ],
          "histogram2dcontour": [
           {
            "colorbar": {
             "outlinewidth": 0,
             "ticks": ""
            },
            "colorscale": [
             [
              0,
              "#0d0887"
             ],
             [
              0.1111111111111111,
              "#46039f"
             ],
             [
              0.2222222222222222,
              "#7201a8"
             ],
             [
              0.3333333333333333,
              "#9c179e"
             ],
             [
              0.4444444444444444,
              "#bd3786"
             ],
             [
              0.5555555555555556,
              "#d8576b"
             ],
             [
              0.6666666666666666,
              "#ed7953"
             ],
             [
              0.7777777777777778,
              "#fb9f3a"
             ],
             [
              0.8888888888888888,
              "#fdca26"
             ],
             [
              1,
              "#f0f921"
             ]
            ],
            "type": "histogram2dcontour"
           }
          ],
          "mesh3d": [
           {
            "colorbar": {
             "outlinewidth": 0,
             "ticks": ""
            },
            "type": "mesh3d"
           }
          ],
          "parcoords": [
           {
            "line": {
             "colorbar": {
              "outlinewidth": 0,
              "ticks": ""
             }
            },
            "type": "parcoords"
           }
          ],
          "pie": [
           {
            "automargin": true,
            "type": "pie"
           }
          ],
          "scatter": [
           {
            "fillpattern": {
             "fillmode": "overlay",
             "size": 10,
             "solidity": 0.2
            },
            "type": "scatter"
           }
          ],
          "scatter3d": [
           {
            "line": {
             "colorbar": {
              "outlinewidth": 0,
              "ticks": ""
             }
            },
            "marker": {
             "colorbar": {
              "outlinewidth": 0,
              "ticks": ""
             }
            },
            "type": "scatter3d"
           }
          ],
          "scattercarpet": [
           {
            "marker": {
             "colorbar": {
              "outlinewidth": 0,
              "ticks": ""
             }
            },
            "type": "scattercarpet"
           }
          ],
          "scattergeo": [
           {
            "marker": {
             "colorbar": {
              "outlinewidth": 0,
              "ticks": ""
             }
            },
            "type": "scattergeo"
           }
          ],
          "scattergl": [
           {
            "marker": {
             "colorbar": {
              "outlinewidth": 0,
              "ticks": ""
             }
            },
            "type": "scattergl"
           }
          ],
          "scattermap": [
           {
            "marker": {
             "colorbar": {
              "outlinewidth": 0,
              "ticks": ""
             }
            },
            "type": "scattermap"
           }
          ],
          "scattermapbox": [
           {
            "marker": {
             "colorbar": {
              "outlinewidth": 0,
              "ticks": ""
             }
            },
            "type": "scattermapbox"
           }
          ],
          "scatterpolar": [
           {
            "marker": {
             "colorbar": {
              "outlinewidth": 0,
              "ticks": ""
             }
            },
            "type": "scatterpolar"
           }
          ],
          "scatterpolargl": [
           {
            "marker": {
             "colorbar": {
              "outlinewidth": 0,
              "ticks": ""
             }
            },
            "type": "scatterpolargl"
           }
          ],
          "scatterternary": [
           {
            "marker": {
             "colorbar": {
              "outlinewidth": 0,
              "ticks": ""
             }
            },
            "type": "scatterternary"
           }
          ],
          "surface": [
           {
            "colorbar": {
             "outlinewidth": 0,
             "ticks": ""
            },
            "colorscale": [
             [
              0,
              "#0d0887"
             ],
             [
              0.1111111111111111,
              "#46039f"
             ],
             [
              0.2222222222222222,
              "#7201a8"
             ],
             [
              0.3333333333333333,
              "#9c179e"
             ],
             [
              0.4444444444444444,
              "#bd3786"
             ],
             [
              0.5555555555555556,
              "#d8576b"
             ],
             [
              0.6666666666666666,
              "#ed7953"
             ],
             [
              0.7777777777777778,
              "#fb9f3a"
             ],
             [
              0.8888888888888888,
              "#fdca26"
             ],
             [
              1,
              "#f0f921"
             ]
            ],
            "type": "surface"
           }
          ],
          "table": [
           {
            "cells": {
             "fill": {
              "color": "#EBF0F8"
             },
             "line": {
              "color": "white"
             }
            },
            "header": {
             "fill": {
              "color": "#C8D4E3"
             },
             "line": {
              "color": "white"
             }
            },
            "type": "table"
           }
          ]
         },
         "layout": {
          "annotationdefaults": {
           "arrowcolor": "#2a3f5f",
           "arrowhead": 0,
           "arrowwidth": 1
          },
          "autotypenumbers": "strict",
          "coloraxis": {
           "colorbar": {
            "outlinewidth": 0,
            "ticks": ""
           }
          },
          "colorscale": {
           "diverging": [
            [
             0,
             "#8e0152"
            ],
            [
             0.1,
             "#c51b7d"
            ],
            [
             0.2,
             "#de77ae"
            ],
            [
             0.3,
             "#f1b6da"
            ],
            [
             0.4,
             "#fde0ef"
            ],
            [
             0.5,
             "#f7f7f7"
            ],
            [
             0.6,
             "#e6f5d0"
            ],
            [
             0.7,
             "#b8e186"
            ],
            [
             0.8,
             "#7fbc41"
            ],
            [
             0.9,
             "#4d9221"
            ],
            [
             1,
             "#276419"
            ]
           ],
           "sequential": [
            [
             0,
             "#0d0887"
            ],
            [
             0.1111111111111111,
             "#46039f"
            ],
            [
             0.2222222222222222,
             "#7201a8"
            ],
            [
             0.3333333333333333,
             "#9c179e"
            ],
            [
             0.4444444444444444,
             "#bd3786"
            ],
            [
             0.5555555555555556,
             "#d8576b"
            ],
            [
             0.6666666666666666,
             "#ed7953"
            ],
            [
             0.7777777777777778,
             "#fb9f3a"
            ],
            [
             0.8888888888888888,
             "#fdca26"
            ],
            [
             1,
             "#f0f921"
            ]
           ],
           "sequentialminus": [
            [
             0,
             "#0d0887"
            ],
            [
             0.1111111111111111,
             "#46039f"
            ],
            [
             0.2222222222222222,
             "#7201a8"
            ],
            [
             0.3333333333333333,
             "#9c179e"
            ],
            [
             0.4444444444444444,
             "#bd3786"
            ],
            [
             0.5555555555555556,
             "#d8576b"
            ],
            [
             0.6666666666666666,
             "#ed7953"
            ],
            [
             0.7777777777777778,
             "#fb9f3a"
            ],
            [
             0.8888888888888888,
             "#fdca26"
            ],
            [
             1,
             "#f0f921"
            ]
           ]
          },
          "colorway": [
           "#636efa",
           "#EF553B",
           "#00cc96",
           "#ab63fa",
           "#FFA15A",
           "#19d3f3",
           "#FF6692",
           "#B6E880",
           "#FF97FF",
           "#FECB52"
          ],
          "font": {
           "color": "#2a3f5f"
          },
          "geo": {
           "bgcolor": "white",
           "lakecolor": "white",
           "landcolor": "#E5ECF6",
           "showlakes": true,
           "showland": true,
           "subunitcolor": "white"
          },
          "hoverlabel": {
           "align": "left"
          },
          "hovermode": "closest",
          "mapbox": {
           "style": "light"
          },
          "paper_bgcolor": "white",
          "plot_bgcolor": "#E5ECF6",
          "polar": {
           "angularaxis": {
            "gridcolor": "white",
            "linecolor": "white",
            "ticks": ""
           },
           "bgcolor": "#E5ECF6",
           "radialaxis": {
            "gridcolor": "white",
            "linecolor": "white",
            "ticks": ""
           }
          },
          "scene": {
           "xaxis": {
            "backgroundcolor": "#E5ECF6",
            "gridcolor": "white",
            "gridwidth": 2,
            "linecolor": "white",
            "showbackground": true,
            "ticks": "",
            "zerolinecolor": "white"
           },
           "yaxis": {
            "backgroundcolor": "#E5ECF6",
            "gridcolor": "white",
            "gridwidth": 2,
            "linecolor": "white",
            "showbackground": true,
            "ticks": "",
            "zerolinecolor": "white"
           },
           "zaxis": {
            "backgroundcolor": "#E5ECF6",
            "gridcolor": "white",
            "gridwidth": 2,
            "linecolor": "white",
            "showbackground": true,
            "ticks": "",
            "zerolinecolor": "white"
           }
          },
          "shapedefaults": {
           "line": {
            "color": "#2a3f5f"
           }
          },
          "ternary": {
           "aaxis": {
            "gridcolor": "white",
            "linecolor": "white",
            "ticks": ""
           },
           "baxis": {
            "gridcolor": "white",
            "linecolor": "white",
            "ticks": ""
           },
           "bgcolor": "#E5ECF6",
           "caxis": {
            "gridcolor": "white",
            "linecolor": "white",
            "ticks": ""
           }
          },
          "title": {
           "x": 0.05
          },
          "xaxis": {
           "automargin": true,
           "gridcolor": "white",
           "linecolor": "white",
           "ticks": "",
           "title": {
            "standoff": 15
           },
           "zerolinecolor": "white",
           "zerolinewidth": 2
          },
          "yaxis": {
           "automargin": true,
           "gridcolor": "white",
           "linecolor": "white",
           "ticks": "",
           "title": {
            "standoff": 15
           },
           "zerolinecolor": "white",
           "zerolinewidth": 2
          }
         }
        },
        "title": {
         "text": "Export Coefficients by Country"
        }
       }
      }
     },
     "metadata": {},
     "output_type": "display_data"
    }
   ],
   "source": [
    "# Create a new column for the country codes\n",
    "trends_df['country_code'] = trends_df['country'].apply(lambda x: x[:3])  \n",
    "\n",
    "# Define the figure\n",
    "fig = go.Figure(data=go.Choropleth(\n",
    "    locations=trends_df['country_code'],  \n",
    "    z=trends_df['Import_Coefficient'].astype(float),  \n",
    "    text=trends_df['country'],  \n",
    "    colorscale='Reds',  \n",
    "    autocolorscale=False,\n",
    "    reversescale=False,\n",
    "    marker_line_color='darkgray',\n",
    "    marker_line_width=0.5,\n",
    "    colorbar_title='Import Coefficient',\n",
    "))\n",
    "\n",
    "fig.update_layout(\n",
    "    title_text='Import Coefficients by Country',\n",
    "    geo=dict(\n",
    "        showframe=False,\n",
    "        showcoastlines=False,\n",
    "        projection_type='equirectangular',\n",
    "    ),\n",
    ")\n",
    "\n",
    "fig.show()\n",
    "\n",
    "# Create another figure for the export coefficients\n",
    "fig_export = go.Figure(data=go.Choropleth(\n",
    "    locations=trends_df['country_code'],  \n",
    "    z=trends_df['Export_Coefficient'].astype(float), \n",
    "    text=trends_df['country'],  \n",
    "    colorscale='Blues',  \n",
    "    autocolorscale=False,\n",
    "    reversescale=False,\n",
    "    marker_line_color='darkgray',\n",
    "    marker_line_width=0.5,\n",
    "    colorbar_title='Export Coefficient',\n",
    "))\n",
    "\n",
    "fig_export.update_layout(\n",
    "    title_text='Export Coefficients by Country',\n",
    "    geo=dict(\n",
    "        showframe=False,\n",
    "        showcoastlines=False,\n",
    "        projection_type='equirectangular',\n",
    "    ),\n",
    ")\n",
    "\n",
    "# Show the plot\n",
    "fig_export.show()"
   ]
  }
 ],
 "metadata": {
  "kernelspec": {
   "display_name": "venv",
   "language": "python",
   "name": "python3"
  },
  "language_info": {
   "codemirror_mode": {
    "name": "ipython",
    "version": 3
   },
   "file_extension": ".py",
   "mimetype": "text/x-python",
   "name": "python",
   "nbconvert_exporter": "python",
   "pygments_lexer": "ipython3",
   "version": "3.12.4"
  }
 },
 "nbformat": 4,
 "nbformat_minor": 5
}
