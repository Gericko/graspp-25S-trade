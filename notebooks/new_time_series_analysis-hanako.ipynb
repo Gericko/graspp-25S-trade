{
 "cells": [
  {
   "cell_type": "markdown",
   "id": "fbcbc4da5ebf0b94",
   "metadata": {},
   "source": [
    "### Activate the auto-reload"
   ]
  },
  {
   "cell_type": "code",
   "execution_count": 19,
   "id": "5e1e7bda7b78e798",
   "metadata": {
    "ExecuteTime": {
     "end_time": "2025-05-18T14:53:02.414481Z",
     "start_time": "2025-05-18T14:53:02.349429Z"
    }
   },
   "outputs": [
    {
     "name": "stdout",
     "output_type": "stream",
     "text": [
      "The autoreload extension is already loaded. To reload it, use:\n",
      "  %reload_ext autoreload\n"
     ]
    }
   ],
   "source": [
    "%load_ext autoreload\n",
    "%autoreload 2"
   ]
  },
  {
   "cell_type": "markdown",
   "id": "6b87ade4e0e26e06",
   "metadata": {},
   "source": [
    "### Import the libraries"
   ]
  },
  {
   "cell_type": "code",
   "execution_count": 20,
   "id": "8933501574284a4d",
   "metadata": {
    "ExecuteTime": {
     "end_time": "2025-05-18T14:53:02.661080Z",
     "start_time": "2025-05-18T14:53:02.491315Z"
    }
   },
   "outputs": [],
   "source": [
    "import sys\n",
    "from pathlib import Path\n",
    "import os\n",
    "import pandas as pd\n",
    "import matplotlib.pyplot as plt\n",
    "import seaborn as sns\n",
    "import statsmodels.formula.api as smf"
   ]
  },
  {
   "cell_type": "markdown",
   "id": "89fe230d82ab86bd",
   "metadata": {},
   "source": [
    "### Set file path to parent directory"
   ]
  },
  {
   "cell_type": "code",
   "execution_count": 21,
   "id": "cbe5994394573a12",
   "metadata": {
    "ExecuteTime": {
     "end_time": "2025-05-18T14:53:02.680060Z",
     "start_time": "2025-05-18T14:53:02.668728Z"
    }
   },
   "outputs": [],
   "source": [
    "sys.path.append(str(Path().resolve().parent / \"src\"))\n",
    "os.chdir(\"../\")"
   ]
  },
  {
   "cell_type": "markdown",
   "id": "f438280214074aa5",
   "metadata": {},
   "source": [
    "### Import the homemade functions"
   ]
  },
  {
   "cell_type": "code",
   "execution_count": 22,
   "id": "48d107d055f745f8",
   "metadata": {
    "ExecuteTime": {
     "end_time": "2025-05-18T14:53:02.721235Z",
     "start_time": "2025-05-18T14:53:02.687460Z"
    }
   },
   "outputs": [],
   "source": [
    "from src.data.data_import import DataImporter"
   ]
  },
  {
   "cell_type": "markdown",
   "id": "8becc7dfd1bb3643",
   "metadata": {},
   "source": [
    "### Get the API keys to access UN data\n",
    "\n",
    "How-to available at this address: [https://uncomtrade.org/docs/api-subscription-keys/](https://uncomtrade.org/docs/api-subscription-keys/)"
   ]
  },
  {
   "cell_type": "code",
   "execution_count": 23,
   "id": "c502da3b93276179",
   "metadata": {
    "ExecuteTime": {
     "end_time": "2025-05-18T14:53:02.739722Z",
     "start_time": "2025-05-18T14:53:02.728221Z"
    }
   },
   "outputs": [],
   "source": [
    "UN_API_KEY = \"1b9e65d70d9f4e1c8323548618cf877f\""
   ]
  },
  {
   "cell_type": "markdown",
   "id": "54bdc9600c9abd25",
   "metadata": {},
   "source": [
    "# Import the data"
   ]
  },
  {
   "cell_type": "code",
   "execution_count": 24,
   "id": "20bc4e693ccd0799",
   "metadata": {
    "ExecuteTime": {
     "end_time": "2025-05-18T14:53:02.829050Z",
     "start_time": "2025-05-18T14:53:02.749712Z"
    }
   },
   "outputs": [
    {
     "name": "stdout",
     "output_type": "stream",
     "text": [
      "Reading merged data from: /Users/nakamurahanako/Documents/GitHub/graspp-25S-trade/data/interim/merge.csv\n"
     ]
    },
    {
     "data": {
      "text/html": [
       "<div>\n",
       "<style scoped>\n",
       "    .dataframe tbody tr th:only-of-type {\n",
       "        vertical-align: middle;\n",
       "    }\n",
       "\n",
       "    .dataframe tbody tr th {\n",
       "        vertical-align: top;\n",
       "    }\n",
       "\n",
       "    .dataframe thead th {\n",
       "        text-align: right;\n",
       "    }\n",
       "</style>\n",
       "<table border=\"1\" class=\"dataframe\">\n",
       "  <thead>\n",
       "    <tr style=\"text-align: right;\">\n",
       "      <th></th>\n",
       "      <th></th>\n",
       "      <th>Export</th>\n",
       "      <th>Import</th>\n",
       "      <th>ILO</th>\n",
       "    </tr>\n",
       "    <tr>\n",
       "      <th>country</th>\n",
       "      <th>year</th>\n",
       "      <th></th>\n",
       "      <th></th>\n",
       "      <th></th>\n",
       "    </tr>\n",
       "  </thead>\n",
       "  <tbody>\n",
       "    <tr>\n",
       "      <th>ABW</th>\n",
       "      <th>2010</th>\n",
       "      <td>124523218.0</td>\n",
       "      <td>1.071034e+09</td>\n",
       "      <td>6.738</td>\n",
       "    </tr>\n",
       "    <tr>\n",
       "      <th>AFG</th>\n",
       "      <th>2014</th>\n",
       "      <td>570534007.0</td>\n",
       "      <td>7.697178e+09</td>\n",
       "      <td>1389.950</td>\n",
       "    </tr>\n",
       "  </tbody>\n",
       "</table>\n",
       "</div>"
      ],
      "text/plain": [
       "                   Export        Import       ILO\n",
       "country year                                     \n",
       "ABW     2010  124523218.0  1.071034e+09     6.738\n",
       "AFG     2014  570534007.0  7.697178e+09  1389.950"
      ]
     },
     "execution_count": 24,
     "metadata": {},
     "output_type": "execute_result"
    }
   ],
   "source": [
    "importer = DataImporter(api_key=UN_API_KEY)\n",
    "df = importer.get_merged_data()\n",
    "df.head(2)"
   ]
  },
  {
   "cell_type": "markdown",
   "id": "70668b66",
   "metadata": {},
   "source": [
    "## Time Series Analysis of Export and Employment of the US"
   ]
  },
  {
   "cell_type": "code",
   "execution_count": 25,
   "id": "618ab28e",
   "metadata": {},
   "outputs": [
    {
     "name": "stdout",
     "output_type": "stream",
     "text": [
      "            Export        Import        ILO\n",
      "year                                       \n",
      "2003  7.247366e+11  1.302834e+12  30560.423\n",
      "2004  8.148444e+11  1.525304e+12  30825.738\n",
      "2005  9.010414e+11  1.734849e+12  31195.043\n",
      "2006  1.037029e+12  1.918997e+12  31921.004\n",
      "2007  1.162538e+12  2.017121e+12  31963.932\n"
     ]
    }
   ],
   "source": [
    "usa_df = df.loc['USA']\n",
    "print(usa_df.head())"
   ]
  },
  {
   "cell_type": "code",
   "execution_count": 26,
   "id": "88bc7d1a",
   "metadata": {},
   "outputs": [],
   "source": [
    "usa_df = df.loc['USA'].copy()\n",
    "\n",
    "usa_df = usa_df.reset_index()"
   ]
  },
  {
   "cell_type": "code",
   "execution_count": 27,
   "id": "efce95d1",
   "metadata": {},
   "outputs": [
    {
     "data": {
      "image/png": "[encoded data removed]",
      "text/plain": [
       "<Figure size 1200x600 with 1 Axes>"
      ]
     },
     "metadata": {},
     "output_type": "display_data"
    }
   ],
   "source": [
    "import matplotlib.pyplot as plt\n",
    "import pandas as pd\n",
    "\n",
    "# Convert year to datetime\n",
    "usa_df['year'] = pd.to_datetime(usa_df['year'], format='%Y')\n",
    "\n",
    "# Sort by year\n",
    "usa_df.sort_values('year', inplace=True)\n",
    "\n",
    "# Plot\n",
    "plt.figure(figsize=(12, 6))\n",
    "plt.plot(usa_df['year'], usa_df['Export'], label='Export', marker='o')\n",
    "plt.plot(usa_df['year'], usa_df['ILO'], label='ILO (Employment)', marker='s')\n",
    "\n",
    "plt.title('USA Export and Employment Over Time')\n",
    "plt.xlabel('Year')\n",
    "plt.ylabel('Values')\n",
    "plt.legend()\n",
    "plt.grid(True)\n",
    "plt.tight_layout()\n",
    "plt.show()"
   ]
  }
 ],
 "metadata": {
  "kernelspec": {
   "display_name": "venv",
   "language": "python",
   "name": "python3"
  },
  "language_info": {
   "codemirror_mode": {
    "name": "ipython",
    "version": 3
   },
   "file_extension": ".py",
   "mimetype": "text/x-python",
   "name": "python",
   "nbconvert_exporter": "python",
   "pygments_lexer": "ipython3",
   "version": "3.9.6"
  }
 },
 "nbformat": 4,
 "nbformat_minor": 5
}
