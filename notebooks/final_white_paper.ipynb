{
 "cells": [
  {
   "cell_type": "markdown",
   "id": "543b86b8",
   "metadata": {},
   "source": [
    "### Activate the auto-reload"
   ]
  },
  {
   "cell_type": "code",
   "execution_count": 1,
   "id": "394dc054",
   "metadata": {},
   "outputs": [],
   "source": [
    "%load_ext autoreload\n",
    "%autoreload 2"
   ]
  },
  {
   "cell_type": "markdown",
   "id": "9df5153e",
   "metadata": {},
   "source": [
    "### Import the libraries"
   ]
  },
  {
   "cell_type": "code",
   "execution_count": 2,
   "id": "9d83edfc",
   "metadata": {},
   "outputs": [],
   "source": [
    "import sys\n",
    "from pathlib import Path\n",
    "import os\n",
    "import pandas as pd\n",
    "import matplotlib.pyplot as plt\n",
    "import seaborn as sns\n",
    "import statsmodels.formula.api as smf"
   ]
  },
  {
   "cell_type": "markdown",
   "id": "4ae5b1a6",
   "metadata": {},
   "source": [
    "### Set file path to parent directory"
   ]
  },
  {
   "cell_type": "code",
   "execution_count": 3,
   "id": "630fc33b",
   "metadata": {},
   "outputs": [],
   "source": [
    "sys.path.append(str(Path().resolve().parent / \"src\"))\n",
    "os.chdir(\"../\")"
   ]
  },
  {
   "cell_type": "markdown",
   "id": "dfa13b8c",
   "metadata": {},
   "source": [
    "### Import the homemade functions"
   ]
  },
  {
   "cell_type": "code",
   "execution_count": 4,
   "id": "986b0367",
   "metadata": {},
   "outputs": [
    {
     "name": "stderr",
     "output_type": "stream",
     "text": [
      "/Users/nakamurahanako/Documents/GitHub/graspp-25S-trade/venv/lib/python3.9/site-packages/urllib3/__init__.py:35: NotOpenSSLWarning: urllib3 v2 only supports OpenSSL 1.1.1+, currently the 'ssl' module is compiled with 'LibreSSL 2.8.3'. See: https://github.com/urllib3/urllib3/issues/3020\n",
      "  warnings.warn(\n"
     ]
    }
   ],
   "source": [
    "from src.data.data_import import DataImporter"
   ]
  },
  {
   "cell_type": "markdown",
   "id": "044a53e2",
   "metadata": {},
   "source": [
    "### Get the API keys to access UN data"
   ]
  },
  {
   "cell_type": "code",
   "execution_count": 6,
   "id": "902cef75",
   "metadata": {},
   "outputs": [],
   "source": [
    "UN_API_KEY = \"API key\""
   ]
  },
  {
   "cell_type": "markdown",
   "id": "c2ea4764",
   "metadata": {},
   "source": [
    "### Import the data"
   ]
  },
  {
   "cell_type": "code",
   "execution_count": 7,
   "id": "b6219444",
   "metadata": {},
   "outputs": [
    {
     "name": "stdout",
     "output_type": "stream",
     "text": [
      "Reading merged data from: /Users/nakamurahanako/Documents/GitHub/graspp-25S-trade/data/interim/merge.csv\n"
     ]
    },
    {
     "data": {
      "text/html": [
       "<div>\n",
       "<style scoped>\n",
       "    .dataframe tbody tr th:only-of-type {\n",
       "        vertical-align: middle;\n",
       "    }\n",
       "\n",
       "    .dataframe tbody tr th {\n",
       "        vertical-align: top;\n",
       "    }\n",
       "\n",
       "    .dataframe thead th {\n",
       "        text-align: right;\n",
       "    }\n",
       "</style>\n",
       "<table border=\"1\" class=\"dataframe\">\n",
       "  <thead>\n",
       "    <tr style=\"text-align: right;\">\n",
       "      <th></th>\n",
       "      <th></th>\n",
       "      <th>Export</th>\n",
       "      <th>Import</th>\n",
       "      <th>ILO</th>\n",
       "    </tr>\n",
       "    <tr>\n",
       "      <th>country</th>\n",
       "      <th>year</th>\n",
       "      <th></th>\n",
       "      <th></th>\n",
       "      <th></th>\n",
       "    </tr>\n",
       "  </thead>\n",
       "  <tbody>\n",
       "    <tr>\n",
       "      <th rowspan=\"6\" valign=\"top\">ZAF</th>\n",
       "      <th>2019</th>\n",
       "      <td>8.939599e+10</td>\n",
       "      <td>8.803749e+10</td>\n",
       "      <td>3695.811</td>\n",
       "    </tr>\n",
       "    <tr>\n",
       "      <th>2020</th>\n",
       "      <td>8.522677e+10</td>\n",
       "      <td>6.894316e+10</td>\n",
       "      <td>3232.947</td>\n",
       "    </tr>\n",
       "    <tr>\n",
       "      <th>2021</th>\n",
       "      <td>1.213213e+11</td>\n",
       "      <td>9.343956e+10</td>\n",
       "      <td>3071.708</td>\n",
       "    </tr>\n",
       "    <tr>\n",
       "      <th>2022</th>\n",
       "      <td>1.216163e+11</td>\n",
       "      <td>1.118803e+11</td>\n",
       "      <td>3319.454</td>\n",
       "    </tr>\n",
       "    <tr>\n",
       "      <th>2023</th>\n",
       "      <td>1.106075e+11</td>\n",
       "      <td>1.071227e+11</td>\n",
       "      <td>3443.831</td>\n",
       "    </tr>\n",
       "    <tr>\n",
       "      <th>2024</th>\n",
       "      <td>1.101094e+11</td>\n",
       "      <td>1.012402e+11</td>\n",
       "      <td>3563.356</td>\n",
       "    </tr>\n",
       "    <tr>\n",
       "      <th rowspan=\"8\" valign=\"top\">ZMB</th>\n",
       "      <th>2015</th>\n",
       "      <td>6.565143e+09</td>\n",
       "      <td>7.932462e+09</td>\n",
       "      <td>495.890</td>\n",
       "    </tr>\n",
       "    <tr>\n",
       "      <th>2017</th>\n",
       "      <td>8.028213e+09</td>\n",
       "      <td>8.002113e+09</td>\n",
       "      <td>466.120</td>\n",
       "    </tr>\n",
       "    <tr>\n",
       "      <th>2018</th>\n",
       "      <td>9.022458e+09</td>\n",
       "      <td>9.494920e+09</td>\n",
       "      <td>523.788</td>\n",
       "    </tr>\n",
       "    <tr>\n",
       "      <th>2019</th>\n",
       "      <td>7.039405e+09</td>\n",
       "      <td>7.173222e+09</td>\n",
       "      <td>496.325</td>\n",
       "    </tr>\n",
       "    <tr>\n",
       "      <th>2020</th>\n",
       "      <td>7.923922e+09</td>\n",
       "      <td>5.285973e+09</td>\n",
       "      <td>491.284</td>\n",
       "    </tr>\n",
       "    <tr>\n",
       "      <th>2021</th>\n",
       "      <td>1.101314e+10</td>\n",
       "      <td>6.981411e+09</td>\n",
       "      <td>582.673</td>\n",
       "    </tr>\n",
       "    <tr>\n",
       "      <th>2022</th>\n",
       "      <td>1.164277e+10</td>\n",
       "      <td>9.003919e+09</td>\n",
       "      <td>564.790</td>\n",
       "    </tr>\n",
       "    <tr>\n",
       "      <th>2023</th>\n",
       "      <td>1.043118e+10</td>\n",
       "      <td>1.012549e+10</td>\n",
       "      <td>670.902</td>\n",
       "    </tr>\n",
       "    <tr>\n",
       "      <th rowspan=\"6\" valign=\"top\">ZWE</th>\n",
       "      <th>2011</th>\n",
       "      <td>3.121209e+09</td>\n",
       "      <td>7.984010e+09</td>\n",
       "      <td>493.862</td>\n",
       "    </tr>\n",
       "    <tr>\n",
       "      <th>2014</th>\n",
       "      <td>3.871574e+09</td>\n",
       "      <td>6.069848e+09</td>\n",
       "      <td>460.792</td>\n",
       "    </tr>\n",
       "    <tr>\n",
       "      <th>2019</th>\n",
       "      <td>4.279384e+09</td>\n",
       "      <td>4.787447e+09</td>\n",
       "      <td>552.490</td>\n",
       "    </tr>\n",
       "    <tr>\n",
       "      <th>2021</th>\n",
       "      <td>6.036188e+09</td>\n",
       "      <td>7.541366e+09</td>\n",
       "      <td>715.323</td>\n",
       "    </tr>\n",
       "    <tr>\n",
       "      <th>2022</th>\n",
       "      <td>6.586208e+09</td>\n",
       "      <td>8.603710e+09</td>\n",
       "      <td>662.185</td>\n",
       "    </tr>\n",
       "    <tr>\n",
       "      <th>2023</th>\n",
       "      <td>7.225586e+09</td>\n",
       "      <td>9.201594e+09</td>\n",
       "      <td>627.991</td>\n",
       "    </tr>\n",
       "  </tbody>\n",
       "</table>\n",
       "</div>"
      ],
      "text/plain": [
       "                    Export        Import       ILO\n",
       "country year                                      \n",
       "ZAF     2019  8.939599e+10  8.803749e+10  3695.811\n",
       "        2020  8.522677e+10  6.894316e+10  3232.947\n",
       "        2021  1.213213e+11  9.343956e+10  3071.708\n",
       "        2022  1.216163e+11  1.118803e+11  3319.454\n",
       "        2023  1.106075e+11  1.071227e+11  3443.831\n",
       "        2024  1.101094e+11  1.012402e+11  3563.356\n",
       "ZMB     2015  6.565143e+09  7.932462e+09   495.890\n",
       "        2017  8.028213e+09  8.002113e+09   466.120\n",
       "        2018  9.022458e+09  9.494920e+09   523.788\n",
       "        2019  7.039405e+09  7.173222e+09   496.325\n",
       "        2020  7.923922e+09  5.285973e+09   491.284\n",
       "        2021  1.101314e+10  6.981411e+09   582.673\n",
       "        2022  1.164277e+10  9.003919e+09   564.790\n",
       "        2023  1.043118e+10  1.012549e+10   670.902\n",
       "ZWE     2011  3.121209e+09  7.984010e+09   493.862\n",
       "        2014  3.871574e+09  6.069848e+09   460.792\n",
       "        2019  4.279384e+09  4.787447e+09   552.490\n",
       "        2021  6.036188e+09  7.541366e+09   715.323\n",
       "        2022  6.586208e+09  8.603710e+09   662.185\n",
       "        2023  7.225586e+09  9.201594e+09   627.991"
      ]
     },
     "execution_count": 7,
     "metadata": {},
     "output_type": "execute_result"
    }
   ],
   "source": [
    "importer = DataImporter(api_key=\"1b9e65d70d9f4e1c8323548618cf877f\")\n",
    "df = importer.get_merged_data()\n",
    "df.head(20)\n",
    "df.tail(20)"
   ]
  }
 ],
 "metadata": {
  "kernelspec": {
   "display_name": "venv",
   "language": "python",
   "name": "python3"
  },
  "language_info": {
   "codemirror_mode": {
    "name": "ipython",
    "version": 3
   },
   "file_extension": ".py",
   "mimetype": "text/x-python",
   "name": "python",
   "nbconvert_exporter": "python",
   "pygments_lexer": "ipython3",
   "version": "3.9.6"
  }
 },
 "nbformat": 4,
 "nbformat_minor": 5
}
